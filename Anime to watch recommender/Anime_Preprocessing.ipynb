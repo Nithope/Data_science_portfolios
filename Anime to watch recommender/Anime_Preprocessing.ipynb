{
 "cells": [
  {
   "cell_type": "markdown",
   "id": "e28c0ff9-ebd7-4e75-ae31-d7406d159660",
   "metadata": {},
   "source": [
    "# User animes"
   ]
  },
  {
   "cell_type": "code",
   "execution_count": 3,
   "id": "4b109b24",
   "metadata": {},
   "outputs": [],
   "source": [
    "import pandas as pd\n",
    "import numpy as np\n",
    "import json\n",
    "import re\n",
    "import string\n",
    "import nltk\n",
    "from nltk.stem import PorterStemmer\n",
    "from nltk.stem.wordnet import WordNetLemmatizer\n",
    "\n",
    "user='Nhrok'"
   ]
  },
  {
   "cell_type": "code",
   "execution_count": 24,
   "id": "edb61e02",
   "metadata": {
    "scrolled": true
   },
   "outputs": [
    {
     "name": "stdout",
     "output_type": "stream",
     "text": [
      "[{'node': {'id': 873, 'title': '.hack//Roots', 'synopsis': 'After the termination of the incredibly popular virtual reality MMORPG \"The World,\" a new version of the game—The World R:2—is brought online. On his first day in the game, newcomer Haseo thinks he has made some friends to quest with. However, as if mocking his sentiments, they kill his character just for fun. Luckily, he is saved by a mysterious, one-armed player named Ovan who offers to show him around The World. \\n\\nAlongside Ovan and his cleric friend Shino, Haseo enjoys a wonderful first year in the game. But this peaceful life is shattered when Shino\\'s character is killed by a familiar figure notoriously known as Tri-Edge, whose victims have all fallen into comas in the real world. In a fit of rage, Haseo vows to find the elusive Tri-Edge and kill him.\\n\\nTaking place during Haseo\\'s first year in The World, .hack//Roots explores the friendships Haseo built in the game before Tri-Edge ripped them away.\\n\\n[Written by MAL Rewrite]', 'genres': 'Adventure|Drama|Fantasy|Game|Sci-Fi|'}}, {'node': {'id': 41380, 'title': '100-man no Inochi no Ue ni Ore wa Tatteiru', 'synopsis': 'Yuusuke Yotsuka has always disliked Tokyo, but he especially hates the people who live in it. He would rather thrive in a virtual world than try to get along with those around him. At the end of one school day, he sees the popular athlete Iu Shindou talking to Kusue Hakozaki, who spends less time in school due to illness. But when he looks away from the two and back again, they have seemingly disappeared.\\n\\nMere moments later, Yotsuya enters a state of free-fall, and the world begins to change around him. Dropping into a large pool of water, the first thing he sees when he comes to his senses is an assortment of enormous monsters. He soon finds out that he has been brought into a game world by Shindou and Hakozaki and that he must complete a quest within 14 days.\\n\\nThere is one thing that separates this world from the real world: anyone who dies will be brought back to life in 30 seconds as long as one party member is alive. Tasked with numerous quests that increase in difficulty over time, Yotsuya, Shindou, and Hakozaki attempt to discover the mystery behind the perplexing game world.\\n\\n[Written by MAL Rewrite]', 'genres': 'Action|Drama|Fantasy|Game|Shounen|'}}, {'node': {'id': 44881, 'title': '100-man no Inochi no Ue ni Ore wa Tatteiru 2nd Season', 'synopsis': \"Once again, the Game Master's world of quests unexpectedly pulls in Yuusuke Yotsuya and the rest of this old team. Accompanied by the newest addition, Keita Torii, the team reunites with Kahabell, still unaware of their actions' impact on this world. \\n\\nAfter bidding Kahabell farewell, the team sets out on their newly appointed quest—an offering of a Jiffon Buffalo at Vaikdamnia on Jiffon Island. However, as their journey to the island commences, the team shortly finds that the quest is not as simple as it initially seemed.\\n\\nIn fact, the island is terrorized by orcs that have made a deal with its inhabitants: instead of devouring the islanders, the orcs will be granted buffalo. With the growing shortage of buffalo, the annual Vaikdamnia festival cannot proceed. But, given the importance of the team's quest, they are left with the obvious choice—rid the island of the orcs and save the islanders.\\n\\n[Written by MAL Rewrite]\", 'genres': 'Drama|Fantasy|Game|Shounen|'}}]\n"
     ]
    }
   ],
   "source": [
    "with open(f'./{user}_data_synopsis.json', 'r') as f:\n",
    "    animes= json.load(f)\n",
    "print(animes[:3])"
   ]
  },
  {
   "cell_type": "code",
   "execution_count": 25,
   "id": "b2fd2b3e",
   "metadata": {},
   "outputs": [],
   "source": [
    "df_anime = pd.DataFrame()\n",
    "for anime in animes:\n",
    "    df_anime = df_anime.append(pd.DataFrame.from_dict(anime['node'],orient='index').T)\n",
    "df_anime.reset_index(inplace=True)\n",
    "df_anime.drop(columns='index',inplace=True)"
   ]
  },
  {
   "cell_type": "code",
   "execution_count": 26,
   "id": "3d987d2b",
   "metadata": {},
   "outputs": [
    {
     "data": {
      "text/html": [
       "<div>\n",
       "<style scoped>\n",
       "    .dataframe tbody tr th:only-of-type {\n",
       "        vertical-align: middle;\n",
       "    }\n",
       "\n",
       "    .dataframe tbody tr th {\n",
       "        vertical-align: top;\n",
       "    }\n",
       "\n",
       "    .dataframe thead th {\n",
       "        text-align: right;\n",
       "    }\n",
       "</style>\n",
       "<table border=\"1\" class=\"dataframe\">\n",
       "  <thead>\n",
       "    <tr style=\"text-align: right;\">\n",
       "      <th></th>\n",
       "      <th>id</th>\n",
       "      <th>title</th>\n",
       "      <th>synopsis</th>\n",
       "      <th>genres</th>\n",
       "    </tr>\n",
       "  </thead>\n",
       "  <tbody>\n",
       "    <tr>\n",
       "      <th>0</th>\n",
       "      <td>873</td>\n",
       "      <td>.hack//Roots</td>\n",
       "      <td>After the termination of the incredibly popula...</td>\n",
       "      <td>Adventure|Drama|Fantasy|Game|Sci-Fi|</td>\n",
       "    </tr>\n",
       "    <tr>\n",
       "      <th>1</th>\n",
       "      <td>41380</td>\n",
       "      <td>100-man no Inochi no Ue ni Ore wa Tatteiru</td>\n",
       "      <td>Yuusuke Yotsuka has always disliked Tokyo, but...</td>\n",
       "      <td>Action|Drama|Fantasy|Game|Shounen|</td>\n",
       "    </tr>\n",
       "    <tr>\n",
       "      <th>2</th>\n",
       "      <td>44881</td>\n",
       "      <td>100-man no Inochi no Ue ni Ore wa Tatteiru 2nd...</td>\n",
       "      <td>Once again, the Game Master's world of quests ...</td>\n",
       "      <td>Drama|Fantasy|Game|Shounen|</td>\n",
       "    </tr>\n",
       "    <tr>\n",
       "      <th>3</th>\n",
       "      <td>35248</td>\n",
       "      <td>18if</td>\n",
       "      <td>Waking up in a strange bedroom in a dream worl...</td>\n",
       "      <td>Mystery|Supernatural|</td>\n",
       "    </tr>\n",
       "    <tr>\n",
       "      <th>4</th>\n",
       "      <td>36793</td>\n",
       "      <td>3D Kanojo: Real Girl</td>\n",
       "      <td>For Hikari Tsutsui, life within the two-dimens...</td>\n",
       "      <td>Romance|School|Shoujo|</td>\n",
       "    </tr>\n",
       "  </tbody>\n",
       "</table>\n",
       "</div>"
      ],
      "text/plain": [
       "      id                                              title  \\\n",
       "0    873                                       .hack//Roots   \n",
       "1  41380         100-man no Inochi no Ue ni Ore wa Tatteiru   \n",
       "2  44881  100-man no Inochi no Ue ni Ore wa Tatteiru 2nd...   \n",
       "3  35248                                               18if   \n",
       "4  36793                               3D Kanojo: Real Girl   \n",
       "\n",
       "                                            synopsis  \\\n",
       "0  After the termination of the incredibly popula...   \n",
       "1  Yuusuke Yotsuka has always disliked Tokyo, but...   \n",
       "2  Once again, the Game Master's world of quests ...   \n",
       "3  Waking up in a strange bedroom in a dream worl...   \n",
       "4  For Hikari Tsutsui, life within the two-dimens...   \n",
       "\n",
       "                                 genres  \n",
       "0  Adventure|Drama|Fantasy|Game|Sci-Fi|  \n",
       "1    Action|Drama|Fantasy|Game|Shounen|  \n",
       "2           Drama|Fantasy|Game|Shounen|  \n",
       "3                 Mystery|Supernatural|  \n",
       "4                Romance|School|Shoujo|  "
      ]
     },
     "execution_count": 26,
     "metadata": {},
     "output_type": "execute_result"
    }
   ],
   "source": [
    "df_anime.head(5)"
   ]
  },
  {
   "cell_type": "code",
   "execution_count": 27,
   "id": "48ebb576",
   "metadata": {},
   "outputs": [
    {
     "data": {
      "text/plain": [
       "(528, 4)"
      ]
     },
     "execution_count": 27,
     "metadata": {},
     "output_type": "execute_result"
    }
   ],
   "source": [
    "df_anime.shape"
   ]
  },
  {
   "cell_type": "code",
   "execution_count": 28,
   "id": "3cf7ef9a",
   "metadata": {
    "scrolled": true
   },
   "outputs": [],
   "source": [
    "#df_anime.synopsis=df_anime.synopsis.apply(lambda x: x.replace(\"\\n\",\" \"))\n",
    "df_anime.synopsis=df_anime.synopsis.apply(lambda x: x.replace(\"[Written by MAL Rewrite]\",\"\"))\n",
    "df_anime.synopsis=df_anime.synopsis.apply(lambda x: x.replace(\"(Source: ANN)\",\"\"))\n",
    "df_anime.synopsis=df_anime.synopsis.apply(lambda x: re.sub(\"[^0-9A-Za-z]\", ' ', x))\n",
    "df_anime.synopsis=df_anime.synopsis.apply(lambda x: x.strip())"
   ]
  },
  {
   "cell_type": "code",
   "execution_count": 29,
   "id": "ffcf2c08",
   "metadata": {},
   "outputs": [
    {
     "data": {
      "text/plain": [
       "'After the termination of the incredibly popular virtual reality MMORPG  The World   a new version of the game The World R 2 is brought online  On his first day in the game  newcomer Haseo thinks he has made some friends to quest with  However  as if mocking his sentiments  they kill his character just for fun  Luckily  he is saved by a mysterious  one armed player named Ovan who offers to show him around The World    Alongside Ovan and his cleric friend Shino  Haseo enjoys a wonderful first year in the game  But this peaceful life is shattered when Shino s character is killed by a familiar figure notoriously known as Tri Edge  whose victims have all fallen into comas in the real world  In a fit of rage  Haseo vows to find the elusive Tri Edge and kill him   Taking place during Haseo s first year in The World   hack  Roots explores the friendships Haseo built in the game before Tri Edge ripped them away'"
      ]
     },
     "execution_count": 29,
     "metadata": {},
     "output_type": "execute_result"
    }
   ],
   "source": [
    "df_anime.synopsis[0]"
   ]
  },
  {
   "cell_type": "code",
   "execution_count": 30,
   "id": "a1c90a9e",
   "metadata": {},
   "outputs": [
    {
     "data": {
      "text/html": [
       "<div>\n",
       "<style scoped>\n",
       "    .dataframe tbody tr th:only-of-type {\n",
       "        vertical-align: middle;\n",
       "    }\n",
       "\n",
       "    .dataframe tbody tr th {\n",
       "        vertical-align: top;\n",
       "    }\n",
       "\n",
       "    .dataframe thead th {\n",
       "        text-align: right;\n",
       "    }\n",
       "</style>\n",
       "<table border=\"1\" class=\"dataframe\">\n",
       "  <thead>\n",
       "    <tr style=\"text-align: right;\">\n",
       "      <th></th>\n",
       "      <th>id</th>\n",
       "      <th>title</th>\n",
       "      <th>synopsis</th>\n",
       "      <th>genres</th>\n",
       "    </tr>\n",
       "  </thead>\n",
       "  <tbody>\n",
       "    <tr>\n",
       "      <th>0</th>\n",
       "      <td>873</td>\n",
       "      <td>.hack//Roots</td>\n",
       "      <td>After the termination of the incredibly popula...</td>\n",
       "      <td>Adventure|Drama|Fantasy|Game|Sci-Fi|</td>\n",
       "    </tr>\n",
       "    <tr>\n",
       "      <th>1</th>\n",
       "      <td>41380</td>\n",
       "      <td>100-man no Inochi no Ue ni Ore wa Tatteiru</td>\n",
       "      <td>Yuusuke Yotsuka has always disliked Tokyo  but...</td>\n",
       "      <td>Action|Drama|Fantasy|Game|Shounen|</td>\n",
       "    </tr>\n",
       "    <tr>\n",
       "      <th>2</th>\n",
       "      <td>44881</td>\n",
       "      <td>100-man no Inochi no Ue ni Ore wa Tatteiru 2nd...</td>\n",
       "      <td>Once again  the Game Master s world of quests ...</td>\n",
       "      <td>Drama|Fantasy|Game|Shounen|</td>\n",
       "    </tr>\n",
       "    <tr>\n",
       "      <th>3</th>\n",
       "      <td>35248</td>\n",
       "      <td>18if</td>\n",
       "      <td>Waking up in a strange bedroom in a dream worl...</td>\n",
       "      <td>Mystery|Supernatural|</td>\n",
       "    </tr>\n",
       "    <tr>\n",
       "      <th>4</th>\n",
       "      <td>36793</td>\n",
       "      <td>3D Kanojo: Real Girl</td>\n",
       "      <td>For Hikari Tsutsui  life within the two dimens...</td>\n",
       "      <td>Romance|School|Shoujo|</td>\n",
       "    </tr>\n",
       "  </tbody>\n",
       "</table>\n",
       "</div>"
      ],
      "text/plain": [
       "      id                                              title  \\\n",
       "0    873                                       .hack//Roots   \n",
       "1  41380         100-man no Inochi no Ue ni Ore wa Tatteiru   \n",
       "2  44881  100-man no Inochi no Ue ni Ore wa Tatteiru 2nd...   \n",
       "3  35248                                               18if   \n",
       "4  36793                               3D Kanojo: Real Girl   \n",
       "\n",
       "                                            synopsis  \\\n",
       "0  After the termination of the incredibly popula...   \n",
       "1  Yuusuke Yotsuka has always disliked Tokyo  but...   \n",
       "2  Once again  the Game Master s world of quests ...   \n",
       "3  Waking up in a strange bedroom in a dream worl...   \n",
       "4  For Hikari Tsutsui  life within the two dimens...   \n",
       "\n",
       "                                 genres  \n",
       "0  Adventure|Drama|Fantasy|Game|Sci-Fi|  \n",
       "1    Action|Drama|Fantasy|Game|Shounen|  \n",
       "2           Drama|Fantasy|Game|Shounen|  \n",
       "3                 Mystery|Supernatural|  \n",
       "4                Romance|School|Shoujo|  "
      ]
     },
     "execution_count": 30,
     "metadata": {},
     "output_type": "execute_result"
    }
   ],
   "source": [
    "df_anime.head(5)"
   ]
  },
  {
   "cell_type": "code",
   "execution_count": 31,
   "id": "bd3d7b6e",
   "metadata": {},
   "outputs": [
    {
     "data": {
      "text/plain": [
       "id          0\n",
       "title       0\n",
       "synopsis    0\n",
       "genres      0\n",
       "dtype: int64"
      ]
     },
     "execution_count": 31,
     "metadata": {},
     "output_type": "execute_result"
    }
   ],
   "source": [
    "df_anime.isnull().sum().sort_values(ascending=False)"
   ]
  },
  {
   "cell_type": "code",
   "execution_count": 32,
   "id": "2dcc0d4f",
   "metadata": {},
   "outputs": [
    {
     "name": "stdout",
     "output_type": "stream",
     "text": [
      "<class 'pandas.core.frame.DataFrame'>\n",
      "RangeIndex: 528 entries, 0 to 527\n",
      "Data columns (total 4 columns):\n",
      " #   Column    Non-Null Count  Dtype \n",
      "---  ------    --------------  ----- \n",
      " 0   id        528 non-null    object\n",
      " 1   title     528 non-null    object\n",
      " 2   synopsis  528 non-null    object\n",
      " 3   genres    528 non-null    object\n",
      "dtypes: object(4)\n",
      "memory usage: 16.6+ KB\n"
     ]
    }
   ],
   "source": [
    "df_anime.info()"
   ]
  },
  {
   "cell_type": "code",
   "execution_count": 34,
   "id": "87d55497",
   "metadata": {},
   "outputs": [],
   "source": [
    "df_anime.dropna(inplace=True)"
   ]
  },
  {
   "cell_type": "code",
   "execution_count": 35,
   "id": "0a2e49e5",
   "metadata": {},
   "outputs": [
    {
     "data": {
      "text/plain": [
       "''"
      ]
     },
     "execution_count": 35,
     "metadata": {},
     "output_type": "execute_result"
    }
   ],
   "source": [
    "df_anime.synopsis[175]"
   ]
  },
  {
   "cell_type": "code",
   "execution_count": 12,
   "id": "6a401e00",
   "metadata": {},
   "outputs": [],
   "source": [
    "df_anime.to_csv(f\"./{user}_Anime_Simple_Preprocessing.csv\")"
   ]
  },
  {
   "cell_type": "markdown",
   "id": "d9905aae",
   "metadata": {},
   "source": [
    "## Cleaning from simple preprocessing"
   ]
  },
  {
   "cell_type": "code",
   "execution_count": 38,
   "id": "2f1f195d",
   "metadata": {},
   "outputs": [
    {
     "data": {
      "text/html": [
       "<div>\n",
       "<style scoped>\n",
       "    .dataframe tbody tr th:only-of-type {\n",
       "        vertical-align: middle;\n",
       "    }\n",
       "\n",
       "    .dataframe tbody tr th {\n",
       "        vertical-align: top;\n",
       "    }\n",
       "\n",
       "    .dataframe thead th {\n",
       "        text-align: right;\n",
       "    }\n",
       "</style>\n",
       "<table border=\"1\" class=\"dataframe\">\n",
       "  <thead>\n",
       "    <tr style=\"text-align: right;\">\n",
       "      <th></th>\n",
       "      <th>id</th>\n",
       "      <th>title</th>\n",
       "      <th>synopsis</th>\n",
       "      <th>genres</th>\n",
       "    </tr>\n",
       "  </thead>\n",
       "  <tbody>\n",
       "    <tr>\n",
       "      <th>0</th>\n",
       "      <td>873</td>\n",
       "      <td>.hack//Roots</td>\n",
       "      <td>After the termination of the incredibly popula...</td>\n",
       "      <td>Adventure|Drama|Fantasy|Game|Sci-Fi|</td>\n",
       "    </tr>\n",
       "    <tr>\n",
       "      <th>1</th>\n",
       "      <td>41380</td>\n",
       "      <td>100-man no Inochi no Ue ni Ore wa Tatteiru</td>\n",
       "      <td>Yuusuke Yotsuka has always disliked Tokyo  but...</td>\n",
       "      <td>Action|Drama|Fantasy|Game|Shounen|</td>\n",
       "    </tr>\n",
       "    <tr>\n",
       "      <th>2</th>\n",
       "      <td>44881</td>\n",
       "      <td>100-man no Inochi no Ue ni Ore wa Tatteiru 2nd...</td>\n",
       "      <td>Once again  the Game Master s world of quests ...</td>\n",
       "      <td>Drama|Fantasy|Game|Shounen|</td>\n",
       "    </tr>\n",
       "    <tr>\n",
       "      <th>3</th>\n",
       "      <td>35248</td>\n",
       "      <td>18if</td>\n",
       "      <td>Waking up in a strange bedroom in a dream worl...</td>\n",
       "      <td>Mystery|Supernatural|</td>\n",
       "    </tr>\n",
       "    <tr>\n",
       "      <th>4</th>\n",
       "      <td>36793</td>\n",
       "      <td>3D Kanojo: Real Girl</td>\n",
       "      <td>For Hikari Tsutsui  life within the two dimens...</td>\n",
       "      <td>Romance|School|Shoujo|</td>\n",
       "    </tr>\n",
       "  </tbody>\n",
       "</table>\n",
       "</div>"
      ],
      "text/plain": [
       "      id                                              title  \\\n",
       "0    873                                       .hack//Roots   \n",
       "1  41380         100-man no Inochi no Ue ni Ore wa Tatteiru   \n",
       "2  44881  100-man no Inochi no Ue ni Ore wa Tatteiru 2nd...   \n",
       "3  35248                                               18if   \n",
       "4  36793                               3D Kanojo: Real Girl   \n",
       "\n",
       "                                            synopsis  \\\n",
       "0  After the termination of the incredibly popula...   \n",
       "1  Yuusuke Yotsuka has always disliked Tokyo  but...   \n",
       "2  Once again  the Game Master s world of quests ...   \n",
       "3  Waking up in a strange bedroom in a dream worl...   \n",
       "4  For Hikari Tsutsui  life within the two dimens...   \n",
       "\n",
       "                                 genres  \n",
       "0  Adventure|Drama|Fantasy|Game|Sci-Fi|  \n",
       "1    Action|Drama|Fantasy|Game|Shounen|  \n",
       "2           Drama|Fantasy|Game|Shounen|  \n",
       "3                 Mystery|Supernatural|  \n",
       "4                Romance|School|Shoujo|  "
      ]
     },
     "execution_count": 38,
     "metadata": {},
     "output_type": "execute_result"
    }
   ],
   "source": [
    "df_anime = pd.read_csv(f\"./{user}_Anime_Simple_Preprocessing.csv\")\n",
    "df_anime.drop(\"Unnamed: 0\",axis=1,inplace=True)\n",
    "df_anime.dropna(inplace=True)\n",
    "df_anime.head()"
   ]
  },
  {
   "cell_type": "code",
   "execution_count": 40,
   "id": "7f20b00f",
   "metadata": {},
   "outputs": [],
   "source": [
    "def clean_string(text, stem=\"None\"):\n",
    "\n",
    "    final_string = \"\"\n",
    "\n",
    "    # Make lower\n",
    "    text = str(text).lower()\n",
    "\n",
    "    # Remove line breaks\n",
    "    # Note: that this line can be augmented and used over\n",
    "    # to repace any charcaters with nothing or a space\n",
    "    text = re.sub('\\n', '', text)\n",
    "\n",
    "    # Remove puncuation\n",
    "    translator = str.maketrans('', '', string.punctuation)\n",
    "    text = text.translate(translator)\n",
    "\n",
    "    # Remove stop words\n",
    "    text = text.split()\n",
    "    useless_words = nltk.corpus.stopwords.words(\"english\")\n",
    "    useless_words = useless_words + ['hi', 'im']\n",
    "\n",
    "    text_filtered = [word for word in text if not word in useless_words]\n",
    "\n",
    "    # Remove numbers\n",
    "    text_filtered = [re.sub('\\w*\\d\\w*', '', w) for w in text_filtered]\n",
    "    print(text_filtered)\n",
    "    # Stem or Lemmatize\n",
    "    if stem == 'Stem':\n",
    "        stemmer = PorterStemmer() \n",
    "        text_stemmed = [stemmer.stem(y) for y in text_filtered]\n",
    "    elif stem == 'Lem':\n",
    "        lem = WordNetLemmatizer()\n",
    "        text_stemmed = [lem.lemmatize(y) for y in text_filtered]\n",
    "    else:\n",
    "        text_stemmed = text_filtered\n",
    "\n",
    "    final_string = ' '.join(text_stemmed)\n",
    "\n",
    "    return final_string"
   ]
  },
  {
   "cell_type": "code",
   "execution_count": null,
   "id": "c215d589",
   "metadata": {
    "scrolled": true,
    "tags": []
   },
   "outputs": [],
   "source": [
    "df_anime.synopsis=df_anime.synopsis.apply(lambda x: clean_string(x,stem=\"Lem\"))\n",
    "df_anime.title=df_anime.title.apply(lambda x: x.lower())"
   ]
  },
  {
   "cell_type": "code",
   "execution_count": 42,
   "id": "0dfda1a7",
   "metadata": {},
   "outputs": [
    {
     "data": {
      "text/plain": [
       "'termination incredibly popular virtual reality mmorpg world new version game world r  brought online first day game newcomer haseo think made friend quest however mocking sentiment kill character fun luckily saved mysterious one armed player named ovan offer show around world alongside ovan cleric friend shino haseo enjoys wonderful first year game peaceful life shattered shino character killed familiar figure notoriously known tri edge whose victim fallen coma real world fit rage haseo vow find elusive tri edge kill taking place haseo first year world hack root explores friendship haseo built game tri edge ripped away'"
      ]
     },
     "execution_count": 42,
     "metadata": {},
     "output_type": "execute_result"
    }
   ],
   "source": [
    "df_anime.synopsis[0]"
   ]
  },
  {
   "cell_type": "code",
   "execution_count": 43,
   "id": "eabfdd4c",
   "metadata": {},
   "outputs": [
    {
     "data": {
      "text/html": [
       "<div>\n",
       "<style scoped>\n",
       "    .dataframe tbody tr th:only-of-type {\n",
       "        vertical-align: middle;\n",
       "    }\n",
       "\n",
       "    .dataframe tbody tr th {\n",
       "        vertical-align: top;\n",
       "    }\n",
       "\n",
       "    .dataframe thead th {\n",
       "        text-align: right;\n",
       "    }\n",
       "</style>\n",
       "<table border=\"1\" class=\"dataframe\">\n",
       "  <thead>\n",
       "    <tr style=\"text-align: right;\">\n",
       "      <th></th>\n",
       "      <th>id</th>\n",
       "      <th>title</th>\n",
       "      <th>synopsis</th>\n",
       "      <th>genres</th>\n",
       "    </tr>\n",
       "  </thead>\n",
       "  <tbody>\n",
       "    <tr>\n",
       "      <th>0</th>\n",
       "      <td>873</td>\n",
       "      <td>.hack//roots</td>\n",
       "      <td>termination incredibly popular virtual reality...</td>\n",
       "      <td>Adventure|Drama|Fantasy|Game|Sci-Fi|</td>\n",
       "    </tr>\n",
       "    <tr>\n",
       "      <th>1</th>\n",
       "      <td>41380</td>\n",
       "      <td>100-man no inochi no ue ni ore wa tatteiru</td>\n",
       "      <td>yuusuke yotsuka always disliked tokyo especial...</td>\n",
       "      <td>Action|Drama|Fantasy|Game|Shounen|</td>\n",
       "    </tr>\n",
       "    <tr>\n",
       "      <th>2</th>\n",
       "      <td>44881</td>\n",
       "      <td>100-man no inochi no ue ni ore wa tatteiru 2nd...</td>\n",
       "      <td>game master world quest unexpectedly pull yuus...</td>\n",
       "      <td>Drama|Fantasy|Game|Shounen|</td>\n",
       "    </tr>\n",
       "    <tr>\n",
       "      <th>3</th>\n",
       "      <td>35248</td>\n",
       "      <td>18if</td>\n",
       "      <td>waking strange bedroom dream world teenager ha...</td>\n",
       "      <td>Mystery|Supernatural|</td>\n",
       "    </tr>\n",
       "    <tr>\n",
       "      <th>4</th>\n",
       "      <td>36793</td>\n",
       "      <td>3d kanojo: real girl</td>\n",
       "      <td>hikari tsutsui life within two dimensional rea...</td>\n",
       "      <td>Romance|School|Shoujo|</td>\n",
       "    </tr>\n",
       "  </tbody>\n",
       "</table>\n",
       "</div>"
      ],
      "text/plain": [
       "      id                                              title  \\\n",
       "0    873                                       .hack//roots   \n",
       "1  41380         100-man no inochi no ue ni ore wa tatteiru   \n",
       "2  44881  100-man no inochi no ue ni ore wa tatteiru 2nd...   \n",
       "3  35248                                               18if   \n",
       "4  36793                               3d kanojo: real girl   \n",
       "\n",
       "                                            synopsis  \\\n",
       "0  termination incredibly popular virtual reality...   \n",
       "1  yuusuke yotsuka always disliked tokyo especial...   \n",
       "2  game master world quest unexpectedly pull yuus...   \n",
       "3  waking strange bedroom dream world teenager ha...   \n",
       "4  hikari tsutsui life within two dimensional rea...   \n",
       "\n",
       "                                 genres  \n",
       "0  Adventure|Drama|Fantasy|Game|Sci-Fi|  \n",
       "1    Action|Drama|Fantasy|Game|Shounen|  \n",
       "2           Drama|Fantasy|Game|Shounen|  \n",
       "3                 Mystery|Supernatural|  \n",
       "4                Romance|School|Shoujo|  "
      ]
     },
     "execution_count": 43,
     "metadata": {},
     "output_type": "execute_result"
    }
   ],
   "source": [
    "df_anime.head(5)"
   ]
  },
  {
   "cell_type": "code",
   "execution_count": 44,
   "id": "bbafecfe",
   "metadata": {},
   "outputs": [],
   "source": [
    "df_anime.to_csv(f\"./{user}_Anime_Preprocessed.csv\")"
   ]
  },
  {
   "cell_type": "code",
   "execution_count": null,
   "id": "e6456f32",
   "metadata": {},
   "outputs": [],
   "source": []
  },
  {
   "cell_type": "markdown",
   "id": "817cf5b4",
   "metadata": {},
   "source": [
    "# Seasonal animes"
   ]
  },
  {
   "cell_type": "code",
   "execution_count": 1,
   "id": "4fedc102",
   "metadata": {},
   "outputs": [],
   "source": [
    "year=2022\n",
    "season='winter'"
   ]
  },
  {
   "cell_type": "code",
   "execution_count": null,
   "id": "80f739a0",
   "metadata": {},
   "outputs": [],
   "source": []
  },
  {
   "cell_type": "code",
   "execution_count": 4,
   "id": "393b5f15",
   "metadata": {
    "scrolled": true
   },
   "outputs": [
    {
     "name": "stdout",
     "output_type": "stream",
     "text": [
      "[{'node': {'id': 48583, 'title': 'Shingeki no Kyojin: The Final Season Part 2', 'num_list_users': 700714, 'synopsis': \"Turning against his former allies and enemies alike, Eren Yeager sets a disastrous plan in motion. Under the guidance of the Beast Titan, Zeke, Eren takes extreme measures to end the ancient conflict between Marley and Eldia—but his true intentions remain a mystery. Delving deep into his family's past, Eren fights to control his own destiny.\\n\\nMeanwhile, the long-feuding nations of Marley and Eldia utilize both soldiers and Titans in a brutal race to eliminate the other. Reiner Braun uses his own powers in a desperate bid to hold off Eren's own militaristic force, and his fellow Eldians—children Falco Grice and Gabi Braun—struggle to survive in the unfolding chaos.\\n\\nElsewhere, Eren's childhood friends Mikasa Ackerman and Armin Arlert remain imprisoned alongside Eren's former Survey Corps companions, all disturbed by Eren's monstrous transformation. Under the blind belief that Eren still secretly harbors good intentions, Mikasa and the others enter the fray in an attempt to save their friend's very soul.\\n\\n[Written by MAL Rewrite]\\n\", 'genres': 'Action|Drama|Fantasy|Military|Mystery|Shounen|Super Power|'}}, {'node': {'id': 40834, 'title': 'Ousama Ranking', 'num_list_users': 291089, 'synopsis': 'The people of the kingdom look down on the young Prince Bojji, who can neither hear nor speak. They call him \"The Useless Prince\" while jeering at his supposed foolishness.\\n\\nHowever, while Bojji may not be physically strong, he is certainly not weak of heart. When a chance encounter with a shadow creature should have left him traumatized, it instead makes him believe that he has found a friend amidst those who only choose to notice his shortcomings. He starts meeting with Kage, the shadow, regularly, to the point where even the otherwise abrasive creature begins to warm up to him.\\n\\nKage and Bojji\\'s unlikely friendship lays the budding foundations of the prince\\'s journey, one where he intends to conquer his fears and insecurities. Despite the constant ridicule he faces, Bojji resolves to fulfill his desire of becoming the best king he can be.\\n\\n[Written by MAL Rewrite]', 'genres': 'Adventure|Fantasy|'}}, {'node': {'id': 47778, 'title': 'Kimetsu no Yaiba: Yuukaku-hen', 'num_list_users': 703049, 'synopsis': \"The devastation of the Mugen Train incident still weighs heavily on the members of the Demon Slayer Corps. Despite being given time to recover, life must go on, as the wicked never sleep: a vicious demon is terrorizing the alluring women of the Yoshiwara Entertainment District. The Sound Pillar, Tengen Uzui, and his three wives are on the case. However, when he soon loses contact with his spouses, Tengen fears the worst and enlists the help of Tanjirou Kamado, Zenitsu Agatsuma, and Inosuke Hashibira to infiltrate the district's most prominent houses and locate the depraved Upper Rank demon.\\n\\n[Written by MAL Rewrite]\\n\", 'genres': 'Action|Demons|Historical|Shounen|Supernatural|'}}]\n"
     ]
    }
   ],
   "source": [
    "with open(f'./{year}_{season}_MAL_synopsis.json', 'r') as f:\n",
    "    animes= json.load(f)\n",
    "print(animes[:3])"
   ]
  },
  {
   "cell_type": "code",
   "execution_count": 5,
   "id": "18b64b12",
   "metadata": {},
   "outputs": [],
   "source": [
    "df_anime = pd.DataFrame()\n",
    "for anime in animes:\n",
    "    df_anime = df_anime.append(pd.DataFrame.from_dict(anime['node'],orient='index').T)\n",
    "df_anime.reset_index(inplace=True)\n",
    "df_anime.drop(columns='index',inplace=True)"
   ]
  },
  {
   "cell_type": "code",
   "execution_count": 6,
   "id": "97d21991",
   "metadata": {},
   "outputs": [
    {
     "data": {
      "text/html": [
       "<div>\n",
       "<style scoped>\n",
       "    .dataframe tbody tr th:only-of-type {\n",
       "        vertical-align: middle;\n",
       "    }\n",
       "\n",
       "    .dataframe tbody tr th {\n",
       "        vertical-align: top;\n",
       "    }\n",
       "\n",
       "    .dataframe thead th {\n",
       "        text-align: right;\n",
       "    }\n",
       "</style>\n",
       "<table border=\"1\" class=\"dataframe\">\n",
       "  <thead>\n",
       "    <tr style=\"text-align: right;\">\n",
       "      <th></th>\n",
       "      <th>id</th>\n",
       "      <th>title</th>\n",
       "      <th>num_list_users</th>\n",
       "      <th>synopsis</th>\n",
       "      <th>genres</th>\n",
       "    </tr>\n",
       "  </thead>\n",
       "  <tbody>\n",
       "    <tr>\n",
       "      <th>0</th>\n",
       "      <td>48583</td>\n",
       "      <td>Shingeki no Kyojin: The Final Season Part 2</td>\n",
       "      <td>700714</td>\n",
       "      <td>Turning against his former allies and enemies ...</td>\n",
       "      <td>Action|Drama|Fantasy|Military|Mystery|Shounen|...</td>\n",
       "    </tr>\n",
       "    <tr>\n",
       "      <th>1</th>\n",
       "      <td>40834</td>\n",
       "      <td>Ousama Ranking</td>\n",
       "      <td>291089</td>\n",
       "      <td>The people of the kingdom look down on the you...</td>\n",
       "      <td>Adventure|Fantasy|</td>\n",
       "    </tr>\n",
       "    <tr>\n",
       "      <th>2</th>\n",
       "      <td>47778</td>\n",
       "      <td>Kimetsu no Yaiba: Yuukaku-hen</td>\n",
       "      <td>703049</td>\n",
       "      <td>The devastation of the Mugen Train incident st...</td>\n",
       "      <td>Action|Demons|Historical|Shounen|Supernatural|</td>\n",
       "    </tr>\n",
       "    <tr>\n",
       "      <th>3</th>\n",
       "      <td>21</td>\n",
       "      <td>One Piece</td>\n",
       "      <td>1797407</td>\n",
       "      <td>Gol D. Roger was known as the \"Pirate King,\" t...</td>\n",
       "      <td>Action|Adventure|Comedy|Drama|Fantasy|Shounen|...</td>\n",
       "    </tr>\n",
       "    <tr>\n",
       "      <th>4</th>\n",
       "      <td>50185</td>\n",
       "      <td>Ryman's Club</td>\n",
       "      <td>34612</td>\n",
       "      <td>The world of corporate badminton is not as eas...</td>\n",
       "      <td>Sports|Work Life|</td>\n",
       "    </tr>\n",
       "  </tbody>\n",
       "</table>\n",
       "</div>"
      ],
      "text/plain": [
       "      id                                        title num_list_users  \\\n",
       "0  48583  Shingeki no Kyojin: The Final Season Part 2         700714   \n",
       "1  40834                               Ousama Ranking         291089   \n",
       "2  47778                Kimetsu no Yaiba: Yuukaku-hen         703049   \n",
       "3     21                                    One Piece        1797407   \n",
       "4  50185                                 Ryman's Club          34612   \n",
       "\n",
       "                                            synopsis  \\\n",
       "0  Turning against his former allies and enemies ...   \n",
       "1  The people of the kingdom look down on the you...   \n",
       "2  The devastation of the Mugen Train incident st...   \n",
       "3  Gol D. Roger was known as the \"Pirate King,\" t...   \n",
       "4  The world of corporate badminton is not as eas...   \n",
       "\n",
       "                                              genres  \n",
       "0  Action|Drama|Fantasy|Military|Mystery|Shounen|...  \n",
       "1                                 Adventure|Fantasy|  \n",
       "2     Action|Demons|Historical|Shounen|Supernatural|  \n",
       "3  Action|Adventure|Comedy|Drama|Fantasy|Shounen|...  \n",
       "4                                  Sports|Work Life|  "
      ]
     },
     "execution_count": 6,
     "metadata": {},
     "output_type": "execute_result"
    }
   ],
   "source": [
    "df_anime.head(5)"
   ]
  },
  {
   "cell_type": "code",
   "execution_count": 7,
   "id": "a3ce9b7c",
   "metadata": {},
   "outputs": [
    {
     "data": {
      "text/plain": [
       "(38, 5)"
      ]
     },
     "execution_count": 7,
     "metadata": {},
     "output_type": "execute_result"
    }
   ],
   "source": [
    "df_anime.shape"
   ]
  },
  {
   "cell_type": "code",
   "execution_count": 8,
   "id": "da26bc23",
   "metadata": {
    "scrolled": true
   },
   "outputs": [],
   "source": [
    "#df_anime.synopsis=df_anime.synopsis.apply(lambda x: x.replace(\"\\n\",\" \"))\n",
    "df_anime.synopsis=df_anime.synopsis.apply(lambda x: x.replace(\"[Written by MAL Rewrite]\",\"\"))\n",
    "df_anime.synopsis=df_anime.synopsis.apply(lambda x: x.replace(\"(Source: ANN)\",\"\"))\n",
    "df_anime.synopsis=df_anime.synopsis.apply(lambda x: re.sub(\"[^0-9A-Za-z]\", ' ', x))\n",
    "df_anime.synopsis=df_anime.synopsis.apply(lambda x: x.strip())"
   ]
  },
  {
   "cell_type": "code",
   "execution_count": 9,
   "id": "3141a733",
   "metadata": {},
   "outputs": [
    {
     "data": {
      "text/plain": [
       "'Turning against his former allies and enemies alike  Eren Yeager sets a disastrous plan in motion  Under the guidance of the Beast Titan  Zeke  Eren takes extreme measures to end the ancient conflict between Marley and Eldia but his true intentions remain a mystery  Delving deep into his family s past  Eren fights to control his own destiny   Meanwhile  the long feuding nations of Marley and Eldia utilize both soldiers and Titans in a brutal race to eliminate the other  Reiner Braun uses his own powers in a desperate bid to hold off Eren s own militaristic force  and his fellow Eldians children Falco Grice and Gabi Braun struggle to survive in the unfolding chaos   Elsewhere  Eren s childhood friends Mikasa Ackerman and Armin Arlert remain imprisoned alongside Eren s former Survey Corps companions  all disturbed by Eren s monstrous transformation  Under the blind belief that Eren still secretly harbors good intentions  Mikasa and the others enter the fray in an attempt to save their friend s very soul'"
      ]
     },
     "execution_count": 9,
     "metadata": {},
     "output_type": "execute_result"
    }
   ],
   "source": [
    "df_anime.synopsis[0]"
   ]
  },
  {
   "cell_type": "code",
   "execution_count": 10,
   "id": "f6e2352d",
   "metadata": {},
   "outputs": [
    {
     "data": {
      "text/html": [
       "<div>\n",
       "<style scoped>\n",
       "    .dataframe tbody tr th:only-of-type {\n",
       "        vertical-align: middle;\n",
       "    }\n",
       "\n",
       "    .dataframe tbody tr th {\n",
       "        vertical-align: top;\n",
       "    }\n",
       "\n",
       "    .dataframe thead th {\n",
       "        text-align: right;\n",
       "    }\n",
       "</style>\n",
       "<table border=\"1\" class=\"dataframe\">\n",
       "  <thead>\n",
       "    <tr style=\"text-align: right;\">\n",
       "      <th></th>\n",
       "      <th>id</th>\n",
       "      <th>title</th>\n",
       "      <th>num_list_users</th>\n",
       "      <th>synopsis</th>\n",
       "      <th>genres</th>\n",
       "    </tr>\n",
       "  </thead>\n",
       "  <tbody>\n",
       "    <tr>\n",
       "      <th>0</th>\n",
       "      <td>48583</td>\n",
       "      <td>Shingeki no Kyojin: The Final Season Part 2</td>\n",
       "      <td>700714</td>\n",
       "      <td>Turning against his former allies and enemies ...</td>\n",
       "      <td>Action|Drama|Fantasy|Military|Mystery|Shounen|...</td>\n",
       "    </tr>\n",
       "    <tr>\n",
       "      <th>1</th>\n",
       "      <td>40834</td>\n",
       "      <td>Ousama Ranking</td>\n",
       "      <td>291089</td>\n",
       "      <td>The people of the kingdom look down on the you...</td>\n",
       "      <td>Adventure|Fantasy|</td>\n",
       "    </tr>\n",
       "    <tr>\n",
       "      <th>2</th>\n",
       "      <td>47778</td>\n",
       "      <td>Kimetsu no Yaiba: Yuukaku-hen</td>\n",
       "      <td>703049</td>\n",
       "      <td>The devastation of the Mugen Train incident st...</td>\n",
       "      <td>Action|Demons|Historical|Shounen|Supernatural|</td>\n",
       "    </tr>\n",
       "    <tr>\n",
       "      <th>3</th>\n",
       "      <td>21</td>\n",
       "      <td>One Piece</td>\n",
       "      <td>1797407</td>\n",
       "      <td>Gol D  Roger was known as the  Pirate King   t...</td>\n",
       "      <td>Action|Adventure|Comedy|Drama|Fantasy|Shounen|...</td>\n",
       "    </tr>\n",
       "    <tr>\n",
       "      <th>4</th>\n",
       "      <td>50185</td>\n",
       "      <td>Ryman's Club</td>\n",
       "      <td>34612</td>\n",
       "      <td>The world of corporate badminton is not as eas...</td>\n",
       "      <td>Sports|Work Life|</td>\n",
       "    </tr>\n",
       "  </tbody>\n",
       "</table>\n",
       "</div>"
      ],
      "text/plain": [
       "      id                                        title num_list_users  \\\n",
       "0  48583  Shingeki no Kyojin: The Final Season Part 2         700714   \n",
       "1  40834                               Ousama Ranking         291089   \n",
       "2  47778                Kimetsu no Yaiba: Yuukaku-hen         703049   \n",
       "3     21                                    One Piece        1797407   \n",
       "4  50185                                 Ryman's Club          34612   \n",
       "\n",
       "                                            synopsis  \\\n",
       "0  Turning against his former allies and enemies ...   \n",
       "1  The people of the kingdom look down on the you...   \n",
       "2  The devastation of the Mugen Train incident st...   \n",
       "3  Gol D  Roger was known as the  Pirate King   t...   \n",
       "4  The world of corporate badminton is not as eas...   \n",
       "\n",
       "                                              genres  \n",
       "0  Action|Drama|Fantasy|Military|Mystery|Shounen|...  \n",
       "1                                 Adventure|Fantasy|  \n",
       "2     Action|Demons|Historical|Shounen|Supernatural|  \n",
       "3  Action|Adventure|Comedy|Drama|Fantasy|Shounen|...  \n",
       "4                                  Sports|Work Life|  "
      ]
     },
     "execution_count": 10,
     "metadata": {},
     "output_type": "execute_result"
    }
   ],
   "source": [
    "df_anime.head(5)"
   ]
  },
  {
   "cell_type": "code",
   "execution_count": 11,
   "id": "37b494cc",
   "metadata": {},
   "outputs": [
    {
     "data": {
      "text/plain": [
       "id                0\n",
       "title             0\n",
       "num_list_users    0\n",
       "synopsis          0\n",
       "genres            0\n",
       "dtype: int64"
      ]
     },
     "execution_count": 11,
     "metadata": {},
     "output_type": "execute_result"
    }
   ],
   "source": [
    "df_anime.isnull().sum().sort_values(ascending=False)"
   ]
  },
  {
   "cell_type": "code",
   "execution_count": 12,
   "id": "e05632bc",
   "metadata": {},
   "outputs": [
    {
     "name": "stdout",
     "output_type": "stream",
     "text": [
      "<class 'pandas.core.frame.DataFrame'>\n",
      "RangeIndex: 38 entries, 0 to 37\n",
      "Data columns (total 5 columns):\n",
      " #   Column          Non-Null Count  Dtype \n",
      "---  ------          --------------  ----- \n",
      " 0   id              38 non-null     object\n",
      " 1   title           38 non-null     object\n",
      " 2   num_list_users  38 non-null     object\n",
      " 3   synopsis        38 non-null     object\n",
      " 4   genres          38 non-null     object\n",
      "dtypes: object(5)\n",
      "memory usage: 1.6+ KB\n"
     ]
    }
   ],
   "source": [
    "df_anime.info()"
   ]
  },
  {
   "cell_type": "code",
   "execution_count": 13,
   "id": "65ceb8e8",
   "metadata": {},
   "outputs": [],
   "source": [
    "df_anime.dropna(inplace=True)"
   ]
  },
  {
   "cell_type": "code",
   "execution_count": 14,
   "id": "d35ab510",
   "metadata": {},
   "outputs": [],
   "source": [
    "df_anime.to_csv(f'./{year}_{season}_Simple_Preprocessing.csv')"
   ]
  },
  {
   "cell_type": "markdown",
   "id": "2ed6b2ae",
   "metadata": {},
   "source": [
    "## Cleaning from simple preprocessing"
   ]
  },
  {
   "cell_type": "code",
   "execution_count": 15,
   "id": "8709b6b3",
   "metadata": {},
   "outputs": [
    {
     "data": {
      "text/html": [
       "<div>\n",
       "<style scoped>\n",
       "    .dataframe tbody tr th:only-of-type {\n",
       "        vertical-align: middle;\n",
       "    }\n",
       "\n",
       "    .dataframe tbody tr th {\n",
       "        vertical-align: top;\n",
       "    }\n",
       "\n",
       "    .dataframe thead th {\n",
       "        text-align: right;\n",
       "    }\n",
       "</style>\n",
       "<table border=\"1\" class=\"dataframe\">\n",
       "  <thead>\n",
       "    <tr style=\"text-align: right;\">\n",
       "      <th></th>\n",
       "      <th>id</th>\n",
       "      <th>title</th>\n",
       "      <th>num_list_users</th>\n",
       "      <th>synopsis</th>\n",
       "      <th>genres</th>\n",
       "    </tr>\n",
       "  </thead>\n",
       "  <tbody>\n",
       "    <tr>\n",
       "      <th>0</th>\n",
       "      <td>48583</td>\n",
       "      <td>Shingeki no Kyojin: The Final Season Part 2</td>\n",
       "      <td>700714</td>\n",
       "      <td>Turning against his former allies and enemies ...</td>\n",
       "      <td>Action|Drama|Fantasy|Military|Mystery|Shounen|...</td>\n",
       "    </tr>\n",
       "    <tr>\n",
       "      <th>1</th>\n",
       "      <td>40834</td>\n",
       "      <td>Ousama Ranking</td>\n",
       "      <td>291089</td>\n",
       "      <td>The people of the kingdom look down on the you...</td>\n",
       "      <td>Adventure|Fantasy|</td>\n",
       "    </tr>\n",
       "    <tr>\n",
       "      <th>2</th>\n",
       "      <td>47778</td>\n",
       "      <td>Kimetsu no Yaiba: Yuukaku-hen</td>\n",
       "      <td>703049</td>\n",
       "      <td>The devastation of the Mugen Train incident st...</td>\n",
       "      <td>Action|Demons|Historical|Shounen|Supernatural|</td>\n",
       "    </tr>\n",
       "    <tr>\n",
       "      <th>3</th>\n",
       "      <td>21</td>\n",
       "      <td>One Piece</td>\n",
       "      <td>1797407</td>\n",
       "      <td>Gol D  Roger was known as the  Pirate King   t...</td>\n",
       "      <td>Action|Adventure|Comedy|Drama|Fantasy|Shounen|...</td>\n",
       "    </tr>\n",
       "    <tr>\n",
       "      <th>4</th>\n",
       "      <td>50185</td>\n",
       "      <td>Ryman's Club</td>\n",
       "      <td>34612</td>\n",
       "      <td>The world of corporate badminton is not as eas...</td>\n",
       "      <td>Sports|Work Life|</td>\n",
       "    </tr>\n",
       "  </tbody>\n",
       "</table>\n",
       "</div>"
      ],
      "text/plain": [
       "      id                                        title  num_list_users  \\\n",
       "0  48583  Shingeki no Kyojin: The Final Season Part 2          700714   \n",
       "1  40834                               Ousama Ranking          291089   \n",
       "2  47778                Kimetsu no Yaiba: Yuukaku-hen          703049   \n",
       "3     21                                    One Piece         1797407   \n",
       "4  50185                                 Ryman's Club           34612   \n",
       "\n",
       "                                            synopsis  \\\n",
       "0  Turning against his former allies and enemies ...   \n",
       "1  The people of the kingdom look down on the you...   \n",
       "2  The devastation of the Mugen Train incident st...   \n",
       "3  Gol D  Roger was known as the  Pirate King   t...   \n",
       "4  The world of corporate badminton is not as eas...   \n",
       "\n",
       "                                              genres  \n",
       "0  Action|Drama|Fantasy|Military|Mystery|Shounen|...  \n",
       "1                                 Adventure|Fantasy|  \n",
       "2     Action|Demons|Historical|Shounen|Supernatural|  \n",
       "3  Action|Adventure|Comedy|Drama|Fantasy|Shounen|...  \n",
       "4                                  Sports|Work Life|  "
      ]
     },
     "execution_count": 15,
     "metadata": {},
     "output_type": "execute_result"
    }
   ],
   "source": [
    "df_anime = pd.read_csv(f'./{year}_{season}_Simple_Preprocessing.csv')\n",
    "df_anime.drop(\"Unnamed: 0\",axis=1,inplace=True)\n",
    "df_anime.dropna(inplace=True)\n",
    "df_anime.head()"
   ]
  },
  {
   "cell_type": "code",
   "execution_count": 16,
   "id": "52001b6c",
   "metadata": {},
   "outputs": [],
   "source": [
    "def clean_string(text, stem=\"None\"):\n",
    "\n",
    "    final_string = \"\"\n",
    "\n",
    "    # Make lower\n",
    "    text = str(text).lower()\n",
    "\n",
    "    # Remove line breaks\n",
    "    # Note: that this line can be augmented and used over\n",
    "    # to repace any charcaters with nothing or a space\n",
    "    text = re.sub('\\n', '', text)\n",
    "\n",
    "    # Remove puncuation\n",
    "    translator = str.maketrans('', '', string.punctuation)\n",
    "    text = text.translate(translator)\n",
    "\n",
    "    # Remove stop words\n",
    "    text = text.split()\n",
    "    useless_words = nltk.corpus.stopwords.words(\"english\")\n",
    "    useless_words = useless_words + ['hi', 'im']\n",
    "\n",
    "    text_filtered = [word for word in text if not word in useless_words]\n",
    "\n",
    "    # Remove numbers\n",
    "    text_filtered = [re.sub('\\w*\\d\\w*', '', w) for w in text_filtered]\n",
    "    #print(text_filtered)\n",
    "    # Stem or Lemmatize\n",
    "    if stem == 'Stem':\n",
    "        stemmer = PorterStemmer() \n",
    "        text_stemmed = [stemmer.stem(y) for y in text_filtered]\n",
    "    elif stem == 'Lem':\n",
    "        lem = WordNetLemmatizer()\n",
    "        text_stemmed = [lem.lemmatize(y) for y in text_filtered]\n",
    "    else:\n",
    "        text_stemmed = text_filtered\n",
    "\n",
    "    final_string = ' '.join(text_stemmed)\n",
    "\n",
    "    return final_string"
   ]
  },
  {
   "cell_type": "code",
   "execution_count": 17,
   "id": "66a18730",
   "metadata": {},
   "outputs": [],
   "source": [
    "df_anime.synopsis=df_anime.synopsis.apply(lambda x: clean_string(x,stem=\"Lem\"))\n",
    "df_anime.title=df_anime.title.apply(lambda x: x.lower())"
   ]
  },
  {
   "cell_type": "code",
   "execution_count": 18,
   "id": "d14c8358",
   "metadata": {},
   "outputs": [
    {
     "data": {
      "text/plain": [
       "'turning former ally enemy alike eren yeager set disastrous plan motion guidance beast titan zeke eren take extreme measure end ancient conflict marley eldia true intention remain mystery delving deep family past eren fight control destiny meanwhile long feuding nation marley eldia utilize soldier titan brutal race eliminate reiner braun us power desperate bid hold eren militaristic force fellow eldians child falco grice gabi braun struggle survive unfolding chaos elsewhere eren childhood friend mikasa ackerman armin arlert remain imprisoned alongside eren former survey corp companion disturbed eren monstrous transformation blind belief eren still secretly harbor good intention mikasa others enter fray attempt save friend soul'"
      ]
     },
     "execution_count": 18,
     "metadata": {},
     "output_type": "execute_result"
    }
   ],
   "source": [
    "df_anime.synopsis[0]"
   ]
  },
  {
   "cell_type": "code",
   "execution_count": 19,
   "id": "facd1b0a",
   "metadata": {},
   "outputs": [
    {
     "data": {
      "text/html": [
       "<div>\n",
       "<style scoped>\n",
       "    .dataframe tbody tr th:only-of-type {\n",
       "        vertical-align: middle;\n",
       "    }\n",
       "\n",
       "    .dataframe tbody tr th {\n",
       "        vertical-align: top;\n",
       "    }\n",
       "\n",
       "    .dataframe thead th {\n",
       "        text-align: right;\n",
       "    }\n",
       "</style>\n",
       "<table border=\"1\" class=\"dataframe\">\n",
       "  <thead>\n",
       "    <tr style=\"text-align: right;\">\n",
       "      <th></th>\n",
       "      <th>id</th>\n",
       "      <th>title</th>\n",
       "      <th>num_list_users</th>\n",
       "      <th>synopsis</th>\n",
       "      <th>genres</th>\n",
       "    </tr>\n",
       "  </thead>\n",
       "  <tbody>\n",
       "    <tr>\n",
       "      <th>0</th>\n",
       "      <td>48583</td>\n",
       "      <td>shingeki no kyojin: the final season part 2</td>\n",
       "      <td>700714</td>\n",
       "      <td>turning former ally enemy alike eren yeager se...</td>\n",
       "      <td>Action|Drama|Fantasy|Military|Mystery|Shounen|...</td>\n",
       "    </tr>\n",
       "    <tr>\n",
       "      <th>1</th>\n",
       "      <td>40834</td>\n",
       "      <td>ousama ranking</td>\n",
       "      <td>291089</td>\n",
       "      <td>people kingdom look young prince bojji neither...</td>\n",
       "      <td>Adventure|Fantasy|</td>\n",
       "    </tr>\n",
       "    <tr>\n",
       "      <th>2</th>\n",
       "      <td>47778</td>\n",
       "      <td>kimetsu no yaiba: yuukaku-hen</td>\n",
       "      <td>703049</td>\n",
       "      <td>devastation mugen train incident still weighs ...</td>\n",
       "      <td>Action|Demons|Historical|Shounen|Supernatural|</td>\n",
       "    </tr>\n",
       "    <tr>\n",
       "      <th>3</th>\n",
       "      <td>21</td>\n",
       "      <td>one piece</td>\n",
       "      <td>1797407</td>\n",
       "      <td>gol roger known pirate king strongest infamous...</td>\n",
       "      <td>Action|Adventure|Comedy|Drama|Fantasy|Shounen|...</td>\n",
       "    </tr>\n",
       "    <tr>\n",
       "      <th>4</th>\n",
       "      <td>50185</td>\n",
       "      <td>ryman's club</td>\n",
       "      <td>34612</td>\n",
       "      <td>world corporate badminton easy seems although ...</td>\n",
       "      <td>Sports|Work Life|</td>\n",
       "    </tr>\n",
       "  </tbody>\n",
       "</table>\n",
       "</div>"
      ],
      "text/plain": [
       "      id                                        title  num_list_users  \\\n",
       "0  48583  shingeki no kyojin: the final season part 2          700714   \n",
       "1  40834                               ousama ranking          291089   \n",
       "2  47778                kimetsu no yaiba: yuukaku-hen          703049   \n",
       "3     21                                    one piece         1797407   \n",
       "4  50185                                 ryman's club           34612   \n",
       "\n",
       "                                            synopsis  \\\n",
       "0  turning former ally enemy alike eren yeager se...   \n",
       "1  people kingdom look young prince bojji neither...   \n",
       "2  devastation mugen train incident still weighs ...   \n",
       "3  gol roger known pirate king strongest infamous...   \n",
       "4  world corporate badminton easy seems although ...   \n",
       "\n",
       "                                              genres  \n",
       "0  Action|Drama|Fantasy|Military|Mystery|Shounen|...  \n",
       "1                                 Adventure|Fantasy|  \n",
       "2     Action|Demons|Historical|Shounen|Supernatural|  \n",
       "3  Action|Adventure|Comedy|Drama|Fantasy|Shounen|...  \n",
       "4                                  Sports|Work Life|  "
      ]
     },
     "execution_count": 19,
     "metadata": {},
     "output_type": "execute_result"
    }
   ],
   "source": [
    "df_anime.head(5)"
   ]
  },
  {
   "cell_type": "code",
   "execution_count": 20,
   "id": "2e966ae0",
   "metadata": {},
   "outputs": [],
   "source": [
    "df_anime.to_csv(f'./{year}_{season}_Preprocessed.csv')"
   ]
  },
  {
   "cell_type": "code",
   "execution_count": null,
   "id": "950ce925",
   "metadata": {},
   "outputs": [],
   "source": []
  }
 ],
 "metadata": {
  "kernelspec": {
   "display_name": "Python 3 (ipykernel)",
   "language": "python",
   "name": "python3"
  },
  "language_info": {
   "codemirror_mode": {
    "name": "ipython",
    "version": 3
   },
   "file_extension": ".py",
   "mimetype": "text/x-python",
   "name": "python",
   "nbconvert_exporter": "python",
   "pygments_lexer": "ipython3",
   "version": "3.8.8"
  },
  "toc-showtags": false
 },
 "nbformat": 4,
 "nbformat_minor": 5
}
