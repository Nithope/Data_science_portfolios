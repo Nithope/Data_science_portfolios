{
 "cells": [
  {
   "cell_type": "markdown",
   "id": "8d2f1954",
   "metadata": {},
   "source": [
    "https://myanimelist.net/apiconfig/references/api/v2#operation/users_user_id_animelist_get << Documentation"
   ]
  },
  {
   "cell_type": "markdown",
   "id": "3b85f105-35b5-4158-adaf-596609fddfc1",
   "metadata": {},
   "source": [
    "# Getting Animes from USER"
   ]
  },
  {
   "cell_type": "code",
   "execution_count": 8,
   "id": "7e4ef3e8",
   "metadata": {},
   "outputs": [],
   "source": [
    "import requests\n",
    "import json\n",
    "\n",
    "user='Nhrok'\n",
    "with open(\"./clientidmal\", 'r') as clientidmal:\n",
    "    uri_my_list = f\"https://api.myanimelist.net/v2/users/{user}/animelist?limit=1000\"\n",
    "    header={'X-MAL-CLIENT-ID' : f'{clientidmal.readline()}'}"
   ]
  },
  {
   "cell_type": "code",
   "execution_count": 4,
   "id": "535c2a07",
   "metadata": {
    "scrolled": true
   },
   "outputs": [],
   "source": [
    "response = requests.get(uri_my_list,headers=header)"
   ]
  },
  {
   "cell_type": "code",
   "execution_count": 5,
   "id": "414d508f",
   "metadata": {
    "scrolled": true
   },
   "outputs": [
    {
     "name": "stdout",
     "output_type": "stream",
     "text": [
      "[\n",
      "  {\n",
      "    \"node\": {\n",
      "      \"id\": 873,\n",
      "      \"main_picture\": {\n",
      "        \"large\": \"https://api-cdn.myanimelist.net/images/anime/3/13050l.jpg\",\n",
      "        \"medium\": \"https://api-cdn.myanimelist.net/images/anime/3/13050.jpg\"\n",
      "      },\n",
      "      \"title\": \".hack//Roots\"\n",
      "    }\n",
      "  },\n",
      "  {\n",
      "    \"node\": {\n",
      "      \"id\": 41380,\n",
      "      \"main_picture\": {\n",
      "        \"large\": \"https://api-cdn.myanimelist.net/images/anime/1506/117717l.jpg\",\n",
      "        \"medium\": \"https://api-cdn.myanimelist.net/images/anime/1506/117717.jpg\"\n",
      "      },\n",
      "      \"title\": \"100-man no Inochi no Ue ni Ore wa Tatteiru\"\n",
      "    }\n",
      "  },\n",
      "  {\n",
      "    \"node\": {\n",
      "      \"id\": 44881,\n",
      "      \"main_picture\": {\n",
      "        \"large\": \"https://api-cdn.myanimelist.net/images/anime/1424/117718l.jpg\",\n",
      "        \"medium\": \"https://api-cdn.myanimelist.net/images/anime/1424/117718.jpg\"\n",
      "      },\n",
      "      \"title\": \"100-man no Inochi no Ue ni Ore wa Tatteiru 2nd Season\"\n",
      "    }\n",
      "  }\n",
      "]\n"
     ]
    }
   ],
   "source": [
    "print(json.dumps(response.json()['data'][:3],indent=2, sort_keys=True))"
   ]
  },
  {
   "cell_type": "code",
   "execution_count": 6,
   "id": "1f400d11",
   "metadata": {},
   "outputs": [
    {
     "data": {
      "text/plain": [
       "528"
      ]
     },
     "execution_count": 6,
     "metadata": {},
     "output_type": "execute_result"
    }
   ],
   "source": [
    "len(response.json()['data'])"
   ]
  },
  {
   "cell_type": "markdown",
   "id": "495c6bdc",
   "metadata": {},
   "source": [
    "## Create Json"
   ]
  },
  {
   "cell_type": "code",
   "execution_count": 7,
   "id": "8166f885",
   "metadata": {},
   "outputs": [],
   "source": [
    "with open('./my_data.json', 'w') as f:\n",
    "    json.dump(response.json()['data'], f)"
   ]
  },
  {
   "cell_type": "markdown",
   "id": "0ed5ef27",
   "metadata": {},
   "source": [
    "https://myanimelist.net/apiconfig/references/api/v2#operation/anime_anime_id_get"
   ]
  },
  {
   "cell_type": "markdown",
   "id": "d7473924",
   "metadata": {},
   "source": [
    "## Read Json"
   ]
  },
  {
   "cell_type": "code",
   "execution_count": 2,
   "id": "4b5303d6",
   "metadata": {},
   "outputs": [
    {
     "name": "stdout",
     "output_type": "stream",
     "text": [
      "[{'node': {'id': 873, 'title': '.hack//Roots', 'main_picture': {'medium': 'https://api-cdn.myanimelist.net/images/anime/3/13050.jpg', 'large': 'https://api-cdn.myanimelist.net/images/anime/3/13050l.jpg'}}}, {'node': {'id': 41380, 'title': '100-man no Inochi no Ue ni Ore wa Tatteiru', 'main_picture': {'medium': 'https://api-cdn.myanimelist.net/images/anime/1506/117717.jpg', 'large': 'https://api-cdn.myanimelist.net/images/anime/1506/117717l.jpg'}}}, {'node': {'id': 44881, 'title': '100-man no Inochi no Ue ni Ore wa Tatteiru 2nd Season', 'main_picture': {'medium': 'https://api-cdn.myanimelist.net/images/anime/1424/117718.jpg', 'large': 'https://api-cdn.myanimelist.net/images/anime/1424/117718l.jpg'}}}, {'node': {'id': 35248, 'title': '18if', 'main_picture': {'medium': 'https://api-cdn.myanimelist.net/images/anime/7/86743.jpg', 'large': 'https://api-cdn.myanimelist.net/images/anime/7/86743l.jpg'}}}, {'node': {'id': 36793, 'title': '3D Kanojo: Real Girl', 'main_picture': {'medium': 'https://api-cdn.myanimelist.net/images/anime/1327/93616.jpg', 'large': 'https://api-cdn.myanimelist.net/images/anime/1327/93616l.jpg'}}}]\n"
     ]
    }
   ],
   "source": [
    "with open('./my_data.json', 'r') as f:\n",
    "    response= json.load(f)\n",
    "print(response[:5])"
   ]
  },
  {
   "cell_type": "markdown",
   "id": "f528ebdd-41d8-442d-93dd-3a87f77a1fbd",
   "metadata": {},
   "source": [
    "## Getting Synopsis and Genres for the USER"
   ]
  },
  {
   "cell_type": "code",
   "execution_count": 3,
   "id": "908cde55",
   "metadata": {
    "scrolled": true
   },
   "outputs": [],
   "source": [
    "for data in response[:]:\n",
    "    anime_id=data[\"node\"]['id']\n",
    "    uri_anime_id = f\"https://api.myanimelist.net/v2/anime/{anime_id}?fields=synopsis,genres\"\n",
    "    anime_details=requests.get(uri_anime_id,headers=header)\n",
    "    data[\"node\"][\"synopsis\"] = anime_details.json()[\"synopsis\"]\n",
    "    data[\"node\"][\"genres\"] = anime_details.json()[\"genres\"]\n",
    "    #print(uri_anime_id)\n",
    "    #print(json.dumps(anime_details.json(),indent=2, sort_keys=True))"
   ]
  },
  {
   "cell_type": "code",
   "execution_count": 4,
   "id": "02c82890",
   "metadata": {},
   "outputs": [],
   "source": [
    "for data in response[:]:\n",
    "    del data['node'][\"main_picture\"]"
   ]
  },
  {
   "cell_type": "code",
   "execution_count": 5,
   "id": "40e5f983",
   "metadata": {},
   "outputs": [
    {
     "data": {
      "text/plain": [
       "{'node': {'id': 873,\n",
       "  'title': '.hack//Roots',\n",
       "  'synopsis': 'After the termination of the incredibly popular virtual reality MMORPG \"The World,\" a new version of the game—The World R:2—is brought online. On his first day in the game, newcomer Haseo thinks he has made some friends to quest with. However, as if mocking his sentiments, they kill his character just for fun. Luckily, he is saved by a mysterious, one-armed player named Ovan who offers to show him around The World. \\n\\nAlongside Ovan and his cleric friend Shino, Haseo enjoys a wonderful first year in the game. But this peaceful life is shattered when Shino\\'s character is killed by a familiar figure notoriously known as Tri-Edge, whose victims have all fallen into comas in the real world. In a fit of rage, Haseo vows to find the elusive Tri-Edge and kill him.\\n\\nTaking place during Haseo\\'s first year in The World, .hack//Roots explores the friendships Haseo built in the game before Tri-Edge ripped them away.\\n\\n[Written by MAL Rewrite]',\n",
       "  'genres': [{'id': 2, 'name': 'Adventure'},\n",
       "   {'id': 8, 'name': 'Drama'},\n",
       "   {'id': 10, 'name': 'Fantasy'},\n",
       "   {'id': 11, 'name': 'Game'},\n",
       "   {'id': 24, 'name': 'Sci-Fi'}]}}"
      ]
     },
     "execution_count": 5,
     "metadata": {},
     "output_type": "execute_result"
    }
   ],
   "source": [
    "response[0]"
   ]
  },
  {
   "cell_type": "code",
   "execution_count": 6,
   "id": "50ecb3f0",
   "metadata": {},
   "outputs": [],
   "source": [
    "for data in response[:]:\n",
    "    g=\"\"\n",
    "    for genre in data[\"node\"][\"genres\"]: \n",
    "        g =g+f\"{genre['name']}|\"\n",
    "    data[\"node\"][\"genres\"] = g\n",
    "    "
   ]
  },
  {
   "cell_type": "code",
   "execution_count": 8,
   "id": "07e729b0",
   "metadata": {
    "scrolled": true
   },
   "outputs": [
    {
     "name": "stdout",
     "output_type": "stream",
     "text": [
      "Action|Drama|Fantasy|Game|Shounen|\n",
      "Yuusuke Yotsuka has always disliked Tokyo, but he especially hates the people who live in it. He would rather thrive in a virtual world than try to get along with those around him. At the end of one school day, he sees the popular athlete Iu Shindou talking to Kusue Hakozaki, who spends less time in school due to illness. But when he looks away from the two and back again, they have seemingly disappeared.\n",
      "\n",
      "Mere moments later, Yotsuya enters a state of free-fall, and the world begins to change around him. Dropping into a large pool of water, the first thing he sees when he comes to his senses is an assortment of enormous monsters. He soon finds out that he has been brought into a game world by Shindou and Hakozaki and that he must complete a quest within 14 days.\n",
      "\n",
      "There is one thing that separates this world from the real world: anyone who dies will be brought back to life in 30 seconds as long as one party member is alive. Tasked with numerous quests that increase in difficulty over time, Yotsuya, Shindou, and Hakozaki attempt to discover the mystery behind the perplexing game world.\n",
      "\n",
      "[Written by MAL Rewrite]\n",
      "Drama|Fantasy|Game|Shounen|\n",
      "Once again, the Game Master's world of quests unexpectedly pulls in Yuusuke Yotsuya and the rest of this old team. Accompanied by the newest addition, Keita Torii, the team reunites with Kahabell, still unaware of their actions' impact on this world. \n",
      "\n",
      "After bidding Kahabell farewell, the team sets out on their newly appointed quest—an offering of a Jiffon Buffalo at Vaikdamnia on Jiffon Island. However, as their journey to the island commences, the team shortly finds that the quest is not as simple as it initially seemed.\n",
      "\n",
      "In fact, the island is terrorized by orcs that have made a deal with its inhabitants: instead of devouring the islanders, the orcs will be granted buffalo. With the growing shortage of buffalo, the annual Vaikdamnia festival cannot proceed. But, given the importance of the team's quest, they are left with the obvious choice—rid the island of the orcs and save the islanders.\n",
      "\n",
      "[Written by MAL Rewrite]\n",
      "Mystery|Supernatural|\n",
      "Waking up in a strange bedroom in a dream world, teenager Haruto Tsukishiro finds a strange app on his phone. When he activates the program, an odd woman appears and tries to drag him to her realm. Luckily, a mysterious, white-haired girl severs their connection and helps him escape, revealing that the woman is a witch; however, their conversation is cut short. As Haruto enters the realm again, he meets an anthropomorphic, talking cat named Katsumi Kanzaki. While the witch's minions pursue them, the white-haired girl opens a door for them to escape.\n",
      "\n",
      "After their ordeal, Haruto describes their savior—which only he can see—and Katsumi, the leading authority on dream world research, realizes that she must be \"Lily,\" a being that resurfaces repeatedly across multiple dreamscapes. Hoping to leave the dream world through a blue door, they enter the witch's realm once again. Finding themselves in peril, Lily reveals the truth to Haruto: witches suffer from \"Sleeping Beauty Syndrome,\" a coma-like sleep state induced by torment in their real world lives. Thus, they cannot wake until they are defeated in the dream world.\n",
      "\n",
      "After finally defeating the witch and locating the blue door, Haruto and Katsumi say their farewells, promising to meet up in the real world. However, when Haruto exits through the door he awakens in the dream world bedroom once more. Seeking answers, Haruto and Katsumi try to uncover the mysteries of the witches, Lily, and Haruto's own inability to leave the dream world.\n",
      "\n",
      "[Written by MAL Rewrite]\n",
      "Romance|School|Shoujo|\n",
      "For Hikari Tsutsui, life within the two-dimensional realm is much simpler. Socially inept and awkward, he immerses himself in video games and anime, only to be relentlessly ridiculed and ostracized by his classmates. Sharing his misery is Yuuto Itou, his only friend, who wears cat ears and is equally obsessed with the world of games. \n",
      "\n",
      "After being forced to clean the pool as punishment for arriving late, Tsutsui meets Iroha Igarashi, but he attempts to steer clear of her, as her notoriety precedes her. Brazenly blunt, loathed by female classmates, and infamous for messing around with boys, Tsutsui believes that getting involved with her would cause nothing but problems. \n",
      "\n",
      "3D Kanojo: Real Girl is a story revolving around these two outcasts—a boy full of emotions he has never experienced before, struggling to lay them bare, and a girl who strives to break him out of his shell.\n",
      "\n",
      "[Written by MAL Rewrite]\n",
      "Romance|School|Shoujo|\n",
      "Second season of 3D Kanojo: Real Girl.\n",
      "Action|Ecchi|Harem|Romance|School|Supernatural|\n",
      "Individuals who can materialize weapons from their soul are called \"Blazers,\" and they attend Kouryou Academy High School in order to harness their abilities. Each student is required to partner with another, in the hopes that one day, the pair can attain the power of Absolute Duo.\n",
      "\n",
      "Tooru Kokonoe hopes to attend this academy in order to gain power after his sister and friends were slain by a mysterious man. However, at the opening ceremony, he is forced to duel against the person sitting next to him, with the loser being expelled. As Tooru prepares to give the match his all, it is not a weapon that manifests from his soul, but a shield, an irregularity which catches the attention of a foreign student named Julie Sigtuna.\n",
      "\n",
      "[Written by MAL Rewrite]\n",
      "Drama|Fantasy|Mystery|Police|Seinen|\n",
      "ACCA—a national body of the kingdom of Dowa that provides public services to the citizens of the country—was established as part of the peace settlement between the king of Dowa and the 13 states of the country during a revolt. One hundred years later, Dowa is in a period of unprecedented peace, due in part to the ACCA system. However, rumors of a coup d'état start to surface. Jean Otus, the second-in-command of the inspection department of ACCA, is charged with inspecting all 13 state branches. What will he discover as he performs his audit?\n",
      "\n",
      "Intriguing and mysterious, ACCA: 13-ku Kansatsu-ka is a politically-themed mystery that reveals a world of diverse cultures and lifestyles, with intricate connections between its characters, as the truth of the coup d'état slowly unfolds.\n",
      "\n",
      "[Written by MAL Rewrite]\n",
      "Action|Game|Romance|School|Sci-Fi|\n",
      "Haruyuki Arita is an overweight, bullied middle schooler who finds solace in playing online games. But his life takes a drastic turn one day, when he finds that all his high scores have been topped by Kuroyukihime, the popular vice president of the student council. She then invites him to the student lounge and introduces him to \"Brain Burst,\" a program which allows the users to accelerate their brain waves to the point where time seems to stop. Brain Burst also functions as an augmented reality fighting game, and in order to get more points to accelerate, users must win duels against other players. However, if a user loses all their points, they will also lose access to Brain Burst forever.\n",
      "\n",
      "Kuroyukihime explains that she chose to show Haruyuki the program because she needs his help. She wants to meet the creator of Brain Burst and uncover the reason of why it was created, but that's easier said than done; to do so, she must defeat the \"Six Kings of Pure Color,\" powerful faction leaders within the game, and reach level 10, the highest level attainable. After the girl helps Haruyuki overcome the bullies that torment him, he vows to help her realize her goal, and so begins the duo's fight to reach the top.\n",
      "\n",
      "[Written by MAL Rewrite]\n",
      "Comedy|Romance|School|Slice of Life|\n",
      "Feelings may come and go, but true love always remains in the heart. Tsumiki Miniwa is in love with her best friend, Io Otonashi. For her, confessing is nearly impossible; but to her friends, they seem to be the perfect match. Cute and petite, Tsumiki comes off more as a friend, and Io's attitude toward her is friendlier than toward others. Despite the constant teasing and obvious hints that his friends have been dropping, Io always seems to miss the signs. \n",
      "\n",
      "Throughout her everyday school life, Tsumiki spends time with her friends and Io. Will she finally muster enough courage to confess her true feelings?\n",
      "\n",
      "[Written by MAL Rewrite]\n",
      "Action|Horror|Mystery|Seinen|Supernatural|\n",
      "Mysterious immortal humans known as \"Ajin\" first appeared 17 years ago in Africa. Upon their discovery, they were labeled as a threat to mankind, as they might use their powers for evil and were incapable of being destroyed. Since then, whenever an Ajin is found within society, they are to be arrested and taken into custody immediately.\n",
      "\n",
      "Studying hard to become a doctor, Kei Nagai is a high schooler who knows very little about Ajin, only having seen them appear in the news every now and then. Students are taught that these creatures are not considered to be human, but Kei doesn't pay much attention in class. As a result, his perilously little grasp on this subject proves to be completely irrelevant when he survives an accident that was supposed to claim his life, signaling his rebirth as an Ajin and the start of his days of torment. However, as he finds himself alone on the run from the entire world, Kei soon realizes that more of his species may be a lot closer than he thinks.\n",
      "\n",
      "[Written by MAL Rewrite]\n",
      "Drama|Fantasy|Romance|Shoujo|\n",
      "Although her name means \"snow white,\" Shirayuki is a cheerful, red-haired girl living in the country of Tanbarun who works diligently as an apothecary at her herbal shop. Her life changes drastically when she is noticed by the silly prince of Tanbarun, Prince Raji, who then tries to force her to become his concubine. Unwilling to give up her freedom, Shirayuki cuts her long red hair and escapes into the forest, where she is rescued from Raji by Zen Wistalia, the second prince of a neighboring country, and his two aides. Hoping to repay her debt to the trio someday, Shirayuki sets her sights on pursuing a career as the court herbalist in Zen's country, Clarines.\n",
      "\n",
      "Akagami no Shirayuki-hime depicts Shirayuki's journey toward a new life at the royal palace of Clarines, as well as Zen's endeavor to become a prince worthy of his title. As loyal friendships are forged and deadly enemies formed, Shirayuki and Zen slowly learn to support each other as they walk their own paths.\n",
      "\n",
      "[Written by MAL Rewrite]\n",
      "Drama|Fantasy|Romance|Shoujo|\n",
      "Shirayuki and Zen Wistalia have finally confirmed their romantic feelings for each other, and everyone has resumed their daily lives. Shirayuki remains an apprentice court herbalist at the royal palace of Clarines, and Zen continues his duties alongside his aides.\n",
      "\n",
      "However, their daily routines are disrupted when Crown Prince Izana, Zen’s older brother, receives an invitation from Raji Shenazard, the prince of Tanbarun. The herbalist finds herself ordered to go to Tanbarun for seven days, to build a new friendship with the formerly selfish and haughty ruler who once ordered Shirayuki to become his concubine. Along the way, Shirayuki is bound to run into trouble once again, as she is sought by a mysterious boy named Kazuki, someone she has never met.\n",
      "\n",
      "[Written by MAL Rewrite]\n",
      "Action|Adventure|Comedy|Fantasy|Romance|Shoujo|\n",
      "Princess Yona lives a life of luxury and ease, completely sheltered from the problems of the seemingly peaceful Kingdom of Kouka; however, the sudden murder of the king and betrayal of her beloved cousin Su-won places Yona's life in mortal peril. Forced to escape only with Son Hak, who is both her childhood friend and bodyguard, the naïve princess soon discovers that Kouka is not the idyllic place she envisioned it to be. Poverty, strife, and corruption run rampant, making reclaiming the throne nothing more than a wishful fantasy given the kingdom's current state.\n",
      "\n",
      "Based on the popular manga of the same name by Mizuho Kusanagi, Akatsuki no Yona follows Princess Yona on a coming-of-age adventure as she faces the harsh realities of her kingdom. With only a mysterious legend to guide her, Yona must discover a way to restore Kouka to its former glory while being pursued relentlessly by the forces of the new King of Kouka.\n",
      "\n",
      "[Written by MAL Rewrite]\n",
      "Action|Comedy|Ecchi|Supernatural|\n",
      "Otaku siblings Tamotsu and Niwaka Denkigai are shopping in Akihabara when it is overrun by vampiric cosplaying monsters! These creatures, known as \"Bugged Ones,\" can possess anyone they bite and soon they begin causing mayhem across the city. As Tamotsu finds himself at the mercy of one of these creatures, he is rescued by the mysterious baseball bat-wielding Matome Mayonaka. Together, they fight through several more encounters with the Bugged Ones, but before long, Tamotsu is fatally wounded protecting Matome. With no other choice, she revives him as a high level Bugged One—just like her! \n",
      "\n",
      "Tamotsu and Matome, along with excitable otaku cosplayer Arisa Ahokainen, make up the group \"The Electric Mayonnaise\" and they begin dispatching the Bugged Ones in the only way they know how: by ripping off their clothes and exposing them to sunlight!\n",
      "\n",
      "[Written by MAL Rewrite]\n",
      "Comedy|Josei|Romance|School|\n",
      "Despite his incredible bashfulness, Atsuhiro \"Akkun\" Kagari has landed the girl of his dreams: the sweet and loveable Non Katagiri. However, his embarrassment for affectionate acts—from giving compliments to exchanging a kiss—causes him to act harsh and downright mean to Katagiri in their day-to-day lives. But Akkun is still very much a boy in love; and he shows his admiration for Katagiri in his own way. From tailing her in order to take her picture to eavesdropping in on her conversations, he ends up stalking his own girlfriend. \n",
      "\n",
      "Luckily enough, Katagiri finds Akkun's actions cute and endearing, and knows he doesn't really mean any of his insults. Even if their close friend, Masago Matsuo, finds their dynamic a little odd, Katagiri loves her sweet tyrant just the way he is.\n",
      "\n",
      "[Written by MAL Rewrite]\n",
      "\n",
      "Action|Sci-Fi|\n",
      "The bustling metropolis of Kansai, where cybernetic screens litter the neon landscape, may seem like a technological utopia at first glance. But in the dark alleys around the brightly-lit buildings, an unforgiving criminal underbelly still exists in the form of fugitives known as \"Akudama.\" \n",
      "\n",
      "No stranger to these individuals, Kansai police begin the countdown to the public execution of an infamous Akudama \"Cutthroat,\" guilty of killing 999 people. However, a mysterious message is sent to several elite Akudama, enlisting them to free Cutthroat for a substantial amount of money. An invisible hand seeks to gather these dangerous personas in one place, ensuring that the execution is well underway to becoming a full-blown bloodbath.\n",
      "\n",
      "[Written by MAL Rewrite]\n",
      "Action|Girls Love|School|\n",
      "Tokaku Azuma has just transferred to the elite Myoujou Academy, a private girls' boarding school. But there's a catch: she, along with 11 of her fellow students in Class Black, is an assassin taking part in the challenge to kill their sweet-natured classmate, Haru Ichinose. Whoever succeeds will be granted their deepest desire, no matter the difficulty or cost. However, each assassin only gets one chance; if they fail to kill her, they will be expelled.\n",
      "\n",
      "Despite the extraordinary reward, Tokaku decides to take a different course of action. Though Haru is her target, the young assassin soon finds herself drawn to the very girl she is supposed to kill. With the entire class out for Haru, Tokaku refuses to let her friend die, vowing to protect her from a growing bloodlust.\n",
      "\n",
      "[Written by MAL Rewrite]\n",
      "Adventure|Mystery|Seinen|\n",
      "Sana is not an ordinary little girl; she possesses a special ability known as \"Alice's Dream.\" Due to her power, which allows her to create anything from her imagination, all that she knows is the laboratory where she is a test subject. Wishing to experience the outside world, she escapes and meets a stubborn old florist named Zouroku Kashimura in a convenience store. All too soon, her pursuers catch up and Zouroku is roped into Sana's troubles.\n",
      "\n",
      "However, far from trying to distance himself, Zouroku extends a hand to help Sana. Following his values and sense of justice, he even gives the pursuers a piece of his mind! Zouroku then offers Sana a place to stay, beginning the daily life and struggles of the unlikely duo.\n",
      "\n",
      "[Written by MAL Rewrite]\n",
      "Comedy|Drama|Fantasy|\n",
      "Seiya Kanie, a smart and extremely narcissistic high school student, believes that the beautiful but reserved Isuzu Sento has invited him on a date at an amusement park called Amagi Brilliant Park. Much to his chagrin, not only is the location a run-down facility, the supposed date is merely a recruitment tour where Sento and Princess Latifa Fleuranza, the owner of the theme park, ask him to become the park's new manager. Their cause for desperation? As stipulated in a land-use contract, Amagi has less than three months to meet a quota of 500,000 guests, or the park will be closed for good and the land redeveloped by a greedy real-estate company.\n",
      "\n",
      "Seiya is won over by the revelation that Amagi is no ordinary amusement park; many of its employees are Maple Landers—mysterious magical beings who live in the human world and are nourished by the energy created by people having fun. Entrusted with the hopes and dreams of this far-off enchanted land, Seiya must now use his many skills to bring Amagi back on its feet, or watch it crumble before his eyes.\n",
      "\n",
      "[Written by MAL Rewrite]\n"
     ]
    }
   ],
   "source": [
    "for a in response[1:20]:\n",
    "        print(a['node']['genres'])\n",
    "        print(a['node']['synopsis'])"
   ]
  },
  {
   "cell_type": "code",
   "execution_count": 19,
   "id": "a972a8ef",
   "metadata": {},
   "outputs": [],
   "source": [
    "with open(f'./{user}_data_synopsis.json', 'w') as f:\n",
    "    json.dump(response, f)"
   ]
  },
  {
   "cell_type": "markdown",
   "id": "e163df40",
   "metadata": {},
   "source": [
    "# Getting Seasonal Anime\n",
    "\n",
    "<p style=\"font-size:15px\"> Getting animes with 20k or more users watching.<br>\n",
    "    So I can filter the most popular ones and still get a few that might be good which have some users watching</p>"
   ]
  },
  {
   "cell_type": "code",
   "execution_count": 47,
   "id": "e556db50",
   "metadata": {},
   "outputs": [],
   "source": [
    "year=2022\n",
    "season='winter'\n",
    "url_season_MAL=f'https://api.myanimelist.net/v2/anime/season/{year}/{season}?fields=num_list_users&limit=200'"
   ]
  },
  {
   "cell_type": "code",
   "execution_count": 48,
   "id": "9c7a0742",
   "metadata": {
    "scrolled": true
   },
   "outputs": [
    {
     "data": {
      "text/plain": [
       "165"
      ]
     },
     "execution_count": 48,
     "metadata": {},
     "output_type": "execute_result"
    }
   ],
   "source": [
    "response = requests.get(url_season_MAL,headers=header)\n",
    "len(response.json()['data'])"
   ]
  },
  {
   "cell_type": "code",
   "execution_count": 49,
   "id": "d5934e92",
   "metadata": {
    "scrolled": true
   },
   "outputs": [
    {
     "name": "stdout",
     "output_type": "stream",
     "text": [
      "[\n",
      "  {\n",
      "    \"node\": {\n",
      "      \"id\": 48583,\n",
      "      \"main_picture\": {\n",
      "        \"large\": \"https://api-cdn.myanimelist.net/images/anime/1948/120625l.jpg\",\n",
      "        \"medium\": \"https://api-cdn.myanimelist.net/images/anime/1948/120625.jpg\"\n",
      "      },\n",
      "      \"num_list_users\": 700714,\n",
      "      \"title\": \"Shingeki no Kyojin: The Final Season Part 2\"\n",
      "    }\n",
      "  },\n",
      "  {\n",
      "    \"node\": {\n",
      "      \"id\": 40834,\n",
      "      \"main_picture\": {\n",
      "        \"large\": \"https://api-cdn.myanimelist.net/images/anime/1347/117616l.jpg\",\n",
      "        \"medium\": \"https://api-cdn.myanimelist.net/images/anime/1347/117616.jpg\"\n",
      "      },\n",
      "      \"num_list_users\": 291089,\n",
      "      \"title\": \"Ousama Ranking\"\n",
      "    }\n",
      "  },\n",
      "  {\n",
      "    \"node\": {\n",
      "      \"id\": 47778,\n",
      "      \"main_picture\": {\n",
      "        \"large\": \"https://api-cdn.myanimelist.net/images/anime/1908/120036l.jpg\",\n",
      "        \"medium\": \"https://api-cdn.myanimelist.net/images/anime/1908/120036.jpg\"\n",
      "      },\n",
      "      \"num_list_users\": 703049,\n",
      "      \"title\": \"Kimetsu no Yaiba: Yuukaku-hen\"\n",
      "    }\n",
      "  }\n",
      "]\n"
     ]
    }
   ],
   "source": [
    "print(json.dumps(response.json()['data'][:3],indent=2, sort_keys=True))"
   ]
  },
  {
   "cell_type": "code",
   "execution_count": 82,
   "id": "fd95fc8b",
   "metadata": {},
   "outputs": [
    {
     "data": {
      "text/plain": [
       "{'node': {'id': 50271,\n",
       "  'title': 'Hua Jiang Hu: Bu Liang Ren V',\n",
       "  'main_picture': {'medium': 'https://api-cdn.myanimelist.net/images/anime/1004/119124.jpg',\n",
       "   'large': 'https://api-cdn.myanimelist.net/images/anime/1004/119124l.jpg'},\n",
       "  'num_list_users': 298}}"
      ]
     },
     "execution_count": 82,
     "metadata": {},
     "output_type": "execute_result"
    }
   ],
   "source": [
    "response.json()['data'][164]"
   ]
  },
  {
   "cell_type": "code",
   "execution_count": 86,
   "id": "87e8b9ca",
   "metadata": {},
   "outputs": [
    {
     "data": {
      "text/plain": [
       "38"
      ]
     },
     "execution_count": 86,
     "metadata": {},
     "output_type": "execute_result"
    }
   ],
   "source": [
    "data_tmp=[]\n",
    "for i,data in enumerate(response.json()['data']):\n",
    "    if data['node'][\"num_list_users\"] > 20000:\n",
    "        data_tmp.append(data)\n",
    "len(data_tmp)\n"
   ]
  },
  {
   "cell_type": "code",
   "execution_count": 128,
   "id": "585effb5",
   "metadata": {},
   "outputs": [
    {
     "data": {
      "text/plain": [
       "[{'node': {'id': 48583,\n",
       "   'title': 'Shingeki no Kyojin: The Final Season Part 2',\n",
       "   'main_picture': {'medium': 'https://api-cdn.myanimelist.net/images/anime/1948/120625.jpg',\n",
       "    'large': 'https://api-cdn.myanimelist.net/images/anime/1948/120625l.jpg'},\n",
       "   'num_list_users': 700714}},\n",
       " {'node': {'id': 40834,\n",
       "   'title': 'Ousama Ranking',\n",
       "   'main_picture': {'medium': 'https://api-cdn.myanimelist.net/images/anime/1347/117616.jpg',\n",
       "    'large': 'https://api-cdn.myanimelist.net/images/anime/1347/117616l.jpg'},\n",
       "   'num_list_users': 291089}},\n",
       " {'node': {'id': 47778,\n",
       "   'title': 'Kimetsu no Yaiba: Yuukaku-hen',\n",
       "   'main_picture': {'medium': 'https://api-cdn.myanimelist.net/images/anime/1908/120036.jpg',\n",
       "    'large': 'https://api-cdn.myanimelist.net/images/anime/1908/120036l.jpg'},\n",
       "   'num_list_users': 703049}}]"
      ]
     },
     "execution_count": 128,
     "metadata": {},
     "output_type": "execute_result"
    }
   ],
   "source": [
    "data_tmp[:3]"
   ]
  },
  {
   "cell_type": "code",
   "execution_count": 88,
   "id": "7a46e9ae",
   "metadata": {},
   "outputs": [],
   "source": [
    "with open(f'./{year}_{season}_MAL.json', 'w') as f:\n",
    "    json.dump(data_tmp, f)"
   ]
  },
  {
   "cell_type": "markdown",
   "id": "5f1e08e8",
   "metadata": {},
   "source": [
    "## Read Json"
   ]
  },
  {
   "cell_type": "code",
   "execution_count": 138,
   "id": "408030d4",
   "metadata": {},
   "outputs": [],
   "source": [
    "with open(f'./{year}_{season}_MAL.json', 'r') as f:\n",
    "    response= json.load(f)\n",
    "#print(json.dumps(response[:],indent=2,sort_keys=True))"
   ]
  },
  {
   "cell_type": "code",
   "execution_count": 139,
   "id": "fbb03eff",
   "metadata": {},
   "outputs": [
    {
     "data": {
      "text/plain": [
       "{'node': {'id': 48583,\n",
       "  'title': 'Shingeki no Kyojin: The Final Season Part 2',\n",
       "  'main_picture': {'medium': 'https://api-cdn.myanimelist.net/images/anime/1948/120625.jpg',\n",
       "   'large': 'https://api-cdn.myanimelist.net/images/anime/1948/120625l.jpg'},\n",
       "  'num_list_users': 700714}}"
      ]
     },
     "execution_count": 139,
     "metadata": {},
     "output_type": "execute_result"
    }
   ],
   "source": [
    "response[0]"
   ]
  },
  {
   "cell_type": "markdown",
   "id": "dfb012e5",
   "metadata": {},
   "source": [
    "## Getting synopsis and genres For the SEASON"
   ]
  },
  {
   "cell_type": "code",
   "execution_count": 140,
   "id": "7beb4c85",
   "metadata": {
    "scrolled": true
   },
   "outputs": [
    {
     "data": {
      "text/plain": [
       "38"
      ]
     },
     "execution_count": 140,
     "metadata": {},
     "output_type": "execute_result"
    }
   ],
   "source": [
    "for data in response[:]:\n",
    "    anime_id=data[\"node\"]['id']\n",
    "    uri_anime_id = f\"https://api.myanimelist.net/v2/anime/{anime_id}?fields=synopsis,genres\"\n",
    "    anime_details=requests.get(uri_anime_id,headers=header)\n",
    "    data[\"node\"][\"synopsis\"] = anime_details.json()[\"synopsis\"]\n",
    "    data[\"node\"][\"genres\"] = anime_details.json()[\"genres\"]\n",
    "    #print(uri_anime_id)\n",
    "    #print(json.dumps(anime_details.json(),indent=2, sort_keys=True))\n",
    "len(response)"
   ]
  },
  {
   "cell_type": "code",
   "execution_count": 141,
   "id": "3275c10d",
   "metadata": {},
   "outputs": [],
   "source": [
    "for data in response[:]:\n",
    "    del data['node'][\"main_picture\"]"
   ]
  },
  {
   "cell_type": "code",
   "execution_count": 142,
   "id": "11994361",
   "metadata": {},
   "outputs": [
    {
     "data": {
      "text/plain": [
       "{'node': {'id': 47778,\n",
       "  'title': 'Kimetsu no Yaiba: Yuukaku-hen',\n",
       "  'num_list_users': 703049,\n",
       "  'synopsis': \"The devastation of the Mugen Train incident still weighs heavily on the members of the Demon Slayer Corps. Despite being given time to recover, life must go on, as the wicked never sleep: a vicious demon is terrorizing the alluring women of the Yoshiwara Entertainment District. The Sound Pillar, Tengen Uzui, and his three wives are on the case. However, when he soon loses contact with his spouses, Tengen fears the worst and enlists the help of Tanjirou Kamado, Zenitsu Agatsuma, and Inosuke Hashibira to infiltrate the district's most prominent houses and locate the depraved Upper Rank demon.\\n\\n[Written by MAL Rewrite]\\n\",\n",
       "  'genres': [{'id': 1, 'name': 'Action'},\n",
       "   {'id': 6, 'name': 'Demons'},\n",
       "   {'id': 13, 'name': 'Historical'},\n",
       "   {'id': 27, 'name': 'Shounen'},\n",
       "   {'id': 37, 'name': 'Supernatural'}]}}"
      ]
     },
     "execution_count": 142,
     "metadata": {},
     "output_type": "execute_result"
    }
   ],
   "source": [
    "response[2]"
   ]
  },
  {
   "cell_type": "code",
   "execution_count": null,
   "id": "02b1fcce",
   "metadata": {},
   "outputs": [],
   "source": [
    "for data in response[:]:\n",
    "    g=\"\"\n",
    "    for genre in data[\"node\"][\"genres\"]: \n",
    "        g =g+f\"{genre['name']}|\"\n",
    "    data[\"node\"][\"genres\"] = g\n",
    "    "
   ]
  },
  {
   "cell_type": "code",
   "execution_count": 145,
   "id": "49906c23",
   "metadata": {
    "scrolled": true
   },
   "outputs": [
    {
     "name": "stdout",
     "output_type": "stream",
     "text": [
      "Adventure|Fantasy|\n",
      "The people of the kingdom look down on the young Prince Bojji, who can neither hear nor speak. They call him \"The Useless Prince\" while jeering at his supposed foolishness.\n",
      "\n",
      "However, while Bojji may not be physically strong, he is certainly not weak of heart. When a chance encounter with a shadow creature should have left him traumatized, it instead makes him believe that he has found a friend amidst those who only choose to notice his shortcomings. He starts meeting with Kage, the shadow, regularly, to the point where even the otherwise abrasive creature begins to warm up to him.\n",
      "\n",
      "Kage and Bojji's unlikely friendship lays the budding foundations of the prince's journey, one where he intends to conquer his fears and insecurities. Despite the constant ridicule he faces, Bojji resolves to fulfill his desire of becoming the best king he can be.\n",
      "\n",
      "[Written by MAL Rewrite]\n",
      "Action|Demons|Historical|Shounen|Supernatural|\n",
      "The devastation of the Mugen Train incident still weighs heavily on the members of the Demon Slayer Corps. Despite being given time to recover, life must go on, as the wicked never sleep: a vicious demon is terrorizing the alluring women of the Yoshiwara Entertainment District. The Sound Pillar, Tengen Uzui, and his three wives are on the case. However, when he soon loses contact with his spouses, Tengen fears the worst and enlists the help of Tanjirou Kamado, Zenitsu Agatsuma, and Inosuke Hashibira to infiltrate the district's most prominent houses and locate the depraved Upper Rank demon.\n",
      "\n",
      "[Written by MAL Rewrite]\n",
      "\n",
      "Action|Adventure|Comedy|Drama|Fantasy|Shounen|Super Power|\n",
      "Gol D. Roger was known as the \"Pirate King,\" the strongest and most infamous being to have sailed the Grand Line. The capture and execution of Roger by the World Government brought a change throughout the world. His last words before his death revealed the existence of the greatest treasure in the world, One Piece. It was this revelation that brought about the Grand Age of Pirates, men who dreamed of finding One Piece—which promises an unlimited amount of riches and fame—and quite possibly the pinnacle of glory and the title of the Pirate King.\n",
      "\n",
      "Enter Monkey D. Luffy, a 17-year-old boy who defies your standard definition of a pirate. Rather than the popular persona of a wicked, hardened, toothless pirate ransacking villages for fun, Luffy's reason for being a pirate is one of pure wonder: the thought of an exciting adventure that leads him to intriguing people and ultimately, the promised treasure. Following in the footsteps of his childhood hero, Luffy and his crew travel across the Grand Line, experiencing crazy adventures, unveiling dark mysteries and battling strong enemies, all in order to reach the most coveted of all fortunes—One Piece.\n",
      "\n",
      "[Written by MAL Rewrite] \n",
      "Sports|Work Life|\n",
      "The world of corporate badminton is not as easy as it seems. Although considered a former child prodigy, Mikoto Shiratori has not been living up to his potential as a badminton player for Mitsuhoshi Bank. Due to a past incident, Mikoto tries to transition from playing doubles to singles; nevertheless, he fails to produce positive results, much to his employer's dismay.\n",
      "\n",
      "After being fired from the bank, Mikoto is recruited by the Sunlight Beverage corporate badminton team. Surprisingly, not only do practices start in the evening, but he also has to work in the sales department of the company by day. While this is not a novel arrangement, Mikoto had thought he was invited solely to play sports. To make matters worse, he is forced to compete in doubles despite his reluctance.\n",
      "\n",
      "Struggling to adjust to his new professional life, Mikoto begins to doubt his decision to join the company. However, as he learns more about his latest teammates, he might just find the strength necessary to advance his badminton career.\n",
      "\n",
      "[Written by MAL Rewrite]\n",
      "Comedy|Fantasy|Slice of Life|\n",
      "Special episode bundled with the fifth Blu-ray and DVD volume.\n",
      "Comedy|Ecchi|School|Seinen|Slice of Life|\n",
      "There is no such thing as an uneventful day in the life of kindergartener Shinnosuke \"Shin-chan\" Nohara. The five-year-old is a cut above the most troublesome, perverted, and shameless kid one can imagine. Shin-chan is almost always engaged in questionable activities such as forgetting about a friend during hide and seek, sumo wrestling for love, performing various gags including the notorious \"elephant\" in public, and flirting with college girls. The exemplary troublemaker has done it all and has no plans to stop anytime soon.\n",
      "\n",
      "Crayon Shin-chan follows the daily shenanigans of Shin-chan with his group of friends, parading around as the self-proclaimed \"Kasukabe Defense Force.\" The adults witnessing these shenanigans unfold can't help but adore Shin-chan, as he keeps them entertained while unintentionally solving their daily troubles through his mindless antics—leaving himself as the only problem they do not know what to do with.\n",
      "\n",
      "[Written by MAL Rewrite]\n",
      "Slice of Life|Sports|\n",
      "Since childhood, Hiyori Yamakawa has witnessed her father's various eccentricities, but one activity she has always loved doing with him is fly fishing—a complicated yet rewarding method of catching fish. Even after his sudden death, Hiyori still visits the seaside in her spare time, savoring the joy that her father's memento brings her.\n",
      "\n",
      "Three years later, Hiyori's mother decides to remarry and arranges a dinner with her fiancé, his daughter, and Hiyori to celebrate. Anxious and wanting to pass the time, Hiyori goes to her usual fishing spot when a rather energetic girl named Koharu Minagi suddenly appears before her. The two soon become acquainted, with Koharu taking an interest in fly fishing herself. However, their meeting is more than just a coincidence: Koharu turns out to be Hiyori's future stepsibling, which is only the beginning of treasured memories the both of them will reel in as they foster their sisterhood.\n",
      "\n",
      "[Written by MAL Rewrite]\n",
      "\n",
      "Action|Adventure|Comedy|Fantasy|\n",
      "The members of the Gourmet Guild—Yuuki, Kokkoro, Pecorine, and Karyl—continue to scour the world in pursuit of their goal to seek out all delicious food in existence. However, as their adventures progress, the mysteries behind Yuuki's memories, Karyl's allegiance, and Pecorine's heritage begin to come together—seemingly forming the truth that makes up the world's very foundation.\n",
      "\n",
      "[Written by MAL Rewrite]\n",
      "\n",
      "Comedy|Romance|School|Shounen|Slice of Life|\n",
      "As summer break comes to an end, Nishikata is stoked to try out his newest pranks and finally outdo his classmate Takagi once and for all. Despite his losing streak, he is slowly getting to know the unrelenting workings of her crafty mind. However, he soon realizes that Takagi's motivations behind her teasing may not be what he initially assumed. One thing is certain, though: each fun-filled day of strategizing and competing brings the two closer than ever.\n",
      "\n",
      "[Written by MAL Rewrite]\n",
      "Action|Fantasy|Military|Romance|\n",
      "Together with his talented aides, the \"Realist Hero\" Kazuya Souma continues his quest of reinvigorating the Elfrieden Kingdom through administrative reform. Having successfully conquered Van—the capital city of the Principality of Amidonia—Kazuya now faces the envoy from Gran Chaos Empire, who wishes to impose punishment for breaching the ban on war established by the Mankind Declaration Treaty. Despite the dire situation, Kazuya sees a path to avoid unnecessary conflict whilst gaining new allies. With his plan being seemingly perfect, the only barrier to success is gaining approval from the envoy.\n",
      "\n",
      "[Written by MAL Rewrite]\n",
      "\n",
      "Romance|School|Seinen|Slice of Life|\n",
      "High school student Wakana Gojou spends his days perfecting the art of making hina dolls, hoping to eventually reach his grandfather's level of expertise. While his fellow teenagers busy themselves with pop culture, Gojou finds bliss in sewing clothes for his dolls. Nonetheless, he goes to great lengths to keep his unique hobby a secret, as he believes that he would be ridiculed were it revealed. \n",
      "\n",
      "Enter Marin Kitagawa, an extraordinarily pretty girl whose confidence and poise are in stark contrast to Gojou's meekness. It would defy common sense for the friendless Gojou to mix with the likes of Kitagawa, who is always surrounded by her peers. However, the unimaginable happens when Kitagawa discovers Gojou's prowess with a sewing machine and brightly confesses to him about her own hobby: cosplay. Because her sewing skills are pitiable, she decides to enlist his help.\n",
      "\n",
      "As Gojou and Kitagawa work together on one cosplay outfit after another, they cannot help but grow close—even though their lives are worlds apart.\n",
      "\n",
      "[Written by MAL Rewrite]\n",
      "\n",
      "Comedy|Fantasy|\n",
      "The King of Natra has fallen ill, leaving the only hope for his kingdom to his son, Prince Wein Salema Arbalest. Known to be capable and wise, he is the perfect candidate to become the prince regent. However, if the prince has anything to say about the matter, he would rather sell off the Kingdom of Natra to the highest bidder!\n",
      "\n",
      "Since he wields the authority of the throne, no one can stop Wein from auctioning off the country and using the profits to retire in comfort. All he needs to do is raise the value of the small kingdom to maximize his gains. But whether Wein's grand plan will succeed remains to be seen, as his wit often surpasses even his own expectations—much to the benefit of the oblivious citizens of Natra.\n",
      "\n",
      "[Written by MAL Rewrite]\n",
      "\n",
      "Action|Adventure|Fantasy|Sci-Fi|\n",
      "A plague-like wind blows across the arid, sandy expanse of a post-apocalyptic Japan. As it sweeps over the living and nonliving alike, rust is all that remains in its wake. The cause of the catastrophic state of the world is believed to be mushroom spores. Bisco Akaboshi, known as the \"Man-Eating Mushroom,\" is a wanted criminal archer whose arrows instantly grow mushrooms wherever they land. However, he is in truth a \"Mushroom Protector,\" a person who spreads fungi in order to enrich the land and return it to its previous state.\n",
      "\n",
      "Alongside the crab Akutagawa and young doctor Milo Nekoyanagi, Bisco ventures through the wastelands of Japan searching for the legendary \"Sabikui\"—a panacean mushroom said to devour all forms of rust. \n",
      "\n",
      "[Written by MAL Rewrite]\n",
      "School|Slice of Life|\n",
      "Ever since she was young, Komichi Akebi has always adored sailor uniforms, even going so far as to ask her mother to sew one if she succeeds in getting into her mother's alma mater, Roubai Academy. And thus, when she gets accepted into the prestigious school, Komichi is ecstatic. However, much to her surprise, the middle school no longer uses sailor uniforms as its dress code—making Komichi stand out from her schoolmates. Despite this, Komichi is granted permission to continue wearing the traditional attire. \n",
      "\n",
      "With renewed confidence, Komichi meets fascinating classmates as they experience school life together. Under the colorful shower of blossoming prospects, an exciting tomorrow awaits them!\n",
      "\n",
      "[Written by MAL Rewrite]\n",
      "Historical|Shounen|Supernatural|Vampire|\n",
      "Vanitas and Noé Archiviste head out to the town of Gévaudan in search of the \"Beast,\" an enormous wolf-like creature that has slaughtered hundreds of people. Suspecting that the Beast is a curse-bearing vampire, Vanitas primarily aims to heal it using the powers of his grimoire.\n",
      "\n",
      "Along the way, the two get separated and suddenly travel back to the past—to the exact moment the Beast is lurking in the woods. After a battle against the gigantic wolf and a vampire hunter, Vanitas decides to team up with Jeanne in order to find Noé. Despite being allies, Jeanne's goal is the opposite of Vanitas', as she was tasked to kill the Beast—suspecting it may be someone she used to know.\n",
      "\n",
      "Meanwhile, a severely wounded Noé is picked up by the mysterious Chloé d'Apchier and her servant. Like Noé, Chloé is a vampire whose existence was erased from the public's knowledge. She has been a guardian for future generations and once tried to find a way to become human again. While Noé is grateful to Chloé for her hospitality, little does he know that she might be siding with forces far more dangerous than the Beast itself.\n",
      "\n",
      "[Written by MAL Rewrite]\n",
      "\n",
      "Action|Drama|Mecha|Military|Sci-Fi|\n",
      "The disappearance of the Spearhead Squadron beyond the horizon does little to hide the intensity of the Republic of San Magnolia's endless propaganda. Vladilena Milizé continues to operate as \"Handler One,\" the commander of yet another dehumanized 86th faction's squadron in the continuous war against the Legion.\n",
      "\n",
      "On the Western Front, Shinei Nouzen and his squad are quarantined in a military base controlled by the Federal Republic of Giad, formerly known as the Giadian Empire. The newly-established government grants the saved Eighty-Six full citizenship and freedom. Housed by the president Ernst Zimmerman himself, the group meets his adoptive daughter and the last Empress, Augusta Frederica Adel-Adler.\n",
      "\n",
      "However, within the calm of this tender society, Shinei and his team feel that their purpose is on the battlefield. Before long, they are once again in the midst of the Legion's onslaught as a part of the Federacy's Nordlicht Squadron, accompanied by Augusta Frederica. But, as history repeats itself, they realize that no matter the side, death and pain on the front lines are the only comfort they know.\n",
      "\n",
      "[Written by MAL Rewrite]\n",
      "Adventure|Comedy|Fantasy|\n",
      "Since their days as students, Tsukasa Jinguuji has had incredible luck with women due to his good looks; Hinata Tachibana has had almost none, overshadowed by Jinguuji's brilliance. However, while Jinguuji has never shown interest in the opposite sex, Tachibana is always desperate for a girlfriend. Despite their polar differences, they continue to be best friends even in their thirties as salarymen. \n",
      "\n",
      "One night, the two are returning home from a mixer where Jinguuji was the center of attention as usual. In his drunken rambles, a frustrated Tachibana inadvertently wishes to become a beautiful girl with irresistible charm. As if the heavens were listening, a goddess suddenly shows herself before Jinguuji and Tachibana, transporting them to another world to defeat the Demon Lord and simultaneously granting Tachibana's desire.\n",
      "\n",
      "Tachibana—now in the body of an impossibly perfect woman—has become so attractive that even Jinguuji is captivated. Moreover, Tachibana grows aware of Jinguuji's stunning appearance, finally understanding his popularity. Before they fall in love with each other, the duo must complete their mission or risk remaining prisoners to their infatuations forever.\n",
      "\n",
      "[Written by MAL Rewrite]\n",
      "\n",
      "Adventure|Comedy|Mystery|Police|Shounen|\n",
      "Shinichi Kudou, a high school student of astounding talent in detective work, is well known for having solved several challenging cases. One day, when Shinichi spots two suspicious men and decides to follow them, he inadvertently becomes witness to a disturbing illegal activity. Unfortunately, he is caught in the act, so the men dose him with an experimental drug formulated by their criminal organization, leaving him to his death. However, to his own astonishment, Shinichi lives to see another day, but now in the body of a seven-year-old child.\n",
      "\n",
      "Perfectly preserving his original intelligence, he hides his real identity from everyone, including his childhood friend Ran Mouri and her father, private detective Kogorou Mouri. To this end, he takes on the alias of Conan Edogawa, inspired by the mystery writers Arthur Conan Doyle and Ranpo Edogawa.\n",
      "\n",
      "Detective Conan follows Shinichi who, as Conan, starts secretly solving the senior Mouri's cases from behind the scenes with his still exceptional sleuthing skills, while covertly investigating the organization responsible for his current state, hoping to reverse the drug's effects someday.\n",
      "\n",
      "[Written by MAL Rewrite]\n",
      "Comedy|Police|Seinen|Slice of Life|\n",
      "After graduating from high school, Mai Kawai's top priority was to find a job with a stable income to avoid turning out like her father. However, despite having taken a variety of civil service exams, she was faced with a harsh reality: nearly every institute denied her entry. The only place that accepted her was a police academy, which she reluctantly joined.\n",
      "\n",
      "Even now that she is an actual police officer, the world continues to be cruel to Mai. Due to her profession, she unexpectedly receives constant criticism from disgruntled citizens. Disheartened by the hostile treatment, she decides to submit a letter of resignation after just a few months of employment.\n",
      "\n",
      "But on the same day Mai chooses to quit, she meets Seiko Fuji—the former ace of the Criminal Affairs Division who is assigned as her new instructor. Finding her new coworker to be enchanting, Mai delays leaving and gives her uninspiring job a second chance.\n",
      "\n",
      "[Written by MAL Rewrite]\n"
     ]
    }
   ],
   "source": [
    "for a in response[1:20]:\n",
    "        print(a['node']['genres'])\n",
    "        print(a['node']['synopsis'])"
   ]
  },
  {
   "cell_type": "code",
   "execution_count": 147,
   "id": "73df5c44",
   "metadata": {},
   "outputs": [],
   "source": [
    "with open(f'./{year}_{season}_MAL_synopsis.json', 'w') as f:\n",
    "    json.dump(response, f)"
   ]
  },
  {
   "cell_type": "code",
   "execution_count": null,
   "id": "0eaf6f0e",
   "metadata": {},
   "outputs": [],
   "source": []
  }
 ],
 "metadata": {
  "kernelspec": {
   "display_name": "Python 3 (ipykernel)",
   "language": "python",
   "name": "python3"
  },
  "language_info": {
   "codemirror_mode": {
    "name": "ipython",
    "version": 3
   },
   "file_extension": ".py",
   "mimetype": "text/x-python",
   "name": "python",
   "nbconvert_exporter": "python",
   "pygments_lexer": "ipython3",
   "version": "3.8.8"
  }
 },
 "nbformat": 4,
 "nbformat_minor": 5
}
