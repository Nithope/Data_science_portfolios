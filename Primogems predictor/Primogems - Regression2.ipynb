{
 "cells": [
  {
   "cell_type": "code",
   "execution_count": 1,
   "id": "4f8e961f",
   "metadata": {
    "scrolled": true
   },
   "outputs": [
    {
     "data": {
      "text/html": [
       "<div>\n",
       "<style scoped>\n",
       "    .dataframe tbody tr th:only-of-type {\n",
       "        vertical-align: middle;\n",
       "    }\n",
       "\n",
       "    .dataframe tbody tr th {\n",
       "        vertical-align: top;\n",
       "    }\n",
       "\n",
       "    .dataframe thead th {\n",
       "        text-align: right;\n",
       "    }\n",
       "</style>\n",
       "<table border=\"1\" class=\"dataframe\">\n",
       "  <thead>\n",
       "    <tr style=\"text-align: right;\">\n",
       "      <th></th>\n",
       "      <th>Week</th>\n",
       "      <th>Week 01</th>\n",
       "      <th>Week 02</th>\n",
       "      <th>Week 03</th>\n",
       "      <th>Week 04</th>\n",
       "      <th>Week 05</th>\n",
       "      <th>Week 06</th>\n",
       "      <th>Week 07</th>\n",
       "      <th>Week 08</th>\n",
       "      <th>Week 09</th>\n",
       "      <th>...</th>\n",
       "      <th>Week 55</th>\n",
       "      <th>Week 56</th>\n",
       "      <th>Week 57</th>\n",
       "      <th>Week 58</th>\n",
       "      <th>Week 59</th>\n",
       "      <th>Week 60</th>\n",
       "      <th>Week 61</th>\n",
       "      <th>Week 62</th>\n",
       "      <th>Week 63</th>\n",
       "      <th>Week 64</th>\n",
       "    </tr>\n",
       "  </thead>\n",
       "  <tbody>\n",
       "    <tr>\n",
       "      <th>0</th>\n",
       "      <td>MON -&gt;</td>\n",
       "      <td>4204</td>\n",
       "      <td>13112</td>\n",
       "      <td>17437</td>\n",
       "      <td>18584</td>\n",
       "      <td>21375</td>\n",
       "      <td>23665</td>\n",
       "      <td>24874.0</td>\n",
       "      <td>28456.0</td>\n",
       "      <td>30807.0</td>\n",
       "      <td>...</td>\n",
       "      <td>14607.0</td>\n",
       "      <td>NaN</td>\n",
       "      <td>NaN</td>\n",
       "      <td>NaN</td>\n",
       "      <td>NaN</td>\n",
       "      <td>NaN</td>\n",
       "      <td>NaN</td>\n",
       "      <td>NaN</td>\n",
       "      <td>NaN</td>\n",
       "      <td>NaN</td>\n",
       "    </tr>\n",
       "    <tr>\n",
       "      <th>1</th>\n",
       "      <td>TUE -&gt;</td>\n",
       "      <td>7255</td>\n",
       "      <td>13524</td>\n",
       "      <td>17499</td>\n",
       "      <td>18759</td>\n",
       "      <td>21755</td>\n",
       "      <td>23915</td>\n",
       "      <td>25734.0</td>\n",
       "      <td>29128.0</td>\n",
       "      <td>30982.0</td>\n",
       "      <td>...</td>\n",
       "      <td>15377.0</td>\n",
       "      <td>NaN</td>\n",
       "      <td>NaN</td>\n",
       "      <td>NaN</td>\n",
       "      <td>NaN</td>\n",
       "      <td>NaN</td>\n",
       "      <td>NaN</td>\n",
       "      <td>NaN</td>\n",
       "      <td>NaN</td>\n",
       "      <td>NaN</td>\n",
       "    </tr>\n",
       "    <tr>\n",
       "      <th>2</th>\n",
       "      <td>WED -&gt;</td>\n",
       "      <td>9634</td>\n",
       "      <td>15035</td>\n",
       "      <td>17689</td>\n",
       "      <td>19502</td>\n",
       "      <td>22615</td>\n",
       "      <td>24065</td>\n",
       "      <td>26423.0</td>\n",
       "      <td>29513.0</td>\n",
       "      <td>31182.0</td>\n",
       "      <td>...</td>\n",
       "      <td>15597.0</td>\n",
       "      <td>NaN</td>\n",
       "      <td>NaN</td>\n",
       "      <td>NaN</td>\n",
       "      <td>NaN</td>\n",
       "      <td>NaN</td>\n",
       "      <td>NaN</td>\n",
       "      <td>NaN</td>\n",
       "      <td>NaN</td>\n",
       "      <td>NaN</td>\n",
       "    </tr>\n",
       "    <tr>\n",
       "      <th>3</th>\n",
       "      <td>THU -&gt;</td>\n",
       "      <td>11041</td>\n",
       "      <td>15586</td>\n",
       "      <td>17959</td>\n",
       "      <td>19661</td>\n",
       "      <td>22795</td>\n",
       "      <td>24267</td>\n",
       "      <td>26878.0</td>\n",
       "      <td>29825.0</td>\n",
       "      <td>31302.0</td>\n",
       "      <td>...</td>\n",
       "      <td>NaN</td>\n",
       "      <td>NaN</td>\n",
       "      <td>NaN</td>\n",
       "      <td>NaN</td>\n",
       "      <td>NaN</td>\n",
       "      <td>NaN</td>\n",
       "      <td>NaN</td>\n",
       "      <td>NaN</td>\n",
       "      <td>NaN</td>\n",
       "      <td>NaN</td>\n",
       "    </tr>\n",
       "    <tr>\n",
       "      <th>4</th>\n",
       "      <td>FRI -&gt;</td>\n",
       "      <td>11658</td>\n",
       "      <td>16152</td>\n",
       "      <td>18093</td>\n",
       "      <td>20273</td>\n",
       "      <td>22975</td>\n",
       "      <td>24417</td>\n",
       "      <td>27163.0</td>\n",
       "      <td>30135.0</td>\n",
       "      <td>31452.0</td>\n",
       "      <td>...</td>\n",
       "      <td>15957.0</td>\n",
       "      <td>NaN</td>\n",
       "      <td>NaN</td>\n",
       "      <td>NaN</td>\n",
       "      <td>NaN</td>\n",
       "      <td>NaN</td>\n",
       "      <td>NaN</td>\n",
       "      <td>NaN</td>\n",
       "      <td>NaN</td>\n",
       "      <td>NaN</td>\n",
       "    </tr>\n",
       "    <tr>\n",
       "      <th>5</th>\n",
       "      <td>SAT -&gt;</td>\n",
       "      <td>12167</td>\n",
       "      <td>16568</td>\n",
       "      <td>18267</td>\n",
       "      <td>20549</td>\n",
       "      <td>23365</td>\n",
       "      <td>24569</td>\n",
       "      <td>27493.0</td>\n",
       "      <td>30315.0</td>\n",
       "      <td>31602.0</td>\n",
       "      <td>...</td>\n",
       "      <td>16117.0</td>\n",
       "      <td>NaN</td>\n",
       "      <td>NaN</td>\n",
       "      <td>NaN</td>\n",
       "      <td>NaN</td>\n",
       "      <td>NaN</td>\n",
       "      <td>NaN</td>\n",
       "      <td>NaN</td>\n",
       "      <td>NaN</td>\n",
       "      <td>NaN</td>\n",
       "    </tr>\n",
       "    <tr>\n",
       "      <th>6</th>\n",
       "      <td>SUN -&gt;</td>\n",
       "      <td>12687</td>\n",
       "      <td>16825</td>\n",
       "      <td>18421</td>\n",
       "      <td>21011</td>\n",
       "      <td>23515</td>\n",
       "      <td>24724</td>\n",
       "      <td>27789.0</td>\n",
       "      <td>30470.0</td>\n",
       "      <td>31797.0</td>\n",
       "      <td>...</td>\n",
       "      <td>NaN</td>\n",
       "      <td>NaN</td>\n",
       "      <td>NaN</td>\n",
       "      <td>NaN</td>\n",
       "      <td>NaN</td>\n",
       "      <td>NaN</td>\n",
       "      <td>NaN</td>\n",
       "      <td>NaN</td>\n",
       "      <td>NaN</td>\n",
       "      <td>NaN</td>\n",
       "    </tr>\n",
       "  </tbody>\n",
       "</table>\n",
       "<p>7 rows × 65 columns</p>\n",
       "</div>"
      ],
      "text/plain": [
       "     Week Week 01 Week 02 Week 03 Week 04 Week 05 Week 06  Week 07  Week 08  \\\n",
       "0  MON ->    4204   13112   17437   18584   21375   23665  24874.0  28456.0   \n",
       "1  TUE ->    7255   13524   17499   18759   21755   23915  25734.0  29128.0   \n",
       "2  WED ->    9634   15035   17689   19502   22615   24065  26423.0  29513.0   \n",
       "3  THU ->   11041   15586   17959   19661   22795   24267  26878.0  29825.0   \n",
       "4  FRI ->   11658   16152   18093   20273   22975   24417  27163.0  30135.0   \n",
       "5  SAT ->   12167   16568   18267   20549   23365   24569  27493.0  30315.0   \n",
       "6  SUN ->   12687   16825   18421   21011   23515   24724  27789.0  30470.0   \n",
       "\n",
       "   Week 09  ...  Week 55  Week 56  Week 57  Week 58  Week 59  Week 60  \\\n",
       "0  30807.0  ...  14607.0      NaN      NaN      NaN      NaN      NaN   \n",
       "1  30982.0  ...  15377.0      NaN      NaN      NaN      NaN      NaN   \n",
       "2  31182.0  ...  15597.0      NaN      NaN      NaN      NaN      NaN   \n",
       "3  31302.0  ...      NaN      NaN      NaN      NaN      NaN      NaN   \n",
       "4  31452.0  ...  15957.0      NaN      NaN      NaN      NaN      NaN   \n",
       "5  31602.0  ...  16117.0      NaN      NaN      NaN      NaN      NaN   \n",
       "6  31797.0  ...      NaN      NaN      NaN      NaN      NaN      NaN   \n",
       "\n",
       "   Week 61  Week 62  Week 63  Week 64  \n",
       "0      NaN      NaN      NaN      NaN  \n",
       "1      NaN      NaN      NaN      NaN  \n",
       "2      NaN      NaN      NaN      NaN  \n",
       "3      NaN      NaN      NaN      NaN  \n",
       "4      NaN      NaN      NaN      NaN  \n",
       "5      NaN      NaN      NaN      NaN  \n",
       "6      NaN      NaN      NaN      NaN  \n",
       "\n",
       "[7 rows x 65 columns]"
      ]
     },
     "execution_count": 1,
     "metadata": {},
     "output_type": "execute_result"
    }
   ],
   "source": [
    "import numpy as np\n",
    "import matplotlib.pyplot as plt\n",
    "import pandas as pd\n",
    "\n",
    "df_primogems = pd.read_csv('./GI - Journey - primogems.csv')\n",
    "df_primogems.head(7)"
   ]
  },
  {
   "cell_type": "code",
   "execution_count": 2,
   "id": "20227681",
   "metadata": {},
   "outputs": [
    {
     "data": {
      "text/html": [
       "<div>\n",
       "<style scoped>\n",
       "    .dataframe tbody tr th:only-of-type {\n",
       "        vertical-align: middle;\n",
       "    }\n",
       "\n",
       "    .dataframe tbody tr th {\n",
       "        vertical-align: top;\n",
       "    }\n",
       "\n",
       "    .dataframe thead th {\n",
       "        text-align: right;\n",
       "    }\n",
       "</style>\n",
       "<table border=\"1\" class=\"dataframe\">\n",
       "  <thead>\n",
       "    <tr style=\"text-align: right;\">\n",
       "      <th></th>\n",
       "      <th>Week 07</th>\n",
       "      <th>Week 08</th>\n",
       "      <th>Week 09</th>\n",
       "      <th>Week 10</th>\n",
       "      <th>Week 11</th>\n",
       "      <th>Week 12</th>\n",
       "      <th>Week 13</th>\n",
       "      <th>Week 14</th>\n",
       "      <th>Week 15</th>\n",
       "      <th>Week 16</th>\n",
       "      <th>...</th>\n",
       "      <th>Week 55</th>\n",
       "      <th>Week 56</th>\n",
       "      <th>Week 57</th>\n",
       "      <th>Week 58</th>\n",
       "      <th>Week 59</th>\n",
       "      <th>Week 60</th>\n",
       "      <th>Week 61</th>\n",
       "      <th>Week 62</th>\n",
       "      <th>Week 63</th>\n",
       "      <th>Week 64</th>\n",
       "    </tr>\n",
       "  </thead>\n",
       "  <tbody>\n",
       "    <tr>\n",
       "      <th>count</th>\n",
       "      <td>9.000000</td>\n",
       "      <td>7.000000</td>\n",
       "      <td>7.000000</td>\n",
       "      <td>7.000000</td>\n",
       "      <td>7.000000</td>\n",
       "      <td>7.000000</td>\n",
       "      <td>7.000000</td>\n",
       "      <td>7.000000</td>\n",
       "      <td>7.000000</td>\n",
       "      <td>7.000000</td>\n",
       "      <td>...</td>\n",
       "      <td>5.000000</td>\n",
       "      <td>0.0</td>\n",
       "      <td>0.0</td>\n",
       "      <td>0.0</td>\n",
       "      <td>0.0</td>\n",
       "      <td>0.0</td>\n",
       "      <td>0.0</td>\n",
       "      <td>0.0</td>\n",
       "      <td>0.0</td>\n",
       "      <td>0.0</td>\n",
       "    </tr>\n",
       "    <tr>\n",
       "      <th>mean</th>\n",
       "      <td>21295.415289</td>\n",
       "      <td>29691.714286</td>\n",
       "      <td>31303.428571</td>\n",
       "      <td>29617.714286</td>\n",
       "      <td>32969.000000</td>\n",
       "      <td>35573.000000</td>\n",
       "      <td>38799.857143</td>\n",
       "      <td>41182.571429</td>\n",
       "      <td>42734.571429</td>\n",
       "      <td>23318.142857</td>\n",
       "      <td>...</td>\n",
       "      <td>15531.000000</td>\n",
       "      <td>NaN</td>\n",
       "      <td>NaN</td>\n",
       "      <td>NaN</td>\n",
       "      <td>NaN</td>\n",
       "      <td>NaN</td>\n",
       "      <td>NaN</td>\n",
       "      <td>NaN</td>\n",
       "      <td>NaN</td>\n",
       "      <td>NaN</td>\n",
       "    </tr>\n",
       "    <tr>\n",
       "      <th>std</th>\n",
       "      <td>10607.657758</td>\n",
       "      <td>717.075476</td>\n",
       "      <td>346.250322</td>\n",
       "      <td>1047.753265</td>\n",
       "      <td>1003.388924</td>\n",
       "      <td>600.843019</td>\n",
       "      <td>1337.106008</td>\n",
       "      <td>606.889023</td>\n",
       "      <td>466.712923</td>\n",
       "      <td>9052.993454</td>\n",
       "      <td>...</td>\n",
       "      <td>593.026138</td>\n",
       "      <td>NaN</td>\n",
       "      <td>NaN</td>\n",
       "      <td>NaN</td>\n",
       "      <td>NaN</td>\n",
       "      <td>NaN</td>\n",
       "      <td>NaN</td>\n",
       "      <td>NaN</td>\n",
       "      <td>NaN</td>\n",
       "      <td>NaN</td>\n",
       "    </tr>\n",
       "    <tr>\n",
       "      <th>min</th>\n",
       "      <td>2448.737600</td>\n",
       "      <td>28456.000000</td>\n",
       "      <td>30807.000000</td>\n",
       "      <td>28277.000000</td>\n",
       "      <td>31817.000000</td>\n",
       "      <td>34580.000000</td>\n",
       "      <td>36462.000000</td>\n",
       "      <td>40424.000000</td>\n",
       "      <td>42144.000000</td>\n",
       "      <td>18881.000000</td>\n",
       "      <td>...</td>\n",
       "      <td>14607.000000</td>\n",
       "      <td>NaN</td>\n",
       "      <td>NaN</td>\n",
       "      <td>NaN</td>\n",
       "      <td>NaN</td>\n",
       "      <td>NaN</td>\n",
       "      <td>NaN</td>\n",
       "      <td>NaN</td>\n",
       "      <td>NaN</td>\n",
       "      <td>NaN</td>\n",
       "    </tr>\n",
       "    <tr>\n",
       "      <th>25%</th>\n",
       "      <td>24874.000000</td>\n",
       "      <td>29320.500000</td>\n",
       "      <td>31082.000000</td>\n",
       "      <td>28884.500000</td>\n",
       "      <td>32132.000000</td>\n",
       "      <td>35222.500000</td>\n",
       "      <td>38242.500000</td>\n",
       "      <td>40694.000000</td>\n",
       "      <td>42434.000000</td>\n",
       "      <td>19301.000000</td>\n",
       "      <td>...</td>\n",
       "      <td>15377.000000</td>\n",
       "      <td>NaN</td>\n",
       "      <td>NaN</td>\n",
       "      <td>NaN</td>\n",
       "      <td>NaN</td>\n",
       "      <td>NaN</td>\n",
       "      <td>NaN</td>\n",
       "      <td>NaN</td>\n",
       "      <td>NaN</td>\n",
       "      <td>NaN</td>\n",
       "    </tr>\n",
       "    <tr>\n",
       "      <th>50%</th>\n",
       "      <td>26423.000000</td>\n",
       "      <td>29825.000000</td>\n",
       "      <td>31302.000000</td>\n",
       "      <td>29567.000000</td>\n",
       "      <td>32828.000000</td>\n",
       "      <td>35770.000000</td>\n",
       "      <td>39039.000000</td>\n",
       "      <td>41144.000000</td>\n",
       "      <td>42664.000000</td>\n",
       "      <td>19671.000000</td>\n",
       "      <td>...</td>\n",
       "      <td>15597.000000</td>\n",
       "      <td>NaN</td>\n",
       "      <td>NaN</td>\n",
       "      <td>NaN</td>\n",
       "      <td>NaN</td>\n",
       "      <td>NaN</td>\n",
       "      <td>NaN</td>\n",
       "      <td>NaN</td>\n",
       "      <td>NaN</td>\n",
       "      <td>NaN</td>\n",
       "    </tr>\n",
       "    <tr>\n",
       "      <th>75%</th>\n",
       "      <td>27163.000000</td>\n",
       "      <td>30225.000000</td>\n",
       "      <td>31527.000000</td>\n",
       "      <td>30192.000000</td>\n",
       "      <td>33753.000000</td>\n",
       "      <td>35997.000000</td>\n",
       "      <td>39787.500000</td>\n",
       "      <td>41669.000000</td>\n",
       "      <td>42970.000000</td>\n",
       "      <td>21166.000000</td>\n",
       "      <td>...</td>\n",
       "      <td>15957.000000</td>\n",
       "      <td>NaN</td>\n",
       "      <td>NaN</td>\n",
       "      <td>NaN</td>\n",
       "      <td>NaN</td>\n",
       "      <td>NaN</td>\n",
       "      <td>NaN</td>\n",
       "      <td>NaN</td>\n",
       "      <td>NaN</td>\n",
       "      <td>NaN</td>\n",
       "    </tr>\n",
       "    <tr>\n",
       "      <th>max</th>\n",
       "      <td>27789.000000</td>\n",
       "      <td>30470.000000</td>\n",
       "      <td>31797.000000</td>\n",
       "      <td>31327.000000</td>\n",
       "      <td>34368.000000</td>\n",
       "      <td>36222.000000</td>\n",
       "      <td>40038.000000</td>\n",
       "      <td>41984.000000</td>\n",
       "      <td>43526.000000</td>\n",
       "      <td>43741.000000</td>\n",
       "      <td>...</td>\n",
       "      <td>16117.000000</td>\n",
       "      <td>NaN</td>\n",
       "      <td>NaN</td>\n",
       "      <td>NaN</td>\n",
       "      <td>NaN</td>\n",
       "      <td>NaN</td>\n",
       "      <td>NaN</td>\n",
       "      <td>NaN</td>\n",
       "      <td>NaN</td>\n",
       "      <td>NaN</td>\n",
       "    </tr>\n",
       "  </tbody>\n",
       "</table>\n",
       "<p>8 rows × 58 columns</p>\n",
       "</div>"
      ],
      "text/plain": [
       "            Week 07       Week 08       Week 09       Week 10       Week 11  \\\n",
       "count      9.000000      7.000000      7.000000      7.000000      7.000000   \n",
       "mean   21295.415289  29691.714286  31303.428571  29617.714286  32969.000000   \n",
       "std    10607.657758    717.075476    346.250322   1047.753265   1003.388924   \n",
       "min     2448.737600  28456.000000  30807.000000  28277.000000  31817.000000   \n",
       "25%    24874.000000  29320.500000  31082.000000  28884.500000  32132.000000   \n",
       "50%    26423.000000  29825.000000  31302.000000  29567.000000  32828.000000   \n",
       "75%    27163.000000  30225.000000  31527.000000  30192.000000  33753.000000   \n",
       "max    27789.000000  30470.000000  31797.000000  31327.000000  34368.000000   \n",
       "\n",
       "            Week 12       Week 13       Week 14       Week 15       Week 16  \\\n",
       "count      7.000000      7.000000      7.000000      7.000000      7.000000   \n",
       "mean   35573.000000  38799.857143  41182.571429  42734.571429  23318.142857   \n",
       "std      600.843019   1337.106008    606.889023    466.712923   9052.993454   \n",
       "min    34580.000000  36462.000000  40424.000000  42144.000000  18881.000000   \n",
       "25%    35222.500000  38242.500000  40694.000000  42434.000000  19301.000000   \n",
       "50%    35770.000000  39039.000000  41144.000000  42664.000000  19671.000000   \n",
       "75%    35997.000000  39787.500000  41669.000000  42970.000000  21166.000000   \n",
       "max    36222.000000  40038.000000  41984.000000  43526.000000  43741.000000   \n",
       "\n",
       "       ...       Week 55  Week 56  Week 57  Week 58  Week 59  Week 60  \\\n",
       "count  ...      5.000000      0.0      0.0      0.0      0.0      0.0   \n",
       "mean   ...  15531.000000      NaN      NaN      NaN      NaN      NaN   \n",
       "std    ...    593.026138      NaN      NaN      NaN      NaN      NaN   \n",
       "min    ...  14607.000000      NaN      NaN      NaN      NaN      NaN   \n",
       "25%    ...  15377.000000      NaN      NaN      NaN      NaN      NaN   \n",
       "50%    ...  15597.000000      NaN      NaN      NaN      NaN      NaN   \n",
       "75%    ...  15957.000000      NaN      NaN      NaN      NaN      NaN   \n",
       "max    ...  16117.000000      NaN      NaN      NaN      NaN      NaN   \n",
       "\n",
       "       Week 61  Week 62  Week 63  Week 64  \n",
       "count      0.0      0.0      0.0      0.0  \n",
       "mean       NaN      NaN      NaN      NaN  \n",
       "std        NaN      NaN      NaN      NaN  \n",
       "min        NaN      NaN      NaN      NaN  \n",
       "25%        NaN      NaN      NaN      NaN  \n",
       "50%        NaN      NaN      NaN      NaN  \n",
       "75%        NaN      NaN      NaN      NaN  \n",
       "max        NaN      NaN      NaN      NaN  \n",
       "\n",
       "[8 rows x 58 columns]"
      ]
     },
     "execution_count": 2,
     "metadata": {},
     "output_type": "execute_result"
    }
   ],
   "source": [
    "df_primogems.describe()"
   ]
  },
  {
   "cell_type": "code",
   "execution_count": null,
   "id": "afb6f6f2",
   "metadata": {
    "scrolled": true
   },
   "outputs": [],
   "source": [
    "df_primogems.info()"
   ]
  },
  {
   "cell_type": "code",
   "execution_count": 4,
   "id": "aff80ef2",
   "metadata": {},
   "outputs": [
    {
     "data": {
      "text/plain": [
       "3900"
      ]
     },
     "execution_count": 4,
     "metadata": {},
     "output_type": "execute_result"
    }
   ],
   "source": [
    "df_primogems.size"
   ]
  },
  {
   "cell_type": "code",
   "execution_count": 5,
   "id": "2641b88e",
   "metadata": {},
   "outputs": [],
   "source": [
    "df_primogems = df_primogems[:7]"
   ]
  },
  {
   "cell_type": "code",
   "execution_count": 6,
   "id": "31c167cc",
   "metadata": {},
   "outputs": [
    {
     "data": {
      "text/html": [
       "<div>\n",
       "<style scoped>\n",
       "    .dataframe tbody tr th:only-of-type {\n",
       "        vertical-align: middle;\n",
       "    }\n",
       "\n",
       "    .dataframe tbody tr th {\n",
       "        vertical-align: top;\n",
       "    }\n",
       "\n",
       "    .dataframe thead th {\n",
       "        text-align: right;\n",
       "    }\n",
       "</style>\n",
       "<table border=\"1\" class=\"dataframe\">\n",
       "  <thead>\n",
       "    <tr style=\"text-align: right;\">\n",
       "      <th></th>\n",
       "      <th>Week</th>\n",
       "      <th>Week 01</th>\n",
       "      <th>Week 02</th>\n",
       "      <th>Week 03</th>\n",
       "      <th>Week 04</th>\n",
       "      <th>Week 05</th>\n",
       "      <th>Week 06</th>\n",
       "      <th>Week 07</th>\n",
       "      <th>Week 08</th>\n",
       "      <th>Week 09</th>\n",
       "      <th>...</th>\n",
       "      <th>Week 55</th>\n",
       "      <th>Week 56</th>\n",
       "      <th>Week 57</th>\n",
       "      <th>Week 58</th>\n",
       "      <th>Week 59</th>\n",
       "      <th>Week 60</th>\n",
       "      <th>Week 61</th>\n",
       "      <th>Week 62</th>\n",
       "      <th>Week 63</th>\n",
       "      <th>Week 64</th>\n",
       "    </tr>\n",
       "  </thead>\n",
       "  <tbody>\n",
       "    <tr>\n",
       "      <th>0</th>\n",
       "      <td>False</td>\n",
       "      <td>False</td>\n",
       "      <td>False</td>\n",
       "      <td>False</td>\n",
       "      <td>False</td>\n",
       "      <td>False</td>\n",
       "      <td>False</td>\n",
       "      <td>False</td>\n",
       "      <td>False</td>\n",
       "      <td>False</td>\n",
       "      <td>...</td>\n",
       "      <td>False</td>\n",
       "      <td>True</td>\n",
       "      <td>True</td>\n",
       "      <td>True</td>\n",
       "      <td>True</td>\n",
       "      <td>True</td>\n",
       "      <td>True</td>\n",
       "      <td>True</td>\n",
       "      <td>True</td>\n",
       "      <td>True</td>\n",
       "    </tr>\n",
       "    <tr>\n",
       "      <th>1</th>\n",
       "      <td>False</td>\n",
       "      <td>False</td>\n",
       "      <td>False</td>\n",
       "      <td>False</td>\n",
       "      <td>False</td>\n",
       "      <td>False</td>\n",
       "      <td>False</td>\n",
       "      <td>False</td>\n",
       "      <td>False</td>\n",
       "      <td>False</td>\n",
       "      <td>...</td>\n",
       "      <td>False</td>\n",
       "      <td>True</td>\n",
       "      <td>True</td>\n",
       "      <td>True</td>\n",
       "      <td>True</td>\n",
       "      <td>True</td>\n",
       "      <td>True</td>\n",
       "      <td>True</td>\n",
       "      <td>True</td>\n",
       "      <td>True</td>\n",
       "    </tr>\n",
       "    <tr>\n",
       "      <th>2</th>\n",
       "      <td>False</td>\n",
       "      <td>False</td>\n",
       "      <td>False</td>\n",
       "      <td>False</td>\n",
       "      <td>False</td>\n",
       "      <td>False</td>\n",
       "      <td>False</td>\n",
       "      <td>False</td>\n",
       "      <td>False</td>\n",
       "      <td>False</td>\n",
       "      <td>...</td>\n",
       "      <td>False</td>\n",
       "      <td>True</td>\n",
       "      <td>True</td>\n",
       "      <td>True</td>\n",
       "      <td>True</td>\n",
       "      <td>True</td>\n",
       "      <td>True</td>\n",
       "      <td>True</td>\n",
       "      <td>True</td>\n",
       "      <td>True</td>\n",
       "    </tr>\n",
       "    <tr>\n",
       "      <th>3</th>\n",
       "      <td>False</td>\n",
       "      <td>False</td>\n",
       "      <td>False</td>\n",
       "      <td>False</td>\n",
       "      <td>False</td>\n",
       "      <td>False</td>\n",
       "      <td>False</td>\n",
       "      <td>False</td>\n",
       "      <td>False</td>\n",
       "      <td>False</td>\n",
       "      <td>...</td>\n",
       "      <td>True</td>\n",
       "      <td>True</td>\n",
       "      <td>True</td>\n",
       "      <td>True</td>\n",
       "      <td>True</td>\n",
       "      <td>True</td>\n",
       "      <td>True</td>\n",
       "      <td>True</td>\n",
       "      <td>True</td>\n",
       "      <td>True</td>\n",
       "    </tr>\n",
       "    <tr>\n",
       "      <th>4</th>\n",
       "      <td>False</td>\n",
       "      <td>False</td>\n",
       "      <td>False</td>\n",
       "      <td>False</td>\n",
       "      <td>False</td>\n",
       "      <td>False</td>\n",
       "      <td>False</td>\n",
       "      <td>False</td>\n",
       "      <td>False</td>\n",
       "      <td>False</td>\n",
       "      <td>...</td>\n",
       "      <td>False</td>\n",
       "      <td>True</td>\n",
       "      <td>True</td>\n",
       "      <td>True</td>\n",
       "      <td>True</td>\n",
       "      <td>True</td>\n",
       "      <td>True</td>\n",
       "      <td>True</td>\n",
       "      <td>True</td>\n",
       "      <td>True</td>\n",
       "    </tr>\n",
       "    <tr>\n",
       "      <th>5</th>\n",
       "      <td>False</td>\n",
       "      <td>False</td>\n",
       "      <td>False</td>\n",
       "      <td>False</td>\n",
       "      <td>False</td>\n",
       "      <td>False</td>\n",
       "      <td>False</td>\n",
       "      <td>False</td>\n",
       "      <td>False</td>\n",
       "      <td>False</td>\n",
       "      <td>...</td>\n",
       "      <td>False</td>\n",
       "      <td>True</td>\n",
       "      <td>True</td>\n",
       "      <td>True</td>\n",
       "      <td>True</td>\n",
       "      <td>True</td>\n",
       "      <td>True</td>\n",
       "      <td>True</td>\n",
       "      <td>True</td>\n",
       "      <td>True</td>\n",
       "    </tr>\n",
       "    <tr>\n",
       "      <th>6</th>\n",
       "      <td>False</td>\n",
       "      <td>False</td>\n",
       "      <td>False</td>\n",
       "      <td>False</td>\n",
       "      <td>False</td>\n",
       "      <td>False</td>\n",
       "      <td>False</td>\n",
       "      <td>False</td>\n",
       "      <td>False</td>\n",
       "      <td>False</td>\n",
       "      <td>...</td>\n",
       "      <td>True</td>\n",
       "      <td>True</td>\n",
       "      <td>True</td>\n",
       "      <td>True</td>\n",
       "      <td>True</td>\n",
       "      <td>True</td>\n",
       "      <td>True</td>\n",
       "      <td>True</td>\n",
       "      <td>True</td>\n",
       "      <td>True</td>\n",
       "    </tr>\n",
       "  </tbody>\n",
       "</table>\n",
       "<p>7 rows × 65 columns</p>\n",
       "</div>"
      ],
      "text/plain": [
       "    Week  Week 01  Week 02  Week 03  Week 04  Week 05  Week 06  Week 07  \\\n",
       "0  False    False    False    False    False    False    False    False   \n",
       "1  False    False    False    False    False    False    False    False   \n",
       "2  False    False    False    False    False    False    False    False   \n",
       "3  False    False    False    False    False    False    False    False   \n",
       "4  False    False    False    False    False    False    False    False   \n",
       "5  False    False    False    False    False    False    False    False   \n",
       "6  False    False    False    False    False    False    False    False   \n",
       "\n",
       "   Week 08  Week 09  ...  Week 55  Week 56  Week 57  Week 58  Week 59  \\\n",
       "0    False    False  ...    False     True     True     True     True   \n",
       "1    False    False  ...    False     True     True     True     True   \n",
       "2    False    False  ...    False     True     True     True     True   \n",
       "3    False    False  ...     True     True     True     True     True   \n",
       "4    False    False  ...    False     True     True     True     True   \n",
       "5    False    False  ...    False     True     True     True     True   \n",
       "6    False    False  ...     True     True     True     True     True   \n",
       "\n",
       "   Week 60  Week 61  Week 62  Week 63  Week 64  \n",
       "0     True     True     True     True     True  \n",
       "1     True     True     True     True     True  \n",
       "2     True     True     True     True     True  \n",
       "3     True     True     True     True     True  \n",
       "4     True     True     True     True     True  \n",
       "5     True     True     True     True     True  \n",
       "6     True     True     True     True     True  \n",
       "\n",
       "[7 rows x 65 columns]"
      ]
     },
     "execution_count": 6,
     "metadata": {},
     "output_type": "execute_result"
    }
   ],
   "source": [
    "df_primogems.isnull()"
   ]
  },
  {
   "cell_type": "code",
   "execution_count": 7,
   "id": "34f915ad",
   "metadata": {},
   "outputs": [
    {
     "data": {
      "text/html": [
       "<div>\n",
       "<style scoped>\n",
       "    .dataframe tbody tr th:only-of-type {\n",
       "        vertical-align: middle;\n",
       "    }\n",
       "\n",
       "    .dataframe tbody tr th {\n",
       "        vertical-align: top;\n",
       "    }\n",
       "\n",
       "    .dataframe thead th {\n",
       "        text-align: right;\n",
       "    }\n",
       "</style>\n",
       "<table border=\"1\" class=\"dataframe\">\n",
       "  <thead>\n",
       "    <tr style=\"text-align: right;\">\n",
       "      <th></th>\n",
       "      <th>Week 24</th>\n",
       "      <th>Week 27</th>\n",
       "      <th>Week 33</th>\n",
       "      <th>Week 37</th>\n",
       "      <th>Week 46</th>\n",
       "      <th>Week 51</th>\n",
       "      <th>Week 53</th>\n",
       "      <th>Week 55</th>\n",
       "      <th>Week 56</th>\n",
       "      <th>Week 57</th>\n",
       "      <th>Week 58</th>\n",
       "      <th>Week 59</th>\n",
       "      <th>Week 60</th>\n",
       "      <th>Week 61</th>\n",
       "      <th>Week 62</th>\n",
       "      <th>Week 63</th>\n",
       "      <th>Week 64</th>\n",
       "    </tr>\n",
       "  </thead>\n",
       "  <tbody>\n",
       "    <tr>\n",
       "      <th>0</th>\n",
       "      <td>35839.0</td>\n",
       "      <td>42157.0</td>\n",
       "      <td>NaN</td>\n",
       "      <td>NaN</td>\n",
       "      <td>43008.0</td>\n",
       "      <td>5342.0</td>\n",
       "      <td>NaN</td>\n",
       "      <td>14607.0</td>\n",
       "      <td>NaN</td>\n",
       "      <td>NaN</td>\n",
       "      <td>NaN</td>\n",
       "      <td>NaN</td>\n",
       "      <td>NaN</td>\n",
       "      <td>NaN</td>\n",
       "      <td>NaN</td>\n",
       "      <td>NaN</td>\n",
       "      <td>NaN</td>\n",
       "    </tr>\n",
       "    <tr>\n",
       "      <th>1</th>\n",
       "      <td>35989.0</td>\n",
       "      <td>42417.0</td>\n",
       "      <td>NaN</td>\n",
       "      <td>58614.0</td>\n",
       "      <td>31523.0</td>\n",
       "      <td>NaN</td>\n",
       "      <td>9038.0</td>\n",
       "      <td>15377.0</td>\n",
       "      <td>NaN</td>\n",
       "      <td>NaN</td>\n",
       "      <td>NaN</td>\n",
       "      <td>NaN</td>\n",
       "      <td>NaN</td>\n",
       "      <td>NaN</td>\n",
       "      <td>NaN</td>\n",
       "      <td>NaN</td>\n",
       "      <td>NaN</td>\n",
       "    </tr>\n",
       "    <tr>\n",
       "      <th>2</th>\n",
       "      <td>36239.0</td>\n",
       "      <td>NaN</td>\n",
       "      <td>NaN</td>\n",
       "      <td>58614.0</td>\n",
       "      <td>31673.0</td>\n",
       "      <td>5773.0</td>\n",
       "      <td>9188.0</td>\n",
       "      <td>15597.0</td>\n",
       "      <td>NaN</td>\n",
       "      <td>NaN</td>\n",
       "      <td>NaN</td>\n",
       "      <td>NaN</td>\n",
       "      <td>NaN</td>\n",
       "      <td>NaN</td>\n",
       "      <td>NaN</td>\n",
       "      <td>NaN</td>\n",
       "      <td>NaN</td>\n",
       "    </tr>\n",
       "    <tr>\n",
       "      <th>3</th>\n",
       "      <td>NaN</td>\n",
       "      <td>42717.0</td>\n",
       "      <td>49423.0</td>\n",
       "      <td>58764.0</td>\n",
       "      <td>32118.0</td>\n",
       "      <td>6283.0</td>\n",
       "      <td>9738.0</td>\n",
       "      <td>NaN</td>\n",
       "      <td>NaN</td>\n",
       "      <td>NaN</td>\n",
       "      <td>NaN</td>\n",
       "      <td>NaN</td>\n",
       "      <td>NaN</td>\n",
       "      <td>NaN</td>\n",
       "      <td>NaN</td>\n",
       "      <td>NaN</td>\n",
       "      <td>NaN</td>\n",
       "    </tr>\n",
       "    <tr>\n",
       "      <th>4</th>\n",
       "      <td>36619.0</td>\n",
       "      <td>42867.0</td>\n",
       "      <td>49805.0</td>\n",
       "      <td>58934.0</td>\n",
       "      <td>32693.0</td>\n",
       "      <td>6798.0</td>\n",
       "      <td>10888.0</td>\n",
       "      <td>15957.0</td>\n",
       "      <td>NaN</td>\n",
       "      <td>NaN</td>\n",
       "      <td>NaN</td>\n",
       "      <td>NaN</td>\n",
       "      <td>NaN</td>\n",
       "      <td>NaN</td>\n",
       "      <td>NaN</td>\n",
       "      <td>NaN</td>\n",
       "      <td>NaN</td>\n",
       "    </tr>\n",
       "    <tr>\n",
       "      <th>5</th>\n",
       "      <td>36769.0</td>\n",
       "      <td>NaN</td>\n",
       "      <td>49995.0</td>\n",
       "      <td>59104.0</td>\n",
       "      <td>32998.0</td>\n",
       "      <td>6968.0</td>\n",
       "      <td>11498.0</td>\n",
       "      <td>16117.0</td>\n",
       "      <td>NaN</td>\n",
       "      <td>NaN</td>\n",
       "      <td>NaN</td>\n",
       "      <td>NaN</td>\n",
       "      <td>NaN</td>\n",
       "      <td>NaN</td>\n",
       "      <td>NaN</td>\n",
       "      <td>NaN</td>\n",
       "      <td>NaN</td>\n",
       "    </tr>\n",
       "    <tr>\n",
       "      <th>6</th>\n",
       "      <td>36939.0</td>\n",
       "      <td>43137.0</td>\n",
       "      <td>50170.0</td>\n",
       "      <td>NaN</td>\n",
       "      <td>NaN</td>\n",
       "      <td>7184.0</td>\n",
       "      <td>12348.0</td>\n",
       "      <td>NaN</td>\n",
       "      <td>NaN</td>\n",
       "      <td>NaN</td>\n",
       "      <td>NaN</td>\n",
       "      <td>NaN</td>\n",
       "      <td>NaN</td>\n",
       "      <td>NaN</td>\n",
       "      <td>NaN</td>\n",
       "      <td>NaN</td>\n",
       "      <td>NaN</td>\n",
       "    </tr>\n",
       "  </tbody>\n",
       "</table>\n",
       "</div>"
      ],
      "text/plain": [
       "   Week 24  Week 27  Week 33  Week 37  Week 46  Week 51  Week 53  Week 55  \\\n",
       "0  35839.0  42157.0      NaN      NaN  43008.0   5342.0      NaN  14607.0   \n",
       "1  35989.0  42417.0      NaN  58614.0  31523.0      NaN   9038.0  15377.0   \n",
       "2  36239.0      NaN      NaN  58614.0  31673.0   5773.0   9188.0  15597.0   \n",
       "3      NaN  42717.0  49423.0  58764.0  32118.0   6283.0   9738.0      NaN   \n",
       "4  36619.0  42867.0  49805.0  58934.0  32693.0   6798.0  10888.0  15957.0   \n",
       "5  36769.0      NaN  49995.0  59104.0  32998.0   6968.0  11498.0  16117.0   \n",
       "6  36939.0  43137.0  50170.0      NaN      NaN   7184.0  12348.0      NaN   \n",
       "\n",
       "   Week 56  Week 57  Week 58  Week 59  Week 60  Week 61  Week 62  Week 63  \\\n",
       "0      NaN      NaN      NaN      NaN      NaN      NaN      NaN      NaN   \n",
       "1      NaN      NaN      NaN      NaN      NaN      NaN      NaN      NaN   \n",
       "2      NaN      NaN      NaN      NaN      NaN      NaN      NaN      NaN   \n",
       "3      NaN      NaN      NaN      NaN      NaN      NaN      NaN      NaN   \n",
       "4      NaN      NaN      NaN      NaN      NaN      NaN      NaN      NaN   \n",
       "5      NaN      NaN      NaN      NaN      NaN      NaN      NaN      NaN   \n",
       "6      NaN      NaN      NaN      NaN      NaN      NaN      NaN      NaN   \n",
       "\n",
       "   Week 64  \n",
       "0      NaN  \n",
       "1      NaN  \n",
       "2      NaN  \n",
       "3      NaN  \n",
       "4      NaN  \n",
       "5      NaN  \n",
       "6      NaN  "
      ]
     },
     "execution_count": 7,
     "metadata": {},
     "output_type": "execute_result"
    }
   ],
   "source": [
    "df_primogems.loc[:,df_primogems.isna().any()]"
   ]
  },
  {
   "cell_type": "code",
   "execution_count": 8,
   "id": "bcfb2276",
   "metadata": {},
   "outputs": [],
   "source": [
    "df_primogems_wk23=df_primogems.loc[:,'Week 01':'Week 23']\n",
    "df_primogems= df_primogems.loc[:,'Week 01':]"
   ]
  },
  {
   "cell_type": "code",
   "execution_count": 9,
   "id": "45d42835",
   "metadata": {},
   "outputs": [],
   "source": [
    "df_new_primogems = pd.DataFrame({'Days':[\"0\"],'Primogems':[\"0\"]})"
   ]
  },
  {
   "cell_type": "code",
   "execution_count": 10,
   "id": "e53497e3",
   "metadata": {},
   "outputs": [
    {
     "data": {
      "text/plain": [
       "Index(['Days', 'Primogems'], dtype='object')"
      ]
     },
     "execution_count": 10,
     "metadata": {},
     "output_type": "execute_result"
    }
   ],
   "source": [
    "df_new_primogems.keys()"
   ]
  },
  {
   "cell_type": "code",
   "execution_count": 11,
   "id": "f9d564e5",
   "metadata": {
    "scrolled": true
   },
   "outputs": [],
   "source": [
    "days=0\n",
    "size=0\n",
    "for d in  range(0,df_primogems.size):\n",
    "    df_new_primogems.at[d,'Days']=days\n",
    "    days +=1\n",
    "for i in df_primogems.keys():\n",
    "    for j in  df_primogems.index.tolist() :\n",
    "        df_new_primogems.at[size,'Primogems']=df_primogems.loc[j,i]\n",
    "        size+=1"
   ]
  },
  {
   "cell_type": "code",
   "execution_count": 12,
   "id": "8ded0fb6",
   "metadata": {},
   "outputs": [
    {
     "data": {
      "text/html": [
       "<div>\n",
       "<style scoped>\n",
       "    .dataframe tbody tr th:only-of-type {\n",
       "        vertical-align: middle;\n",
       "    }\n",
       "\n",
       "    .dataframe tbody tr th {\n",
       "        vertical-align: top;\n",
       "    }\n",
       "\n",
       "    .dataframe thead th {\n",
       "        text-align: right;\n",
       "    }\n",
       "</style>\n",
       "<table border=\"1\" class=\"dataframe\">\n",
       "  <thead>\n",
       "    <tr style=\"text-align: right;\">\n",
       "      <th></th>\n",
       "      <th>Days</th>\n",
       "      <th>Primogems</th>\n",
       "    </tr>\n",
       "  </thead>\n",
       "  <tbody>\n",
       "    <tr>\n",
       "      <th>0</th>\n",
       "      <td>0</td>\n",
       "      <td>4204</td>\n",
       "    </tr>\n",
       "    <tr>\n",
       "      <th>1</th>\n",
       "      <td>1</td>\n",
       "      <td>7255</td>\n",
       "    </tr>\n",
       "    <tr>\n",
       "      <th>2</th>\n",
       "      <td>2</td>\n",
       "      <td>9634</td>\n",
       "    </tr>\n",
       "    <tr>\n",
       "      <th>3</th>\n",
       "      <td>3</td>\n",
       "      <td>11041</td>\n",
       "    </tr>\n",
       "    <tr>\n",
       "      <th>4</th>\n",
       "      <td>4</td>\n",
       "      <td>11658</td>\n",
       "    </tr>\n",
       "    <tr>\n",
       "      <th>...</th>\n",
       "      <td>...</td>\n",
       "      <td>...</td>\n",
       "    </tr>\n",
       "    <tr>\n",
       "      <th>443</th>\n",
       "      <td>443</td>\n",
       "      <td>NaN</td>\n",
       "    </tr>\n",
       "    <tr>\n",
       "      <th>444</th>\n",
       "      <td>444</td>\n",
       "      <td>NaN</td>\n",
       "    </tr>\n",
       "    <tr>\n",
       "      <th>445</th>\n",
       "      <td>445</td>\n",
       "      <td>NaN</td>\n",
       "    </tr>\n",
       "    <tr>\n",
       "      <th>446</th>\n",
       "      <td>446</td>\n",
       "      <td>NaN</td>\n",
       "    </tr>\n",
       "    <tr>\n",
       "      <th>447</th>\n",
       "      <td>447</td>\n",
       "      <td>NaN</td>\n",
       "    </tr>\n",
       "  </tbody>\n",
       "</table>\n",
       "<p>448 rows × 2 columns</p>\n",
       "</div>"
      ],
      "text/plain": [
       "    Days Primogems\n",
       "0      0      4204\n",
       "1      1      7255\n",
       "2      2      9634\n",
       "3      3     11041\n",
       "4      4     11658\n",
       "..   ...       ...\n",
       "443  443       NaN\n",
       "444  444       NaN\n",
       "445  445       NaN\n",
       "446  446       NaN\n",
       "447  447       NaN\n",
       "\n",
       "[448 rows x 2 columns]"
      ]
     },
     "execution_count": 12,
     "metadata": {},
     "output_type": "execute_result"
    }
   ],
   "source": [
    "df_new_primogems"
   ]
  },
  {
   "cell_type": "code",
   "execution_count": 13,
   "id": "dfcb9391",
   "metadata": {},
   "outputs": [
    {
     "data": {
      "text/html": [
       "<div>\n",
       "<style scoped>\n",
       "    .dataframe tbody tr th:only-of-type {\n",
       "        vertical-align: middle;\n",
       "    }\n",
       "\n",
       "    .dataframe tbody tr th {\n",
       "        vertical-align: top;\n",
       "    }\n",
       "\n",
       "    .dataframe thead th {\n",
       "        text-align: right;\n",
       "    }\n",
       "</style>\n",
       "<table border=\"1\" class=\"dataframe\">\n",
       "  <thead>\n",
       "    <tr style=\"text-align: right;\">\n",
       "      <th></th>\n",
       "      <th>Days</th>\n",
       "      <th>Primogems</th>\n",
       "    </tr>\n",
       "  </thead>\n",
       "  <tbody>\n",
       "    <tr>\n",
       "      <th>164</th>\n",
       "      <td>164</td>\n",
       "      <td>NaN</td>\n",
       "    </tr>\n",
       "    <tr>\n",
       "      <th>184</th>\n",
       "      <td>184</td>\n",
       "      <td>NaN</td>\n",
       "    </tr>\n",
       "    <tr>\n",
       "      <th>187</th>\n",
       "      <td>187</td>\n",
       "      <td>NaN</td>\n",
       "    </tr>\n",
       "    <tr>\n",
       "      <th>224</th>\n",
       "      <td>224</td>\n",
       "      <td>NaN</td>\n",
       "    </tr>\n",
       "    <tr>\n",
       "      <th>225</th>\n",
       "      <td>225</td>\n",
       "      <td>NaN</td>\n",
       "    </tr>\n",
       "    <tr>\n",
       "      <th>...</th>\n",
       "      <td>...</td>\n",
       "      <td>...</td>\n",
       "    </tr>\n",
       "    <tr>\n",
       "      <th>443</th>\n",
       "      <td>443</td>\n",
       "      <td>NaN</td>\n",
       "    </tr>\n",
       "    <tr>\n",
       "      <th>444</th>\n",
       "      <td>444</td>\n",
       "      <td>NaN</td>\n",
       "    </tr>\n",
       "    <tr>\n",
       "      <th>445</th>\n",
       "      <td>445</td>\n",
       "      <td>NaN</td>\n",
       "    </tr>\n",
       "    <tr>\n",
       "      <th>446</th>\n",
       "      <td>446</td>\n",
       "      <td>NaN</td>\n",
       "    </tr>\n",
       "    <tr>\n",
       "      <th>447</th>\n",
       "      <td>447</td>\n",
       "      <td>NaN</td>\n",
       "    </tr>\n",
       "  </tbody>\n",
       "</table>\n",
       "<p>76 rows × 2 columns</p>\n",
       "</div>"
      ],
      "text/plain": [
       "    Days Primogems\n",
       "164  164       NaN\n",
       "184  184       NaN\n",
       "187  187       NaN\n",
       "224  224       NaN\n",
       "225  225       NaN\n",
       "..   ...       ...\n",
       "443  443       NaN\n",
       "444  444       NaN\n",
       "445  445       NaN\n",
       "446  446       NaN\n",
       "447  447       NaN\n",
       "\n",
       "[76 rows x 2 columns]"
      ]
     },
     "execution_count": 13,
     "metadata": {},
     "output_type": "execute_result"
    }
   ],
   "source": [
    "df_new_primogems.loc[df_new_primogems['Primogems'].isna()==True]"
   ]
  },
  {
   "cell_type": "code",
   "execution_count": 14,
   "id": "1f3ee0ab",
   "metadata": {},
   "outputs": [],
   "source": [
    "df_new_primogems_wk23=df_new_primogems[:164]"
   ]
  },
  {
   "cell_type": "code",
   "execution_count": 15,
   "id": "7cf45cc0",
   "metadata": {},
   "outputs": [
    {
     "data": {
      "text/html": [
       "<div>\n",
       "<style scoped>\n",
       "    .dataframe tbody tr th:only-of-type {\n",
       "        vertical-align: middle;\n",
       "    }\n",
       "\n",
       "    .dataframe tbody tr th {\n",
       "        vertical-align: top;\n",
       "    }\n",
       "\n",
       "    .dataframe thead th {\n",
       "        text-align: right;\n",
       "    }\n",
       "</style>\n",
       "<table border=\"1\" class=\"dataframe\">\n",
       "  <thead>\n",
       "    <tr style=\"text-align: right;\">\n",
       "      <th></th>\n",
       "      <th>Days</th>\n",
       "      <th>Primogems</th>\n",
       "    </tr>\n",
       "  </thead>\n",
       "  <tbody>\n",
       "    <tr>\n",
       "      <th>30</th>\n",
       "      <td>30</td>\n",
       "      <td>22615</td>\n",
       "    </tr>\n",
       "    <tr>\n",
       "      <th>31</th>\n",
       "      <td>31</td>\n",
       "      <td>22795</td>\n",
       "    </tr>\n",
       "    <tr>\n",
       "      <th>32</th>\n",
       "      <td>32</td>\n",
       "      <td>22975</td>\n",
       "    </tr>\n",
       "    <tr>\n",
       "      <th>33</th>\n",
       "      <td>33</td>\n",
       "      <td>23365</td>\n",
       "    </tr>\n",
       "    <tr>\n",
       "      <th>34</th>\n",
       "      <td>34</td>\n",
       "      <td>23515</td>\n",
       "    </tr>\n",
       "    <tr>\n",
       "      <th>35</th>\n",
       "      <td>35</td>\n",
       "      <td>23665</td>\n",
       "    </tr>\n",
       "    <tr>\n",
       "      <th>36</th>\n",
       "      <td>36</td>\n",
       "      <td>23915</td>\n",
       "    </tr>\n",
       "    <tr>\n",
       "      <th>37</th>\n",
       "      <td>37</td>\n",
       "      <td>24065</td>\n",
       "    </tr>\n",
       "    <tr>\n",
       "      <th>38</th>\n",
       "      <td>38</td>\n",
       "      <td>24267</td>\n",
       "    </tr>\n",
       "    <tr>\n",
       "      <th>39</th>\n",
       "      <td>39</td>\n",
       "      <td>24417</td>\n",
       "    </tr>\n",
       "  </tbody>\n",
       "</table>\n",
       "</div>"
      ],
      "text/plain": [
       "   Days Primogems\n",
       "30   30     22615\n",
       "31   31     22795\n",
       "32   32     22975\n",
       "33   33     23365\n",
       "34   34     23515\n",
       "35   35     23665\n",
       "36   36     23915\n",
       "37   37     24065\n",
       "38   38     24267\n",
       "39   39     24417"
      ]
     },
     "execution_count": 15,
     "metadata": {},
     "output_type": "execute_result"
    }
   ],
   "source": [
    "df_new_primogems_wk23[30:40]"
   ]
  },
  {
   "cell_type": "code",
   "execution_count": 16,
   "id": "314f2ba6",
   "metadata": {},
   "outputs": [
    {
     "name": "stdout",
     "output_type": "stream",
     "text": [
      "[  0   1   2   3   4   5   6   7   8   9  10  11  12  13  14  15  16  17\n",
      "  18  19  20  21  22  23  24  25  26  27  28  29  30  31  32  33  34  35\n",
      "  36  37  38  39  40  41  42  43  44  45  46  47  48  49  50  51  52  53\n",
      "  54  55  56  57  58  59  60  61  62  63  64  65  66  67  68  69  70  71\n",
      "  72  73  74  75  76  77  78  79  80  81  82  83  84  85  86  87  88  89\n",
      "  90  91  92  93  94  95  96  97  98  99 100 101 102 103 104 105 106 107\n",
      " 108 109 110 111 112 113 114 115 116 117 118 119 120 121 122 123 124 125\n",
      " 126 127 128 129 130 131 132 133 134 135 136 137 138 139 140 141 142 143\n",
      " 144 145 146 147 148 149 150 151 152 153 154 155 156 157 158 159 160 161\n",
      " 162 163]\n"
     ]
    }
   ],
   "source": [
    "print(np.int_(df_new_primogems_wk23['Days'].values))"
   ]
  },
  {
   "cell_type": "code",
   "execution_count": 17,
   "id": "7e8c6e7c",
   "metadata": {},
   "outputs": [
    {
     "name": "stdout",
     "output_type": "stream",
     "text": [
      "[ 4204  7255  9634 11041 11658 12167 12687 13112 13524 15035 15586 16152\n",
      " 16568 16825 17437 17499 17689 17959 18093 18267 18421 18584 18759 19502\n",
      " 19661 20273 20549 21011 21375 21755 22615 22795 22975 23365 23515 23665\n",
      " 23915 24065 24267 24417 24569 24724 24874 25734 26423 26878 27163 27493\n",
      " 27789 28456 29128 29513 29825 30135 30315 30470 30807 30982 31182 31302\n",
      " 31452 31602 31797 28277 28652 29117 29567 30087 30297 31327 31817 32027\n",
      " 32237 32828 33548 33958 34368 34580 34995 35450 35770 35922 36072 36222\n",
      " 36462 37508 38977 39039 39687 39888 40038 40424 40574 40814 41144 41594\n",
      " 41744 41984 42144 42354 42514 42664 42864 43076 43526 43741 18881 19081\n",
      " 19521 19671 21061 21271 21591 21801 22101 22241 22981 23171 23463 23613\n",
      " 23833 23983 24313 24508 24658 24828 24978 25728 26508 26943 27218 27608\n",
      " 27758 27928 28168 28500 28710 29010 29220 29548 29850 30425 30635 30845\n",
      " 31230 31390 31540 31710 31950 32010 32165 32423 32573 32723 33653 33823\n",
      " 33978 34678 34828 35358 35623 35839 35989 36239]\n"
     ]
    }
   ],
   "source": [
    "print(np.int_(df_new_primogems_wk23['Primogems'].values))"
   ]
  },
  {
   "cell_type": "code",
   "execution_count": 18,
   "id": "137d3bc8",
   "metadata": {
    "scrolled": true,
    "tags": []
   },
   "outputs": [
    {
     "data": {
      "image/png": "[encoded data removed]",
      "text/plain": [
       "<Figure size 432x288 with 1 Axes>"
      ]
     },
     "metadata": {
      "needs_background": "light"
     },
     "output_type": "display_data"
    }
   ],
   "source": [
    "plt.scatter(np.int_(df_new_primogems_wk23['Days'].values),np.int_(df_new_primogems_wk23['Primogems'].values), color = 'red')\n",
    "#plt.plot(X_train, regressor.predict(X_train), color = 'blue')\n",
    "plt.title('Primo/day')\n",
    "plt.xlabel('Day')\n",
    "plt.ylabel('Primos')\n",
    "plt.grid()\n",
    "plt.show()"
   ]
  },
  {
   "cell_type": "markdown",
   "id": "c7295f40-ce74-41c4-93ac-346e68ee5f03",
   "metadata": {},
   "source": [
    "# Splitting in Training and test\n",
    "<br>\n",
    " <p style=\"font-size: 15px\">I am using 23 weeks due to low number of samples available</p>"
   ]
  },
  {
   "cell_type": "code",
   "execution_count": 19,
   "id": "bc254be3",
   "metadata": {},
   "outputs": [],
   "source": [
    "from sklearn.model_selection import train_test_split\n",
    "X_train, X_test, y_train, y_test = train_test_split(df_new_primogems_wk23.iloc[:, :-1].values,\n",
    "                                                    df_new_primogems_wk23.iloc[:, -1].values,\n",
    "                                                    test_size = 1/3,\n",
    "                                                    random_state = None)"
   ]
  },
  {
   "cell_type": "code",
   "execution_count": 20,
   "id": "a9bf9d1b",
   "metadata": {
    "scrolled": true
   },
   "outputs": [
    {
     "name": "stdout",
     "output_type": "stream",
     "text": [
      "(109, 1)\n",
      " (109,)\n"
     ]
    }
   ],
   "source": [
    "print(f\"{X_train.shape}\\n {y_train.shape}\")"
   ]
  },
  {
   "cell_type": "markdown",
   "id": "2cb58175",
   "metadata": {},
   "source": [
    "## Training the Simple Linear Regression model on the Training set"
   ]
  },
  {
   "cell_type": "code",
   "execution_count": 21,
   "id": "42caae73",
   "metadata": {
    "scrolled": true
   },
   "outputs": [
    {
     "data": {
      "text/plain": [
       "LinearRegression()"
      ]
     },
     "execution_count": 21,
     "metadata": {},
     "output_type": "execute_result"
    }
   ],
   "source": [
    "## Training the Simple Linear Regression model on the Training set\n",
    "from sklearn.linear_model import LinearRegression\n",
    "regressor = LinearRegression()\n",
    "regressor.fit(X_train, y_train)"
   ]
  },
  {
   "cell_type": "code",
   "execution_count": 22,
   "id": "ad414930",
   "metadata": {},
   "outputs": [
    {
     "data": {
      "text/plain": [
       "0.36724434791892147"
      ]
     },
     "execution_count": 22,
     "metadata": {},
     "output_type": "execute_result"
    }
   ],
   "source": [
    "regressor.score(X_test,y_test)"
   ]
  },
  {
   "cell_type": "code",
   "execution_count": 23,
   "id": "4f8ec7e0",
   "metadata": {},
   "outputs": [
    {
     "data": {
      "image/png": "[encoded data removed]",
      "text/plain": [
       "<Figure size 432x288 with 1 Axes>"
      ]
     },
     "metadata": {
      "needs_background": "light"
     },
     "output_type": "display_data"
    }
   ],
   "source": [
    "plt.scatter(np.int_(df_new_primogems_wk23['Days'].values),np.int_(df_new_primogems_wk23['Primogems'].values), color = 'red')\n",
    "plt.scatter(X_test,regressor.predict(X_test).tolist(), color = 'purple')\n",
    "plt.plot(X_test, regressor.predict(X_test).tolist(), color = 'green')\n",
    "#plt.plot(X_train, regressor.predict(X_train), color = 'blue')\n",
    "plt.title('Primo/day')\n",
    "plt.xlabel('Day')\n",
    "plt.ylabel('Primos')\n",
    "plt.grid()\n",
    "plt.show()"
   ]
  },
  {
   "cell_type": "markdown",
   "id": "390cb288",
   "metadata": {},
   "source": [
    "## Training the Polynomial Regression model on the Training set"
   ]
  },
  {
   "cell_type": "code",
   "execution_count": 26,
   "id": "fff9287f",
   "metadata": {},
   "outputs": [
    {
     "data": {
      "text/plain": [
       "LinearRegression()"
      ]
     },
     "execution_count": 26,
     "metadata": {},
     "output_type": "execute_result"
    }
   ],
   "source": [
    "from sklearn.preprocessing import PolynomialFeatures\n",
    "poly_reg = PolynomialFeatures(degree = 4)\n",
    "X_poly = poly_reg.fit_transform(X_train)\n",
    "lin_reg_2 = LinearRegression()\n",
    "lin_reg_2.fit(X_poly, y_train)"
   ]
  },
  {
   "cell_type": "markdown",
   "id": "f6f7ca20",
   "metadata": {},
   "source": [
    "#### Creating a DF to Visualize"
   ]
  },
  {
   "cell_type": "code",
   "execution_count": 27,
   "id": "e372f413",
   "metadata": {
    "scrolled": true
   },
   "outputs": [],
   "source": [
    "df_test=pd.DataFrame({'Days':X_test.flatten(),'Primogems':lin_reg_2.predict(poly_reg.transform(X_test))})"
   ]
  },
  {
   "cell_type": "code",
   "execution_count": 28,
   "id": "cc8b84cc",
   "metadata": {},
   "outputs": [
    {
     "data": {
      "text/html": [
       "<div>\n",
       "<style scoped>\n",
       "    .dataframe tbody tr th:only-of-type {\n",
       "        vertical-align: middle;\n",
       "    }\n",
       "\n",
       "    .dataframe tbody tr th {\n",
       "        vertical-align: top;\n",
       "    }\n",
       "\n",
       "    .dataframe thead th {\n",
       "        text-align: right;\n",
       "    }\n",
       "</style>\n",
       "<table border=\"1\" class=\"dataframe\">\n",
       "  <thead>\n",
       "    <tr style=\"text-align: right;\">\n",
       "      <th></th>\n",
       "      <th>Days</th>\n",
       "      <th>Primogems</th>\n",
       "    </tr>\n",
       "  </thead>\n",
       "  <tbody>\n",
       "    <tr>\n",
       "      <th>0</th>\n",
       "      <td>156</td>\n",
       "      <td>33930.101363</td>\n",
       "    </tr>\n",
       "    <tr>\n",
       "      <th>1</th>\n",
       "      <td>56</td>\n",
       "      <td>31700.373145</td>\n",
       "    </tr>\n",
       "    <tr>\n",
       "      <th>2</th>\n",
       "      <td>92</td>\n",
       "      <td>34145.146213</td>\n",
       "    </tr>\n",
       "    <tr>\n",
       "      <th>3</th>\n",
       "      <td>150</td>\n",
       "      <td>30228.223812</td>\n",
       "    </tr>\n",
       "    <tr>\n",
       "      <th>4</th>\n",
       "      <td>15</td>\n",
       "      <td>15150.922192</td>\n",
       "    </tr>\n",
       "  </tbody>\n",
       "</table>\n",
       "</div>"
      ],
      "text/plain": [
       "  Days     Primogems\n",
       "0  156  33930.101363\n",
       "1   56  31700.373145\n",
       "2   92  34145.146213\n",
       "3  150  30228.223812\n",
       "4   15  15150.922192"
      ]
     },
     "execution_count": 28,
     "metadata": {},
     "output_type": "execute_result"
    }
   ],
   "source": [
    "df_test.head(5)"
   ]
  },
  {
   "cell_type": "code",
   "execution_count": 29,
   "id": "3561e2d7",
   "metadata": {
    "scrolled": true
   },
   "outputs": [
    {
     "data": {
      "text/html": [
       "<div>\n",
       "<style scoped>\n",
       "    .dataframe tbody tr th:only-of-type {\n",
       "        vertical-align: middle;\n",
       "    }\n",
       "\n",
       "    .dataframe tbody tr th {\n",
       "        vertical-align: top;\n",
       "    }\n",
       "\n",
       "    .dataframe thead th {\n",
       "        text-align: right;\n",
       "    }\n",
       "</style>\n",
       "<table border=\"1\" class=\"dataframe\">\n",
       "  <thead>\n",
       "    <tr style=\"text-align: right;\">\n",
       "      <th></th>\n",
       "      <th>Days</th>\n",
       "      <th>Primogems</th>\n",
       "    </tr>\n",
       "  </thead>\n",
       "  <tbody>\n",
       "    <tr>\n",
       "      <th>20</th>\n",
       "      <td>0</td>\n",
       "      <td>11962.407089</td>\n",
       "    </tr>\n",
       "    <tr>\n",
       "      <th>50</th>\n",
       "      <td>5</td>\n",
       "      <td>12482.282379</td>\n",
       "    </tr>\n",
       "    <tr>\n",
       "      <th>7</th>\n",
       "      <td>8</td>\n",
       "      <td>13085.065917</td>\n",
       "    </tr>\n",
       "    <tr>\n",
       "      <th>35</th>\n",
       "      <td>10</td>\n",
       "      <td>13589.761236</td>\n",
       "    </tr>\n",
       "    <tr>\n",
       "      <th>13</th>\n",
       "      <td>11</td>\n",
       "      <td>13869.797600</td>\n",
       "    </tr>\n",
       "  </tbody>\n",
       "</table>\n",
       "</div>"
      ],
      "text/plain": [
       "   Days     Primogems\n",
       "20    0  11962.407089\n",
       "50    5  12482.282379\n",
       "7     8  13085.065917\n",
       "35   10  13589.761236\n",
       "13   11  13869.797600"
      ]
     },
     "execution_count": 29,
     "metadata": {},
     "output_type": "execute_result"
    }
   ],
   "source": [
    "df_test.sort_values(by='Days').head(5)"
   ]
  },
  {
   "cell_type": "code",
   "execution_count": 30,
   "id": "afa9ecd1",
   "metadata": {},
   "outputs": [
    {
     "data": {
      "image/png": "[encoded data removed]",
      "text/plain": [
       "<Figure size 432x288 with 1 Axes>"
      ]
     },
     "metadata": {
      "needs_background": "light"
     },
     "output_type": "display_data"
    }
   ],
   "source": [
    "plt.scatter(np.int_(df_new_primogems_wk23['Days'].values),np.int_(df_new_primogems_wk23['Primogems'].values), color = 'red')\n",
    "plt.plot(np.int_(df_new_primogems_wk23['Days'].values),np.int_(df_new_primogems_wk23['Primogems'].values), color = 'red', linestyle='dashed')\n",
    "\n",
    "\n",
    "plt.scatter(X_test,lin_reg_2.predict(poly_reg.transform(X_test)), color = 'purple')\n",
    "plt.plot(df_test.sort_values(by='Days')['Days'].values, df_test.sort_values(by='Days')['Primogems'].values, color = 'green',linewidth=3 )\n",
    "plt.title('Primo/day')\n",
    "plt.xlabel('Day')\n",
    "plt.ylabel('Primos')\n",
    "plt.grid()\n",
    "plt.show()"
   ]
  },
  {
   "cell_type": "code",
   "execution_count": 31,
   "id": "fd9d795f",
   "metadata": {},
   "outputs": [
    {
     "data": {
      "text/plain": [
       "0.7332570791567059"
      ]
     },
     "execution_count": 31,
     "metadata": {},
     "output_type": "execute_result"
    }
   ],
   "source": [
    "lin_reg_2.score(poly_reg.transform(X_test),y_test)"
   ]
  },
  {
   "cell_type": "markdown",
   "id": "1b01f403",
   "metadata": {},
   "source": [
    "## Training the SVR model on the whole data set"
   ]
  },
  {
   "cell_type": "markdown",
   "id": "e6a4fdbd-d44a-4118-998d-ba43b2bd328c",
   "metadata": {},
   "source": [
    "<p style=\"font-size: 15px\">Here I notice that it might be a little biases due to early game having so many ways of acquiring primogems, so I removed a few early game data</p>"
   ]
  },
  {
   "cell_type": "code",
   "execution_count": 32,
   "id": "10741584",
   "metadata": {},
   "outputs": [],
   "source": [
    "from sklearn.preprocessing import StandardScaler\n",
    "sc_X = StandardScaler()\n",
    "sc_y = StandardScaler()\n",
    "early_days=10\n",
    "X= sc_X.fit_transform(df_new_primogems.dropna().iloc[early_days:, :-1].values)\n",
    "y= sc_y.fit_transform(df_new_primogems.dropna().iloc[early_days:, -1].values.reshape(len(df_new_primogems.dropna().iloc[early_days:, -1]),1))\n"
   ]
  },
  {
   "cell_type": "code",
   "execution_count": 33,
   "id": "4108b3b1",
   "metadata": {
    "scrolled": true
   },
   "outputs": [],
   "source": [
    "from sklearn.model_selection import train_test_split\n",
    "X_train, X_test, y_train, y_test = train_test_split(X,\n",
    "                                                    y,\n",
    "                                                    test_size = 0.2,\n",
    "                                                    random_state = None)"
   ]
  },
  {
   "cell_type": "code",
   "execution_count": 34,
   "id": "0ff68606",
   "metadata": {
    "scrolled": true
   },
   "outputs": [
    {
     "name": "stdout",
     "output_type": "stream",
     "text": [
      "(289, 1)\n",
      "(289, 1)\n"
     ]
    }
   ],
   "source": [
    "print(f\"{X_train.shape}\\n{y_train.shape}\")"
   ]
  },
  {
   "cell_type": "code",
   "execution_count": 35,
   "id": "d3e5b560-1b60-4144-ad83-9af02584d538",
   "metadata": {},
   "outputs": [
    {
     "name": "stdout",
     "output_type": "stream",
     "text": [
      "(73, 1)\n",
      "(73, 1)\n"
     ]
    }
   ],
   "source": [
    "print(f\"{X_test.shape}\\n{y_test.shape}\")"
   ]
  },
  {
   "cell_type": "code",
   "execution_count": 36,
   "id": "5bd0bc0d",
   "metadata": {},
   "outputs": [
    {
     "name": "stderr",
     "output_type": "stream",
     "text": [
      "C:\\Users\\Nikolas\\anaconda3\\lib\\site-packages\\sklearn\\utils\\validation.py:985: DataConversionWarning: A column-vector y was passed when a 1d array was expected. Please change the shape of y to (n_samples, ), for example using ravel().\n",
      "  y = column_or_1d(y, warn=True)\n"
     ]
    },
    {
     "data": {
      "text/plain": [
       "SVR(C=1.75)"
      ]
     },
     "execution_count": 36,
     "metadata": {},
     "output_type": "execute_result"
    }
   ],
   "source": [
    "from sklearn.svm import SVR\n",
    "regressor = SVR(kernel = 'rbf',C=1.75)\n",
    "regressor.fit(X_train, y_train)"
   ]
  },
  {
   "cell_type": "code",
   "execution_count": 37,
   "id": "9c101c39",
   "metadata": {},
   "outputs": [
    {
     "data": {
      "text/plain": [
       "array([[40333.04554237, 17155.13437323, 33463.61155211, 16698.6598251 ,\n",
       "        55270.6540744 , 32607.57985138, 32904.40493448, 13201.47842801,\n",
       "        28922.61342465, 21116.00756271, 32735.71527949, 52463.28990237,\n",
       "        32642.31769535, 57451.97930089, 57552.81609107, 37252.89936286,\n",
       "        33998.93368867, 44460.21868829, 54579.14146466, 16700.88928164,\n",
       "        32699.5503188 , 52568.40507808, 32885.67683994, 33029.17262441,\n",
       "        17621.46569032, 32855.36833662, 33063.52588987, 39459.99929479,\n",
       "        45160.49536546, 19089.7898729 , 20796.52839882, 56286.05396334,\n",
       "        50527.88769955, 41545.3489087 , 22386.33693612, 49624.86793179,\n",
       "        32636.45890492, 41133.40714873, 32748.0690223 ,  9991.47103799,\n",
       "        57511.35446028, 31380.73324361, 33164.23810194, 38475.9455753 ,\n",
       "        33029.46964418, 54821.4868452 , 33417.43161427, 37848.44720667,\n",
       "        32080.39743011, 47773.94140535, 11063.98625047,  9713.57891874,\n",
       "        56472.58830044, 31463.68292752, 33464.67872321, 32659.10522544,\n",
       "        44837.33900994, 31952.74239317, 26436.04086056, 35308.76012608,\n",
       "        51382.22709591, 57449.4959831 , 50961.26520301, 37032.60119541,\n",
       "         9698.87176101, 56857.22892271, 27106.6399757 , 30527.68816838,\n",
       "        33452.32932034, 12012.96333779, 52186.0044776 , 57190.68458028,\n",
       "        30825.01340881]])"
      ]
     },
     "execution_count": 37,
     "metadata": {},
     "output_type": "execute_result"
    }
   ],
   "source": [
    "sc_y.inverse_transform([regressor.predict(X_test)])"
   ]
  },
  {
   "cell_type": "code",
   "execution_count": 38,
   "id": "5ca30c47",
   "metadata": {},
   "outputs": [
    {
     "data": {
      "text/plain": [
       "0.8484916468305942"
      ]
     },
     "execution_count": 38,
     "metadata": {},
     "output_type": "execute_result"
    }
   ],
   "source": [
    "regressor.score(X_test,y_test)"
   ]
  },
  {
   "cell_type": "code",
   "execution_count": 39,
   "id": "9f2ca9d3-0bd7-4b1e-b7d3-f88d06dceb1b",
   "metadata": {
    "tags": []
   },
   "outputs": [],
   "source": [
    "a=sc_X.inverse_transform(X_test)"
   ]
  },
  {
   "cell_type": "code",
   "execution_count": 40,
   "id": "c76cc958-b544-46e9-b2a9-aab747a357d2",
   "metadata": {},
   "outputs": [],
   "source": [
    "b=sc_y.inverse_transform([regressor.predict(X_test)])"
   ]
  },
  {
   "cell_type": "code",
   "execution_count": 41,
   "id": "7fbf95c9-9858-4029-aaaa-b7b76e771394",
   "metadata": {},
   "outputs": [],
   "source": [
    "da=[]\n",
    "pb=[]\n",
    "for i in range(len(a)):\n",
    "    da.append(a[i][0])\n",
    "    pb.append(b[0][i])"
   ]
  },
  {
   "cell_type": "code",
   "execution_count": 42,
   "id": "b0488be2-5604-48f9-ac5a-a82ec3077097",
   "metadata": {},
   "outputs": [
    {
     "data": {
      "text/html": [
       "<div>\n",
       "<style scoped>\n",
       "    .dataframe tbody tr th:only-of-type {\n",
       "        vertical-align: middle;\n",
       "    }\n",
       "\n",
       "    .dataframe tbody tr th {\n",
       "        vertical-align: top;\n",
       "    }\n",
       "\n",
       "    .dataframe thead th {\n",
       "        text-align: right;\n",
       "    }\n",
       "</style>\n",
       "<table border=\"1\" class=\"dataframe\">\n",
       "  <thead>\n",
       "    <tr style=\"text-align: right;\">\n",
       "      <th></th>\n",
       "      <th>Days</th>\n",
       "      <th>Primogems</th>\n",
       "    </tr>\n",
       "  </thead>\n",
       "  <tbody>\n",
       "    <tr>\n",
       "      <th>0</th>\n",
       "      <td>10.0</td>\n",
       "      <td>16698.659825</td>\n",
       "    </tr>\n",
       "    <tr>\n",
       "      <th>1</th>\n",
       "      <td>23.0</td>\n",
       "      <td>20796.528399</td>\n",
       "    </tr>\n",
       "    <tr>\n",
       "      <th>2</th>\n",
       "      <td>24.0</td>\n",
       "      <td>21116.007563</td>\n",
       "    </tr>\n",
       "    <tr>\n",
       "      <th>3</th>\n",
       "      <td>28.0</td>\n",
       "      <td>22386.336936</td>\n",
       "    </tr>\n",
       "    <tr>\n",
       "      <th>4</th>\n",
       "      <td>44.0</td>\n",
       "      <td>27106.639976</td>\n",
       "    </tr>\n",
       "  </tbody>\n",
       "</table>\n",
       "</div>"
      ],
      "text/plain": [
       "   Days     Primogems\n",
       "0  10.0  16698.659825\n",
       "1  23.0  20796.528399\n",
       "2  24.0  21116.007563\n",
       "3  28.0  22386.336936\n",
       "4  44.0  27106.639976"
      ]
     },
     "execution_count": 42,
     "metadata": {},
     "output_type": "execute_result"
    }
   ],
   "source": [
    "df_test=pd.DataFrame({'Days':da,'Primogems':pb})\n",
    "df_test=df_test.sort_values(by='Days')\n",
    "df_test.reset_index(inplace=True,drop=True)\n",
    "df_test.head()"
   ]
  },
  {
   "cell_type": "code",
   "execution_count": 43,
   "id": "79dd2857",
   "metadata": {},
   "outputs": [],
   "source": [
    "pred_value=range(400,550,25)"
   ]
  },
  {
   "cell_type": "code",
   "execution_count": 44,
   "id": "33d4154b-d2b5-475e-9bd1-c04359d7b636",
   "metadata": {},
   "outputs": [
    {
     "name": "stdout",
     "output_type": "stream",
     "text": [
      "[12109, 20135, 28816, 34435, 36127, 35099]\n"
     ]
    }
   ],
   "source": [
    "pv=[]\n",
    "for p_v in pred_value:\n",
    "    pv.append(int(sc_y.inverse_transform([regressor.predict(sc_X.transform([[p_v]]))])[0][0]))\n",
    "print(pv)"
   ]
  },
  {
   "cell_type": "code",
   "execution_count": 45,
   "id": "b99ae114",
   "metadata": {},
   "outputs": [
    {
     "data": {
      "image/png": "[encoded data removed]",
      "text/plain": [
       "<Figure size 432x288 with 1 Axes>"
      ]
     },
     "metadata": {
      "needs_background": "light"
     },
     "output_type": "display_data"
    }
   ],
   "source": [
    "s=plt.scatter(np.int_(df_new_primogems.dropna()['Days'].values),np.int_(df_new_primogems.dropna()['Primogems'].values), color = 'red')\n",
    "p=plt.plot(np.int_(df_new_primogems.dropna()['Days'].values),np.int_(df_new_primogems.dropna()['Primogems'].values), color = 'red', linestyle='dashed')\n",
    "\n",
    "s_t=plt.scatter(sc_X.inverse_transform(X_test),sc_y.inverse_transform([regressor.predict(X_test)]),color = 'purple')\n",
    "s_t1=plt.scatter(pred_value,pv,color = 'green')\n",
    "plt.plot(df_test['Days'].values,df_test['Primogems'].values, color = 'green', linewidth='2')\n",
    "\n",
    "plt.title('Primo/day')\n",
    "plt.xlabel('Day')\n",
    "plt.ylabel('Primos')\n",
    "plt.legend((s,s_t,s_t1),\n",
    "           ('Real Earn','Pred. Earn',f'Pred. Values'),\n",
    "           loc='upper left', \n",
    "           bbox_to_anchor=(1, 1.025))\n",
    "plt.grid()\n",
    "plt.show()\n"
   ]
  },
  {
   "cell_type": "markdown",
   "id": "67f15dfd-6d87-41f0-b8f4-845a83e71ddd",
   "metadata": {},
   "source": [
    "# Testing and Validating in a new updated dataset\n",
    "<p style=\"font-size: 15px\">After a few weeks of collecting more data, here is the result of my predictor</p>"
   ]
  },
  {
   "cell_type": "code",
   "execution_count": 46,
   "id": "75432796",
   "metadata": {
    "scrolled": true
   },
   "outputs": [
    {
     "data": {
      "text/html": [
       "<div>\n",
       "<style scoped>\n",
       "    .dataframe tbody tr th:only-of-type {\n",
       "        vertical-align: middle;\n",
       "    }\n",
       "\n",
       "    .dataframe tbody tr th {\n",
       "        vertical-align: top;\n",
       "    }\n",
       "\n",
       "    .dataframe thead th {\n",
       "        text-align: right;\n",
       "    }\n",
       "</style>\n",
       "<table border=\"1\" class=\"dataframe\">\n",
       "  <thead>\n",
       "    <tr style=\"text-align: right;\">\n",
       "      <th></th>\n",
       "      <th>Week 01</th>\n",
       "      <th>Week 02</th>\n",
       "      <th>Week 03</th>\n",
       "      <th>Week 04</th>\n",
       "      <th>Week 05</th>\n",
       "      <th>Week 06</th>\n",
       "      <th>Week 07</th>\n",
       "      <th>Week 08</th>\n",
       "      <th>Week 09</th>\n",
       "      <th>Week 10</th>\n",
       "      <th>...</th>\n",
       "      <th>Week 70</th>\n",
       "      <th>Week 71</th>\n",
       "      <th>Week 72</th>\n",
       "      <th>Week 73</th>\n",
       "      <th>Week 74</th>\n",
       "      <th>Week 75</th>\n",
       "      <th>Week 76</th>\n",
       "      <th>Week 77</th>\n",
       "      <th>Week 78</th>\n",
       "      <th>Week 79</th>\n",
       "    </tr>\n",
       "  </thead>\n",
       "  <tbody>\n",
       "    <tr>\n",
       "      <th>0</th>\n",
       "      <td>4204</td>\n",
       "      <td>13112</td>\n",
       "      <td>17437</td>\n",
       "      <td>18584</td>\n",
       "      <td>21375</td>\n",
       "      <td>23665</td>\n",
       "      <td>24874.0</td>\n",
       "      <td>28456.0</td>\n",
       "      <td>30807.0</td>\n",
       "      <td>28277.0</td>\n",
       "      <td>...</td>\n",
       "      <td>45864.0</td>\n",
       "      <td>47722.0</td>\n",
       "      <td>50598.0</td>\n",
       "      <td>52228.0</td>\n",
       "      <td>1140.0</td>\n",
       "      <td>2837.0</td>\n",
       "      <td>3907.0</td>\n",
       "      <td>6776.0</td>\n",
       "      <td>8785.0</td>\n",
       "      <td>11119.0</td>\n",
       "    </tr>\n",
       "    <tr>\n",
       "      <th>1</th>\n",
       "      <td>7255</td>\n",
       "      <td>13524</td>\n",
       "      <td>17499</td>\n",
       "      <td>18759</td>\n",
       "      <td>21755</td>\n",
       "      <td>23915</td>\n",
       "      <td>25734.0</td>\n",
       "      <td>29128.0</td>\n",
       "      <td>30982.0</td>\n",
       "      <td>28652.0</td>\n",
       "      <td>...</td>\n",
       "      <td>46564.0</td>\n",
       "      <td>48372.0</td>\n",
       "      <td>50748.0</td>\n",
       "      <td>12818.0</td>\n",
       "      <td>1740.0</td>\n",
       "      <td>2987.0</td>\n",
       "      <td>4697.0</td>\n",
       "      <td>6926.0</td>\n",
       "      <td>9535.0</td>\n",
       "      <td>12219.0</td>\n",
       "    </tr>\n",
       "    <tr>\n",
       "      <th>2</th>\n",
       "      <td>9634</td>\n",
       "      <td>15035</td>\n",
       "      <td>17689</td>\n",
       "      <td>19502</td>\n",
       "      <td>22615</td>\n",
       "      <td>24065</td>\n",
       "      <td>26423.0</td>\n",
       "      <td>29513.0</td>\n",
       "      <td>31182.0</td>\n",
       "      <td>29117.0</td>\n",
       "      <td>...</td>\n",
       "      <td>46764.0</td>\n",
       "      <td>48542.0</td>\n",
       "      <td>50998.0</td>\n",
       "      <td>12968.0</td>\n",
       "      <td>2040.0</td>\n",
       "      <td>3137.0</td>\n",
       "      <td>4847.0</td>\n",
       "      <td>7078.0</td>\n",
       "      <td>9685.0</td>\n",
       "      <td>12429.0</td>\n",
       "    </tr>\n",
       "    <tr>\n",
       "      <th>3</th>\n",
       "      <td>11041</td>\n",
       "      <td>15586</td>\n",
       "      <td>17959</td>\n",
       "      <td>19661</td>\n",
       "      <td>22795</td>\n",
       "      <td>24267</td>\n",
       "      <td>26878.0</td>\n",
       "      <td>29825.0</td>\n",
       "      <td>31302.0</td>\n",
       "      <td>29567.0</td>\n",
       "      <td>...</td>\n",
       "      <td>46925.0</td>\n",
       "      <td>48737.0</td>\n",
       "      <td>51148.0</td>\n",
       "      <td>318.0</td>\n",
       "      <td>2195.0</td>\n",
       "      <td>3307.0</td>\n",
       "      <td>5017.0</td>\n",
       "      <td>7228.0</td>\n",
       "      <td>9835.0</td>\n",
       "      <td>12579.0</td>\n",
       "    </tr>\n",
       "    <tr>\n",
       "      <th>4</th>\n",
       "      <td>11658</td>\n",
       "      <td>16152</td>\n",
       "      <td>18093</td>\n",
       "      <td>20273</td>\n",
       "      <td>22975</td>\n",
       "      <td>24417</td>\n",
       "      <td>27163.0</td>\n",
       "      <td>30135.0</td>\n",
       "      <td>31452.0</td>\n",
       "      <td>30087.0</td>\n",
       "      <td>...</td>\n",
       "      <td>47077.0</td>\n",
       "      <td>49818.0</td>\n",
       "      <td>51358.0</td>\n",
       "      <td>528.0</td>\n",
       "      <td>2345.0</td>\n",
       "      <td>3457.0</td>\n",
       "      <td>5167.0</td>\n",
       "      <td>7700.0</td>\n",
       "      <td>9985.0</td>\n",
       "      <td>12729.0</td>\n",
       "    </tr>\n",
       "  </tbody>\n",
       "</table>\n",
       "<p>5 rows × 79 columns</p>\n",
       "</div>"
      ],
      "text/plain": [
       "  Week 01 Week 02 Week 03 Week 04 Week 05 Week 06  Week 07  Week 08  Week 09  \\\n",
       "0    4204   13112   17437   18584   21375   23665  24874.0  28456.0  30807.0   \n",
       "1    7255   13524   17499   18759   21755   23915  25734.0  29128.0  30982.0   \n",
       "2    9634   15035   17689   19502   22615   24065  26423.0  29513.0  31182.0   \n",
       "3   11041   15586   17959   19661   22795   24267  26878.0  29825.0  31302.0   \n",
       "4   11658   16152   18093   20273   22975   24417  27163.0  30135.0  31452.0   \n",
       "\n",
       "   Week 10  ...  Week 70  Week 71  Week 72  Week 73  Week 74  Week 75  \\\n",
       "0  28277.0  ...  45864.0  47722.0  50598.0  52228.0   1140.0   2837.0   \n",
       "1  28652.0  ...  46564.0  48372.0  50748.0  12818.0   1740.0   2987.0   \n",
       "2  29117.0  ...  46764.0  48542.0  50998.0  12968.0   2040.0   3137.0   \n",
       "3  29567.0  ...  46925.0  48737.0  51148.0    318.0   2195.0   3307.0   \n",
       "4  30087.0  ...  47077.0  49818.0  51358.0    528.0   2345.0   3457.0   \n",
       "\n",
       "   Week 76  Week 77  Week 78  Week 79  \n",
       "0   3907.0   6776.0   8785.0  11119.0  \n",
       "1   4697.0   6926.0   9535.0  12219.0  \n",
       "2   4847.0   7078.0   9685.0  12429.0  \n",
       "3   5017.0   7228.0   9835.0  12579.0  \n",
       "4   5167.0   7700.0   9985.0  12729.0  \n",
       "\n",
       "[5 rows x 79 columns]"
      ]
     },
     "execution_count": 46,
     "metadata": {},
     "output_type": "execute_result"
    }
   ],
   "source": [
    "df_primogems2022 = pd.read_csv('./GI - Journey - primogems2022.csv')\n",
    "df_primogems2022= df_primogems2022.loc[:7,'Week 01':]\n",
    "df_primogems2022.head(5)"
   ]
  },
  {
   "cell_type": "code",
   "execution_count": 47,
   "id": "2fe9d77e-8388-4550-80da-51f183e437ed",
   "metadata": {
    "tags": []
   },
   "outputs": [
    {
     "data": {
      "text/plain": [
       "(8, 79)"
      ]
     },
     "execution_count": 47,
     "metadata": {},
     "output_type": "execute_result"
    }
   ],
   "source": [
    "df_primogems2022.shape"
   ]
  },
  {
   "cell_type": "code",
   "execution_count": 48,
   "id": "693e08e9",
   "metadata": {},
   "outputs": [],
   "source": [
    "df_new_primogems2022 = pd.DataFrame({'Days':[\"0\"],'Primogems':[\"0\"]})\n",
    "days=0\n",
    "size=0\n",
    "for d in  range(0,df_primogems2022.size):\n",
    "    df_new_primogems2022.at[d,'Days']=days\n",
    "    days +=1\n",
    "for i in df_primogems2022.keys():\n",
    "    for j in  df_primogems2022.index.tolist() :\n",
    "        df_new_primogems2022.at[size,'Primogems']=df_primogems2022.loc[j,i]\n",
    "        size+=1"
   ]
  },
  {
   "cell_type": "code",
   "execution_count": 49,
   "id": "e46e3e43-df2b-4cae-9e04-3aec3569b806",
   "metadata": {},
   "outputs": [
    {
     "data": {
      "text/html": [
       "<div>\n",
       "<style scoped>\n",
       "    .dataframe tbody tr th:only-of-type {\n",
       "        vertical-align: middle;\n",
       "    }\n",
       "\n",
       "    .dataframe tbody tr th {\n",
       "        vertical-align: top;\n",
       "    }\n",
       "\n",
       "    .dataframe thead th {\n",
       "        text-align: right;\n",
       "    }\n",
       "</style>\n",
       "<table border=\"1\" class=\"dataframe\">\n",
       "  <thead>\n",
       "    <tr style=\"text-align: right;\">\n",
       "      <th></th>\n",
       "      <th>Days</th>\n",
       "      <th>Primogems</th>\n",
       "    </tr>\n",
       "  </thead>\n",
       "  <tbody>\n",
       "    <tr>\n",
       "      <th>0</th>\n",
       "      <td>0</td>\n",
       "      <td>4204</td>\n",
       "    </tr>\n",
       "    <tr>\n",
       "      <th>1</th>\n",
       "      <td>1</td>\n",
       "      <td>7255</td>\n",
       "    </tr>\n",
       "    <tr>\n",
       "      <th>2</th>\n",
       "      <td>2</td>\n",
       "      <td>9634</td>\n",
       "    </tr>\n",
       "    <tr>\n",
       "      <th>3</th>\n",
       "      <td>3</td>\n",
       "      <td>11041</td>\n",
       "    </tr>\n",
       "    <tr>\n",
       "      <th>4</th>\n",
       "      <td>4</td>\n",
       "      <td>11658</td>\n",
       "    </tr>\n",
       "    <tr>\n",
       "      <th>...</th>\n",
       "      <td>...</td>\n",
       "      <td>...</td>\n",
       "    </tr>\n",
       "    <tr>\n",
       "      <th>627</th>\n",
       "      <td>627</td>\n",
       "      <td>12579.0</td>\n",
       "    </tr>\n",
       "    <tr>\n",
       "      <th>628</th>\n",
       "      <td>628</td>\n",
       "      <td>12729.0</td>\n",
       "    </tr>\n",
       "    <tr>\n",
       "      <th>629</th>\n",
       "      <td>629</td>\n",
       "      <td>NaN</td>\n",
       "    </tr>\n",
       "    <tr>\n",
       "      <th>630</th>\n",
       "      <td>630</td>\n",
       "      <td>NaN</td>\n",
       "    </tr>\n",
       "    <tr>\n",
       "      <th>631</th>\n",
       "      <td>631</td>\n",
       "      <td>NaN</td>\n",
       "    </tr>\n",
       "  </tbody>\n",
       "</table>\n",
       "<p>632 rows × 2 columns</p>\n",
       "</div>"
      ],
      "text/plain": [
       "    Days Primogems\n",
       "0      0      4204\n",
       "1      1      7255\n",
       "2      2      9634\n",
       "3      3     11041\n",
       "4      4     11658\n",
       "..   ...       ...\n",
       "627  627   12579.0\n",
       "628  628   12729.0\n",
       "629  629       NaN\n",
       "630  630       NaN\n",
       "631  631       NaN\n",
       "\n",
       "[632 rows x 2 columns]"
      ]
     },
     "execution_count": 49,
     "metadata": {},
     "output_type": "execute_result"
    }
   ],
   "source": [
    "df_new_primogems2022"
   ]
  },
  {
   "cell_type": "code",
   "execution_count": 50,
   "id": "4d38c644",
   "metadata": {},
   "outputs": [
    {
     "data": {
      "text/plain": [
       "Days             628\n",
       "Primogems    12729.0\n",
       "Name: 628, dtype: object"
      ]
     },
     "execution_count": 50,
     "metadata": {},
     "output_type": "execute_result"
    }
   ],
   "source": [
    "df_new_primogems2022.iloc[628]"
   ]
  },
  {
   "cell_type": "code",
   "execution_count": 51,
   "id": "06a52e67-f05e-439c-ae4c-be57cd9c3c73",
   "metadata": {},
   "outputs": [
    {
     "data": {
      "text/plain": [
       "1264"
      ]
     },
     "execution_count": 51,
     "metadata": {},
     "output_type": "execute_result"
    }
   ],
   "source": [
    "df_new_primogems2022.size"
   ]
  },
  {
   "cell_type": "markdown",
   "id": "097453bc-9d79-4fcc-9d62-ecad4a72b085",
   "metadata": {
    "tags": []
   },
   "source": [
    "# Plotting same prediction as before \n",
    "<br>\n",
    "<p style=\"font-size: 15px\">The Values are pretty great, it is not the exact value but it is predicting, a few days before, when I will begin spending my earns</p>"
   ]
  },
  {
   "cell_type": "code",
   "execution_count": 52,
   "id": "62f88ad1-11e1-4717-ba01-0ca8513d523b",
   "metadata": {},
   "outputs": [
    {
     "data": {
      "image/png": "[encoded data removed]",
      "text/plain": [
       "<Figure size 432x288 with 1 Axes>"
      ]
     },
     "metadata": {
      "needs_background": "light"
     },
     "output_type": "display_data"
    }
   ],
   "source": [
    "s=plt.scatter(np.int_(df_new_primogems2022.dropna()['Days'].values),np.int_(df_new_primogems2022.dropna()['Primogems'].values), color = 'red')\n",
    "p=plt.plot(np.int_(df_new_primogems2022.dropna()['Days'].values),np.int_(df_new_primogems2022.dropna()['Primogems'].values), color = 'red', linestyle='dashed')\n",
    "\n",
    "s_t=plt.scatter(sc_X.inverse_transform(X_test),sc_y.inverse_transform([regressor.predict(X_test)]),color = 'purple')\n",
    "s_t1=plt.scatter(pred_value,pv,color = 'green')\n",
    "plt.plot(df_test['Days'].values,df_test['Primogems'].values, color = 'green', linewidth='2')\n",
    "\n",
    "plt.title('Primo/day')\n",
    "plt.xlabel('Day')\n",
    "plt.ylabel('Primos')\n",
    "plt.legend((s,s_t,s_t1),\n",
    "           ('Real Earn','Pred. Earn',f'Pred. Values'),\n",
    "           loc='upper left', \n",
    "           bbox_to_anchor=(1, 1.025))\n",
    "plt.grid()\n",
    "plt.show()\n"
   ]
  },
  {
   "cell_type": "code",
   "execution_count": null,
   "id": "5a5e9e7b-3035-4fa2-9f15-6b50bb0e2dbc",
   "metadata": {},
   "outputs": [],
   "source": []
  }
 ],
 "metadata": {
  "kernelspec": {
   "display_name": "Python 3 (ipykernel)",
   "language": "python",
   "name": "python3"
  },
  "language_info": {
   "codemirror_mode": {
    "name": "ipython",
    "version": 3
   },
   "file_extension": ".py",
   "mimetype": "text/x-python",
   "name": "python",
   "nbconvert_exporter": "python",
   "pygments_lexer": "ipython3",
   "version": "3.8.8"
  }
 },
 "nbformat": 4,
 "nbformat_minor": 5
}
